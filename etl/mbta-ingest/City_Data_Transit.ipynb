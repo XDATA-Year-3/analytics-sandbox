{
 "cells": [
  {
   "cell_type": "code",
   "execution_count": 16,
   "metadata": {
    "collapsed": false
   },
   "outputs": [],
   "source": [
    "import datetime\n",
    "import itertools\n",
    "import json\n",
    "import numpy as np\n",
    "import os\n",
    "import pandas as pd\n",
    "from pandas_helpers import *\n",
    "import pickle\n",
    "import pprint\n",
    "import random\n",
    "import re\n",
    "import requests\n",
    "import seaborn\n",
    "import sys\n",
    "import time\n",
    "\n",
    "pd.set_option('display.precision', 20)\n",
    "\n",
    "DATA_DIR = 'data/citydata/transit'\n",
    "\n",
    "random.seed(90210)"
   ]
  },
  {
   "cell_type": "markdown",
   "metadata": {},
   "source": [
    "# Transit Data"
   ]
  },
  {
   "cell_type": "code",
   "execution_count": 5,
   "metadata": {
    "collapsed": false
   },
   "outputs": [
    {
     "name": "stdout",
     "output_type": "stream",
     "text": [
      "MBTA LATE NIGHT DATA\r\n",
      "\r\n",
      "Data is number of transactions recorded by MBTA fare gates, buses, and light rail vehicles\r\n",
      "Only includes transactions after 10pm on Fridays and Saturdays from March 1 2013 to June 14 2014\r\n",
      "Transactions grouped by date, route or line, and 15-minute window.\r\n",
      "\r\n",
      "Field definitions\r\n",
      "\r\n",
      "scheduledate: service date, which includes hours after midnight (e.g. 1am on June 14 has a service date of June 13)\r\n",
      "latenightroute: 0 = no late night service scheduled, 1 = late night service scheduled.\r\n",
      "\tThis only indicates whether a route currently has late night service, not whether it had late night on that particular day\r\n",
      "\tIntended to facilitate comparisons for routes whose hours were extended\r\n",
      "\tSome routes will still have transactions after 1am even though they do not have extended hours, this is because their last trip is around 1am\r\n",
      "line: indicates rapid transit line (Red, Blue, Orange, Green, Silver) or bus\r\n",
      "routestation: indicates the station for rapid transit services and the route for bus services\r\n",
      "trxdow: day of week, 5 = Friday 6 = Satruday\r\n",
      "trxhour: hour, 22 (10pm) - 27 (3am)\r\n",
      "trx15min: 15-min period, 0= :00-:14, 3= :045-:59\r\n",
      "transactions: total transactions\r\n"
     ]
    }
   ],
   "source": [
    "!cat $DATA_DIR/Late_night_ridership_data_README.txt"
   ]
  },
  {
   "cell_type": "code",
   "execution_count": 230,
   "metadata": {
    "collapsed": false
   },
   "outputs": [],
   "source": [
    "df = pd.read_csv(os.path.join(DATA_DIR, 'LateNight_thru_7June2014.csv'), \n",
    "                 parse_dates=['scheduledate'],\n",
    "                 usecols=['scheduledate', 'trxhour', 'line', 'transactions'])\n",
    "\n",
    "# There are roughly 3k rows with nothing in them at the bottom of the csv\n",
    "df.dropna(inplace=True)"
   ]
  },
  {
   "cell_type": "code",
   "execution_count": 231,
   "metadata": {
    "collapsed": false,
    "scrolled": true
   },
   "outputs": [
    {
     "data": {
      "text/html": [
       "<div>\n",
       "<table border=\"1\" class=\"dataframe\">\n",
       "  <thead>\n",
       "    <tr style=\"text-align: right;\">\n",
       "      <th></th>\n",
       "      <th>scheduledate</th>\n",
       "      <th>line</th>\n",
       "      <th>trxhour</th>\n",
       "      <th>transactions</th>\n",
       "    </tr>\n",
       "  </thead>\n",
       "  <tbody>\n",
       "    <tr>\n",
       "      <th>0</th>\n",
       "      <td>2013-03-01</td>\n",
       "      <td>Bus</td>\n",
       "      <td>22</td>\n",
       "      <td>17</td>\n",
       "    </tr>\n",
       "    <tr>\n",
       "      <th>1</th>\n",
       "      <td>2013-03-01</td>\n",
       "      <td>Bus</td>\n",
       "      <td>22</td>\n",
       "      <td>8</td>\n",
       "    </tr>\n",
       "    <tr>\n",
       "      <th>2</th>\n",
       "      <td>2013-03-01</td>\n",
       "      <td>Bus</td>\n",
       "      <td>22</td>\n",
       "      <td>8</td>\n",
       "    </tr>\n",
       "    <tr>\n",
       "      <th>3</th>\n",
       "      <td>2013-03-01</td>\n",
       "      <td>Bus</td>\n",
       "      <td>22</td>\n",
       "      <td>5</td>\n",
       "    </tr>\n",
       "    <tr>\n",
       "      <th>4</th>\n",
       "      <td>2013-03-01</td>\n",
       "      <td>Bus</td>\n",
       "      <td>23</td>\n",
       "      <td>4</td>\n",
       "    </tr>\n",
       "  </tbody>\n",
       "</table>\n",
       "</div>"
      ],
      "text/plain": [
       "  scheduledate line  trxhour  transactions\n",
       "0   2013-03-01  Bus       22            17\n",
       "1   2013-03-01  Bus       22             8\n",
       "2   2013-03-01  Bus       22             8\n",
       "3   2013-03-01  Bus       22             5\n",
       "4   2013-03-01  Bus       23             4"
      ]
     },
     "execution_count": 231,
     "metadata": {},
     "output_type": "execute_result"
    }
   ],
   "source": [
    "df.head()"
   ]
  },
  {
   "cell_type": "code",
   "execution_count": 232,
   "metadata": {
    "collapsed": false
   },
   "outputs": [
    {
     "name": "stdout",
     "output_type": "stream",
     "text": [
      "238477 rows\n",
      "6768658 transactions\n"
     ]
    }
   ],
   "source": [
    "num_transactions = df['transactions'].sum()\n",
    "\n",
    "print '{:d} rows'.format(len(df))\n",
    "print '{:d} transactions'.format(int(num_transactions))"
   ]
  },
  {
   "cell_type": "code",
   "execution_count": 233,
   "metadata": {
    "collapsed": false
   },
   "outputs": [
    {
     "data": {
      "text/html": [
       "<div>\n",
       "<table border=\"1\" class=\"dataframe\">\n",
       "  <thead>\n",
       "    <tr style=\"text-align: right;\">\n",
       "      <th></th>\n",
       "      <th>scheduledate</th>\n",
       "      <th>trxhour</th>\n",
       "      <th>line</th>\n",
       "      <th>transactions</th>\n",
       "    </tr>\n",
       "  </thead>\n",
       "  <tbody>\n",
       "    <tr>\n",
       "      <th>0</th>\n",
       "      <td>2013-03-01</td>\n",
       "      <td>22</td>\n",
       "      <td>Blue</td>\n",
       "      <td>963</td>\n",
       "    </tr>\n",
       "    <tr>\n",
       "      <th>1</th>\n",
       "      <td>2013-03-01</td>\n",
       "      <td>22</td>\n",
       "      <td>Bus</td>\n",
       "      <td>7016</td>\n",
       "    </tr>\n",
       "    <tr>\n",
       "      <th>2</th>\n",
       "      <td>2013-03-01</td>\n",
       "      <td>22</td>\n",
       "      <td>Green</td>\n",
       "      <td>6930</td>\n",
       "    </tr>\n",
       "    <tr>\n",
       "      <th>3</th>\n",
       "      <td>2013-03-01</td>\n",
       "      <td>22</td>\n",
       "      <td>Orange</td>\n",
       "      <td>6928</td>\n",
       "    </tr>\n",
       "    <tr>\n",
       "      <th>4</th>\n",
       "      <td>2013-03-01</td>\n",
       "      <td>22</td>\n",
       "      <td>Red</td>\n",
       "      <td>5382</td>\n",
       "    </tr>\n",
       "  </tbody>\n",
       "</table>\n",
       "</div>"
      ],
      "text/plain": [
       "  scheduledate  trxhour    line  transactions\n",
       "0   2013-03-01       22    Blue           963\n",
       "1   2013-03-01       22     Bus          7016\n",
       "2   2013-03-01       22   Green          6930\n",
       "3   2013-03-01       22  Orange          6928\n",
       "4   2013-03-01       22     Red          5382"
      ]
     },
     "execution_count": 233,
     "metadata": {},
     "output_type": "execute_result"
    }
   ],
   "source": [
    "df = df.groupby(['scheduledate', 'trxhour', 'line']).sum().reset_index()\n",
    "df.head()"
   ]
  },
  {
   "cell_type": "code",
   "execution_count": 234,
   "metadata": {
    "collapsed": false
   },
   "outputs": [],
   "source": [
    "assert df['transactions'].sum() == num_transactions"
   ]
  },
  {
   "cell_type": "code",
   "execution_count": 235,
   "metadata": {
    "collapsed": false,
    "scrolled": true
   },
   "outputs": [],
   "source": [
    "def actual_date(x):\n",
    "    # normalize date and hour\n",
    "    if x['trxhour'] >= 24:\n",
    "        x['scheduledate'] = x['scheduledate'] + datetime.timedelta(days=1)\n",
    "        x['trxhour'] = x['trxhour'] - 24\n",
    "    \n",
    "    # set scheduledate to include the hour count\n",
    "    x['scheduledate'] = x['scheduledate'] + datetime.timedelta(hours=x['trxhour'])\n",
    "        \n",
    "    return x"
   ]
  },
  {
   "cell_type": "code",
   "execution_count": 236,
   "metadata": {
    "collapsed": false,
    "scrolled": true
   },
   "outputs": [],
   "source": [
    "df = df.apply(actual_date, axis=1)"
   ]
  },
  {
   "cell_type": "code",
   "execution_count": 237,
   "metadata": {
    "collapsed": false
   },
   "outputs": [
    {
     "data": {
      "text/html": [
       "<div>\n",
       "<table border=\"1\" class=\"dataframe\">\n",
       "  <thead>\n",
       "    <tr style=\"text-align: right;\">\n",
       "      <th></th>\n",
       "      <th>scheduledate</th>\n",
       "      <th>trxhour</th>\n",
       "      <th>line</th>\n",
       "      <th>transactions</th>\n",
       "    </tr>\n",
       "  </thead>\n",
       "  <tbody>\n",
       "    <tr>\n",
       "      <th>0</th>\n",
       "      <td>2013-03-01 22:00:00</td>\n",
       "      <td>22</td>\n",
       "      <td>Blue</td>\n",
       "      <td>963</td>\n",
       "    </tr>\n",
       "    <tr>\n",
       "      <th>1</th>\n",
       "      <td>2013-03-01 22:00:00</td>\n",
       "      <td>22</td>\n",
       "      <td>Bus</td>\n",
       "      <td>7016</td>\n",
       "    </tr>\n",
       "    <tr>\n",
       "      <th>2</th>\n",
       "      <td>2013-03-01 22:00:00</td>\n",
       "      <td>22</td>\n",
       "      <td>Green</td>\n",
       "      <td>6930</td>\n",
       "    </tr>\n",
       "    <tr>\n",
       "      <th>3</th>\n",
       "      <td>2013-03-01 22:00:00</td>\n",
       "      <td>22</td>\n",
       "      <td>Orange</td>\n",
       "      <td>6928</td>\n",
       "    </tr>\n",
       "    <tr>\n",
       "      <th>4</th>\n",
       "      <td>2013-03-01 22:00:00</td>\n",
       "      <td>22</td>\n",
       "      <td>Red</td>\n",
       "      <td>5382</td>\n",
       "    </tr>\n",
       "  </tbody>\n",
       "</table>\n",
       "</div>"
      ],
      "text/plain": [
       "         scheduledate  trxhour    line  transactions\n",
       "0 2013-03-01 22:00:00       22    Blue           963\n",
       "1 2013-03-01 22:00:00       22     Bus          7016\n",
       "2 2013-03-01 22:00:00       22   Green          6930\n",
       "3 2013-03-01 22:00:00       22  Orange          6928\n",
       "4 2013-03-01 22:00:00       22     Red          5382"
      ]
     },
     "execution_count": 237,
     "metadata": {},
     "output_type": "execute_result"
    }
   ],
   "source": [
    "df.head()"
   ]
  },
  {
   "cell_type": "code",
   "execution_count": 238,
   "metadata": {
    "collapsed": true
   },
   "outputs": [],
   "source": [
    "assert df['transactions'].sum() == num_transactions"
   ]
  },
  {
   "cell_type": "code",
   "execution_count": 239,
   "metadata": {
    "collapsed": false
   },
   "outputs": [
    {
     "data": {
      "text/html": [
       "<div>\n",
       "<table border=\"1\" class=\"dataframe\">\n",
       "  <thead>\n",
       "    <tr style=\"text-align: right;\">\n",
       "      <th>line</th>\n",
       "      <th>Blue</th>\n",
       "      <th>Bus</th>\n",
       "      <th>Green</th>\n",
       "      <th>Orange</th>\n",
       "      <th>Red</th>\n",
       "      <th>Silver</th>\n",
       "    </tr>\n",
       "    <tr>\n",
       "      <th>scheduledate</th>\n",
       "      <th></th>\n",
       "      <th></th>\n",
       "      <th></th>\n",
       "      <th></th>\n",
       "      <th></th>\n",
       "      <th></th>\n",
       "    </tr>\n",
       "  </thead>\n",
       "  <tbody>\n",
       "    <tr>\n",
       "      <th>2013-03-01 22:00:00</th>\n",
       "      <td>963</td>\n",
       "      <td>7016</td>\n",
       "      <td>6930</td>\n",
       "      <td>6928</td>\n",
       "      <td>5382</td>\n",
       "      <td>357</td>\n",
       "    </tr>\n",
       "    <tr>\n",
       "      <th>2013-03-01 23:00:00</th>\n",
       "      <td>708</td>\n",
       "      <td>5359</td>\n",
       "      <td>4668</td>\n",
       "      <td>3371</td>\n",
       "      <td>4382</td>\n",
       "      <td>289</td>\n",
       "    </tr>\n",
       "    <tr>\n",
       "      <th>2013-03-02 00:00:00</th>\n",
       "      <td>331</td>\n",
       "      <td>2965</td>\n",
       "      <td>2625</td>\n",
       "      <td>1531</td>\n",
       "      <td>1823</td>\n",
       "      <td>108</td>\n",
       "    </tr>\n",
       "    <tr>\n",
       "      <th>2013-03-02 01:00:00</th>\n",
       "      <td>25</td>\n",
       "      <td>762</td>\n",
       "      <td>108</td>\n",
       "      <td>135</td>\n",
       "      <td>58</td>\n",
       "      <td>10</td>\n",
       "    </tr>\n",
       "    <tr>\n",
       "      <th>2013-03-02 02:00:00</th>\n",
       "      <td>1</td>\n",
       "      <td>99</td>\n",
       "      <td>2</td>\n",
       "      <td>6</td>\n",
       "      <td>6</td>\n",
       "      <td>NaN</td>\n",
       "    </tr>\n",
       "  </tbody>\n",
       "</table>\n",
       "</div>"
      ],
      "text/plain": [
       "line                 Blue   Bus  Green  Orange   Red  Silver\n",
       "scheduledate                                                \n",
       "2013-03-01 22:00:00   963  7016   6930    6928  5382     357\n",
       "2013-03-01 23:00:00   708  5359   4668    3371  4382     289\n",
       "2013-03-02 00:00:00   331  2965   2625    1531  1823     108\n",
       "2013-03-02 01:00:00    25   762    108     135    58      10\n",
       "2013-03-02 02:00:00     1    99      2       6     6     NaN"
      ]
     },
     "execution_count": 239,
     "metadata": {},
     "output_type": "execute_result"
    }
   ],
   "source": [
    "df = pd.pivot_table(df, values='transactions', index='scheduledate', columns='line', aggfunc=np.sum)\n",
    "df.head()"
   ]
  },
  {
   "cell_type": "code",
   "execution_count": 240,
   "metadata": {
    "collapsed": false
   },
   "outputs": [
    {
     "data": {
      "text/html": [
       "<div>\n",
       "<table border=\"1\" class=\"dataframe\">\n",
       "  <thead>\n",
       "    <tr style=\"text-align: right;\">\n",
       "      <th>line</th>\n",
       "      <th>Blue</th>\n",
       "      <th>Bus</th>\n",
       "      <th>Green</th>\n",
       "      <th>Orange</th>\n",
       "      <th>Red</th>\n",
       "      <th>Silver</th>\n",
       "    </tr>\n",
       "    <tr>\n",
       "      <th>scheduledate</th>\n",
       "      <th></th>\n",
       "      <th></th>\n",
       "      <th></th>\n",
       "      <th></th>\n",
       "      <th></th>\n",
       "      <th></th>\n",
       "    </tr>\n",
       "  </thead>\n",
       "  <tbody>\n",
       "    <tr>\n",
       "      <th>2013-03-01 22:00:00</th>\n",
       "      <td>963</td>\n",
       "      <td>7016</td>\n",
       "      <td>6930</td>\n",
       "      <td>6928</td>\n",
       "      <td>5382</td>\n",
       "      <td>357</td>\n",
       "    </tr>\n",
       "    <tr>\n",
       "      <th>2013-03-01 23:00:00</th>\n",
       "      <td>708</td>\n",
       "      <td>5359</td>\n",
       "      <td>4668</td>\n",
       "      <td>3371</td>\n",
       "      <td>4382</td>\n",
       "      <td>289</td>\n",
       "    </tr>\n",
       "    <tr>\n",
       "      <th>2013-03-02 00:00:00</th>\n",
       "      <td>331</td>\n",
       "      <td>2965</td>\n",
       "      <td>2625</td>\n",
       "      <td>1531</td>\n",
       "      <td>1823</td>\n",
       "      <td>108</td>\n",
       "    </tr>\n",
       "    <tr>\n",
       "      <th>2013-03-02 01:00:00</th>\n",
       "      <td>25</td>\n",
       "      <td>762</td>\n",
       "      <td>108</td>\n",
       "      <td>135</td>\n",
       "      <td>58</td>\n",
       "      <td>10</td>\n",
       "    </tr>\n",
       "    <tr>\n",
       "      <th>2013-03-02 02:00:00</th>\n",
       "      <td>1</td>\n",
       "      <td>99</td>\n",
       "      <td>2</td>\n",
       "      <td>6</td>\n",
       "      <td>6</td>\n",
       "      <td>0</td>\n",
       "    </tr>\n",
       "  </tbody>\n",
       "</table>\n",
       "</div>"
      ],
      "text/plain": [
       "line                 Blue   Bus  Green  Orange   Red  Silver\n",
       "scheduledate                                                \n",
       "2013-03-01 22:00:00   963  7016   6930    6928  5382     357\n",
       "2013-03-01 23:00:00   708  5359   4668    3371  4382     289\n",
       "2013-03-02 00:00:00   331  2965   2625    1531  1823     108\n",
       "2013-03-02 01:00:00    25   762    108     135    58      10\n",
       "2013-03-02 02:00:00     1    99      2       6     6       0"
      ]
     },
     "execution_count": 240,
     "metadata": {},
     "output_type": "execute_result"
    }
   ],
   "source": [
    "df.fillna(0, axis=1, inplace=True)\n",
    "df.head()"
   ]
  },
  {
   "cell_type": "code",
   "execution_count": 241,
   "metadata": {
    "collapsed": false,
    "scrolled": true
   },
   "outputs": [
    {
     "data": {
      "text/html": [
       "<div>\n",
       "<table border=\"1\" class=\"dataframe\">\n",
       "  <thead>\n",
       "    <tr style=\"text-align: right;\">\n",
       "      <th>line</th>\n",
       "      <th>scheduledate</th>\n",
       "      <th>Blue</th>\n",
       "      <th>Bus</th>\n",
       "      <th>Green</th>\n",
       "      <th>Orange</th>\n",
       "      <th>Red</th>\n",
       "      <th>Silver</th>\n",
       "    </tr>\n",
       "  </thead>\n",
       "  <tbody>\n",
       "    <tr>\n",
       "      <th>0</th>\n",
       "      <td>2013-03-01 22:00:00</td>\n",
       "      <td>963</td>\n",
       "      <td>7016</td>\n",
       "      <td>6930</td>\n",
       "      <td>6928</td>\n",
       "      <td>5382</td>\n",
       "      <td>357</td>\n",
       "    </tr>\n",
       "    <tr>\n",
       "      <th>1</th>\n",
       "      <td>2013-03-01 23:00:00</td>\n",
       "      <td>708</td>\n",
       "      <td>5359</td>\n",
       "      <td>4668</td>\n",
       "      <td>3371</td>\n",
       "      <td>4382</td>\n",
       "      <td>289</td>\n",
       "    </tr>\n",
       "    <tr>\n",
       "      <th>2</th>\n",
       "      <td>2013-03-02 00:00:00</td>\n",
       "      <td>331</td>\n",
       "      <td>2965</td>\n",
       "      <td>2625</td>\n",
       "      <td>1531</td>\n",
       "      <td>1823</td>\n",
       "      <td>108</td>\n",
       "    </tr>\n",
       "    <tr>\n",
       "      <th>3</th>\n",
       "      <td>2013-03-02 01:00:00</td>\n",
       "      <td>25</td>\n",
       "      <td>762</td>\n",
       "      <td>108</td>\n",
       "      <td>135</td>\n",
       "      <td>58</td>\n",
       "      <td>10</td>\n",
       "    </tr>\n",
       "    <tr>\n",
       "      <th>4</th>\n",
       "      <td>2013-03-02 02:00:00</td>\n",
       "      <td>1</td>\n",
       "      <td>99</td>\n",
       "      <td>2</td>\n",
       "      <td>6</td>\n",
       "      <td>6</td>\n",
       "      <td>0</td>\n",
       "    </tr>\n",
       "  </tbody>\n",
       "</table>\n",
       "</div>"
      ],
      "text/plain": [
       "line        scheduledate  Blue   Bus  Green  Orange   Red  Silver\n",
       "0    2013-03-01 22:00:00   963  7016   6930    6928  5382     357\n",
       "1    2013-03-01 23:00:00   708  5359   4668    3371  4382     289\n",
       "2    2013-03-02 00:00:00   331  2965   2625    1531  1823     108\n",
       "3    2013-03-02 01:00:00    25   762    108     135    58      10\n",
       "4    2013-03-02 02:00:00     1    99      2       6     6       0"
      ]
     },
     "execution_count": 241,
     "metadata": {},
     "output_type": "execute_result"
    }
   ],
   "source": [
    "df = df.reset_index().sort('scheduledate')\n",
    "df.head()"
   ]
  },
  {
   "cell_type": "code",
   "execution_count": 242,
   "metadata": {
    "collapsed": false,
    "scrolled": true
   },
   "outputs": [
    {
     "data": {
      "text/html": [
       "<div>\n",
       "<table border=\"1\" class=\"dataframe\">\n",
       "  <thead>\n",
       "    <tr style=\"text-align: right;\">\n",
       "      <th>line</th>\n",
       "      <th>scheduledate</th>\n",
       "      <th>Blue</th>\n",
       "      <th>Bus</th>\n",
       "      <th>Green</th>\n",
       "      <th>Orange</th>\n",
       "      <th>Red</th>\n",
       "      <th>Silver</th>\n",
       "      <th>date</th>\n",
       "      <th>start_date</th>\n",
       "    </tr>\n",
       "  </thead>\n",
       "  <tbody>\n",
       "    <tr>\n",
       "      <th>0</th>\n",
       "      <td>2013-03-01 22:00:00</td>\n",
       "      <td>963</td>\n",
       "      <td>7016</td>\n",
       "      <td>6930</td>\n",
       "      <td>6928</td>\n",
       "      <td>5382</td>\n",
       "      <td>357</td>\n",
       "      <td>2013-3-1</td>\n",
       "      <td>1362175200000</td>\n",
       "    </tr>\n",
       "    <tr>\n",
       "      <th>1</th>\n",
       "      <td>2013-03-01 23:00:00</td>\n",
       "      <td>708</td>\n",
       "      <td>5359</td>\n",
       "      <td>4668</td>\n",
       "      <td>3371</td>\n",
       "      <td>4382</td>\n",
       "      <td>289</td>\n",
       "      <td>2013-3-1</td>\n",
       "      <td>1362178800000</td>\n",
       "    </tr>\n",
       "    <tr>\n",
       "      <th>2</th>\n",
       "      <td>2013-03-02 00:00:00</td>\n",
       "      <td>331</td>\n",
       "      <td>2965</td>\n",
       "      <td>2625</td>\n",
       "      <td>1531</td>\n",
       "      <td>1823</td>\n",
       "      <td>108</td>\n",
       "      <td>2013-3-2</td>\n",
       "      <td>1362182400000</td>\n",
       "    </tr>\n",
       "    <tr>\n",
       "      <th>3</th>\n",
       "      <td>2013-03-02 01:00:00</td>\n",
       "      <td>25</td>\n",
       "      <td>762</td>\n",
       "      <td>108</td>\n",
       "      <td>135</td>\n",
       "      <td>58</td>\n",
       "      <td>10</td>\n",
       "      <td>2013-3-2</td>\n",
       "      <td>1362186000000</td>\n",
       "    </tr>\n",
       "    <tr>\n",
       "      <th>4</th>\n",
       "      <td>2013-03-02 02:00:00</td>\n",
       "      <td>1</td>\n",
       "      <td>99</td>\n",
       "      <td>2</td>\n",
       "      <td>6</td>\n",
       "      <td>6</td>\n",
       "      <td>0</td>\n",
       "      <td>2013-3-2</td>\n",
       "      <td>1362189600000</td>\n",
       "    </tr>\n",
       "  </tbody>\n",
       "</table>\n",
       "</div>"
      ],
      "text/plain": [
       "line        scheduledate  Blue   Bus  Green  Orange   Red  Silver      date  \\\n",
       "0    2013-03-01 22:00:00   963  7016   6930    6928  5382     357  2013-3-1   \n",
       "1    2013-03-01 23:00:00   708  5359   4668    3371  4382     289  2013-3-1   \n",
       "2    2013-03-02 00:00:00   331  2965   2625    1531  1823     108  2013-3-2   \n",
       "3    2013-03-02 01:00:00    25   762    108     135    58      10  2013-3-2   \n",
       "4    2013-03-02 02:00:00     1    99      2       6     6       0  2013-3-2   \n",
       "\n",
       "line     start_date  \n",
       "0     1362175200000  \n",
       "1     1362178800000  \n",
       "2     1362182400000  \n",
       "3     1362186000000  \n",
       "4     1362189600000  "
      ]
     },
     "execution_count": 242,
     "metadata": {},
     "output_type": "execute_result"
    }
   ],
   "source": [
    "def export_normalize(row):\n",
    "    row['date'] = '{d.year}-{d.month}-{d.day}'.format(d=row['scheduledate'])\n",
    "    row['start_date'] = int((row['scheduledate'] - datetime.datetime(1970, 1, 1)).total_seconds() * 1000)\n",
    "    \n",
    "    return row\n",
    "\n",
    "df = df.apply(export_normalize, axis=1)\n",
    "df.head()"
   ]
  },
  {
   "cell_type": "code",
   "execution_count": 243,
   "metadata": {
    "collapsed": true
   },
   "outputs": [],
   "source": [
    "try:\n",
    "    df.drop('scheduledate', axis=1, inplace=True)\n",
    "    df.drop('index', axis=1, inplace=True)\n",
    "except ValueError:\n",
    "    pass"
   ]
  },
  {
   "cell_type": "code",
   "execution_count": 246,
   "metadata": {
    "collapsed": false
   },
   "outputs": [
    {
     "data": {
      "text/html": [
       "<div>\n",
       "<table border=\"1\" class=\"dataframe\">\n",
       "  <thead>\n",
       "    <tr style=\"text-align: right;\">\n",
       "      <th>line</th>\n",
       "      <th>Blue</th>\n",
       "      <th>Bus</th>\n",
       "      <th>Green</th>\n",
       "      <th>Orange</th>\n",
       "      <th>Red</th>\n",
       "      <th>Silver</th>\n",
       "      <th>date</th>\n",
       "      <th>start_date</th>\n",
       "    </tr>\n",
       "  </thead>\n",
       "  <tbody>\n",
       "    <tr>\n",
       "      <th>0</th>\n",
       "      <td>963</td>\n",
       "      <td>7016</td>\n",
       "      <td>6930</td>\n",
       "      <td>6928</td>\n",
       "      <td>5382</td>\n",
       "      <td>357</td>\n",
       "      <td>2013-3-1</td>\n",
       "      <td>1362175200000</td>\n",
       "    </tr>\n",
       "    <tr>\n",
       "      <th>1</th>\n",
       "      <td>708</td>\n",
       "      <td>5359</td>\n",
       "      <td>4668</td>\n",
       "      <td>3371</td>\n",
       "      <td>4382</td>\n",
       "      <td>289</td>\n",
       "      <td>2013-3-1</td>\n",
       "      <td>1362178800000</td>\n",
       "    </tr>\n",
       "    <tr>\n",
       "      <th>2</th>\n",
       "      <td>331</td>\n",
       "      <td>2965</td>\n",
       "      <td>2625</td>\n",
       "      <td>1531</td>\n",
       "      <td>1823</td>\n",
       "      <td>108</td>\n",
       "      <td>2013-3-2</td>\n",
       "      <td>1362182400000</td>\n",
       "    </tr>\n",
       "    <tr>\n",
       "      <th>3</th>\n",
       "      <td>25</td>\n",
       "      <td>762</td>\n",
       "      <td>108</td>\n",
       "      <td>135</td>\n",
       "      <td>58</td>\n",
       "      <td>10</td>\n",
       "      <td>2013-3-2</td>\n",
       "      <td>1362186000000</td>\n",
       "    </tr>\n",
       "    <tr>\n",
       "      <th>4</th>\n",
       "      <td>1</td>\n",
       "      <td>99</td>\n",
       "      <td>2</td>\n",
       "      <td>6</td>\n",
       "      <td>6</td>\n",
       "      <td>0</td>\n",
       "      <td>2013-3-2</td>\n",
       "      <td>1362189600000</td>\n",
       "    </tr>\n",
       "  </tbody>\n",
       "</table>\n",
       "</div>"
      ],
      "text/plain": [
       "line  Blue   Bus  Green  Orange   Red  Silver      date     start_date\n",
       "0      963  7016   6930    6928  5382     357  2013-3-1  1362175200000\n",
       "1      708  5359   4668    3371  4382     289  2013-3-1  1362178800000\n",
       "2      331  2965   2625    1531  1823     108  2013-3-2  1362182400000\n",
       "3       25   762    108     135    58      10  2013-3-2  1362186000000\n",
       "4        1    99      2       6     6       0  2013-3-2  1362189600000"
      ]
     },
     "execution_count": 246,
     "metadata": {},
     "output_type": "execute_result"
    }
   ],
   "source": [
    "df.head()"
   ]
  },
  {
   "cell_type": "code",
   "execution_count": 247,
   "metadata": {
    "collapsed": false
   },
   "outputs": [],
   "source": [
    "df['total'] = df[['Blue', 'Bus', 'Green', 'Orange', 'Red', 'Silver']].sum(axis=1)"
   ]
  },
  {
   "cell_type": "code",
   "execution_count": 248,
   "metadata": {
    "collapsed": false
   },
   "outputs": [
    {
     "data": {
      "text/html": [
       "<div>\n",
       "<table border=\"1\" class=\"dataframe\">\n",
       "  <thead>\n",
       "    <tr style=\"text-align: right;\">\n",
       "      <th>line</th>\n",
       "      <th>Blue</th>\n",
       "      <th>Bus</th>\n",
       "      <th>Green</th>\n",
       "      <th>Orange</th>\n",
       "      <th>Red</th>\n",
       "      <th>Silver</th>\n",
       "      <th>date</th>\n",
       "      <th>start_date</th>\n",
       "      <th>total</th>\n",
       "    </tr>\n",
       "  </thead>\n",
       "  <tbody>\n",
       "    <tr>\n",
       "      <th>0</th>\n",
       "      <td>963</td>\n",
       "      <td>7016</td>\n",
       "      <td>6930</td>\n",
       "      <td>6928</td>\n",
       "      <td>5382</td>\n",
       "      <td>357</td>\n",
       "      <td>2013-3-1</td>\n",
       "      <td>1362175200000</td>\n",
       "      <td>27576</td>\n",
       "    </tr>\n",
       "    <tr>\n",
       "      <th>1</th>\n",
       "      <td>708</td>\n",
       "      <td>5359</td>\n",
       "      <td>4668</td>\n",
       "      <td>3371</td>\n",
       "      <td>4382</td>\n",
       "      <td>289</td>\n",
       "      <td>2013-3-1</td>\n",
       "      <td>1362178800000</td>\n",
       "      <td>18777</td>\n",
       "    </tr>\n",
       "    <tr>\n",
       "      <th>2</th>\n",
       "      <td>331</td>\n",
       "      <td>2965</td>\n",
       "      <td>2625</td>\n",
       "      <td>1531</td>\n",
       "      <td>1823</td>\n",
       "      <td>108</td>\n",
       "      <td>2013-3-2</td>\n",
       "      <td>1362182400000</td>\n",
       "      <td>9383</td>\n",
       "    </tr>\n",
       "    <tr>\n",
       "      <th>3</th>\n",
       "      <td>25</td>\n",
       "      <td>762</td>\n",
       "      <td>108</td>\n",
       "      <td>135</td>\n",
       "      <td>58</td>\n",
       "      <td>10</td>\n",
       "      <td>2013-3-2</td>\n",
       "      <td>1362186000000</td>\n",
       "      <td>1098</td>\n",
       "    </tr>\n",
       "    <tr>\n",
       "      <th>4</th>\n",
       "      <td>1</td>\n",
       "      <td>99</td>\n",
       "      <td>2</td>\n",
       "      <td>6</td>\n",
       "      <td>6</td>\n",
       "      <td>0</td>\n",
       "      <td>2013-3-2</td>\n",
       "      <td>1362189600000</td>\n",
       "      <td>114</td>\n",
       "    </tr>\n",
       "  </tbody>\n",
       "</table>\n",
       "</div>"
      ],
      "text/plain": [
       "line  Blue   Bus  Green  Orange   Red  Silver      date     start_date  total\n",
       "0      963  7016   6930    6928  5382     357  2013-3-1  1362175200000  27576\n",
       "1      708  5359   4668    3371  4382     289  2013-3-1  1362178800000  18777\n",
       "2      331  2965   2625    1531  1823     108  2013-3-2  1362182400000   9383\n",
       "3       25   762    108     135    58      10  2013-3-2  1362186000000   1098\n",
       "4        1    99      2       6     6       0  2013-3-2  1362189600000    114"
      ]
     },
     "execution_count": 248,
     "metadata": {},
     "output_type": "execute_result"
    }
   ],
   "source": [
    "df.head()"
   ]
  },
  {
   "cell_type": "code",
   "execution_count": 249,
   "metadata": {
    "collapsed": true
   },
   "outputs": [],
   "source": [
    "assert df['total'].sum() == num_transactions"
   ]
  },
  {
   "cell_type": "code",
   "execution_count": 251,
   "metadata": {
    "collapsed": false
   },
   "outputs": [],
   "source": [
    "df = df_rearrange_columns(df, \n",
    "                          ['blue', 'bus', 'green', 'orange', 'red', 'silver', 'date', 'start_date', 'total'],\n",
    "                          ['date', 'start_date', 'bus', 'blue', 'green', 'orange', 'red', 'silver', 'total'])   "
   ]
  },
  {
   "cell_type": "code",
   "execution_count": 252,
   "metadata": {
    "collapsed": false
   },
   "outputs": [
    {
     "data": {
      "text/html": [
       "<div>\n",
       "<table border=\"1\" class=\"dataframe\">\n",
       "  <thead>\n",
       "    <tr style=\"text-align: right;\">\n",
       "      <th></th>\n",
       "      <th>date</th>\n",
       "      <th>start_date</th>\n",
       "      <th>bus</th>\n",
       "      <th>blue</th>\n",
       "      <th>green</th>\n",
       "      <th>orange</th>\n",
       "      <th>red</th>\n",
       "      <th>silver</th>\n",
       "      <th>total</th>\n",
       "    </tr>\n",
       "  </thead>\n",
       "  <tbody>\n",
       "    <tr>\n",
       "      <th>0</th>\n",
       "      <td>2013-3-1</td>\n",
       "      <td>1362175200000</td>\n",
       "      <td>7016</td>\n",
       "      <td>963</td>\n",
       "      <td>6930</td>\n",
       "      <td>6928</td>\n",
       "      <td>5382</td>\n",
       "      <td>357</td>\n",
       "      <td>27576</td>\n",
       "    </tr>\n",
       "    <tr>\n",
       "      <th>1</th>\n",
       "      <td>2013-3-1</td>\n",
       "      <td>1362178800000</td>\n",
       "      <td>5359</td>\n",
       "      <td>708</td>\n",
       "      <td>4668</td>\n",
       "      <td>3371</td>\n",
       "      <td>4382</td>\n",
       "      <td>289</td>\n",
       "      <td>18777</td>\n",
       "    </tr>\n",
       "    <tr>\n",
       "      <th>2</th>\n",
       "      <td>2013-3-2</td>\n",
       "      <td>1362182400000</td>\n",
       "      <td>2965</td>\n",
       "      <td>331</td>\n",
       "      <td>2625</td>\n",
       "      <td>1531</td>\n",
       "      <td>1823</td>\n",
       "      <td>108</td>\n",
       "      <td>9383</td>\n",
       "    </tr>\n",
       "    <tr>\n",
       "      <th>3</th>\n",
       "      <td>2013-3-2</td>\n",
       "      <td>1362186000000</td>\n",
       "      <td>762</td>\n",
       "      <td>25</td>\n",
       "      <td>108</td>\n",
       "      <td>135</td>\n",
       "      <td>58</td>\n",
       "      <td>10</td>\n",
       "      <td>1098</td>\n",
       "    </tr>\n",
       "    <tr>\n",
       "      <th>4</th>\n",
       "      <td>2013-3-2</td>\n",
       "      <td>1362189600000</td>\n",
       "      <td>99</td>\n",
       "      <td>1</td>\n",
       "      <td>2</td>\n",
       "      <td>6</td>\n",
       "      <td>6</td>\n",
       "      <td>0</td>\n",
       "      <td>114</td>\n",
       "    </tr>\n",
       "  </tbody>\n",
       "</table>\n",
       "</div>"
      ],
      "text/plain": [
       "       date     start_date   bus  blue  green  orange   red  silver  total\n",
       "0  2013-3-1  1362175200000  7016   963   6930    6928  5382     357  27576\n",
       "1  2013-3-1  1362178800000  5359   708   4668    3371  4382     289  18777\n",
       "2  2013-3-2  1362182400000  2965   331   2625    1531  1823     108   9383\n",
       "3  2013-3-2  1362186000000   762    25    108     135    58      10   1098\n",
       "4  2013-3-2  1362189600000    99     1      2       6     6       0    114"
      ]
     },
     "execution_count": 252,
     "metadata": {},
     "output_type": "execute_result"
    }
   ],
   "source": [
    "df.head()"
   ]
  },
  {
   "cell_type": "code",
   "execution_count": 254,
   "metadata": {
    "collapsed": true
   },
   "outputs": [],
   "source": [
    "df[['bus', 'blue', 'green', 'orange', 'red', 'silver', 'total']] = df[['bus', 'blue', 'green', 'orange', 'red', 'silver', 'total']].astype(int)"
   ]
  },
  {
   "cell_type": "code",
   "execution_count": 255,
   "metadata": {
    "collapsed": true
   },
   "outputs": [],
   "source": [
    "df_to_json_split_wo_index(df, \n",
    "                          'transit.json', \n",
    "                          ['Day of Event',\n",
    "                           'Hour of Event (ms from epoch)',\n",
    "                           'Number of Bus Events',\n",
    "                           'Number of Blue Line Rail Events',\n",
    "                           'Number of Green Line Rail Events',\n",
    "                           'Number of Orange Line Rail Events',\n",
    "                           'Number of Red Line Rail Events',\n",
    "                           'Number of Silver Line Rail Events',\n",
    "                           'Number of Total Transit Events'])"
   ]
  },
  {
   "cell_type": "code",
   "execution_count": 256,
   "metadata": {
    "collapsed": false
   },
   "outputs": [
    {
     "name": "stdout",
     "output_type": "stream",
     "text": [
      "6768658\n"
     ]
    }
   ],
   "source": [
    "# Sanity Checks\n",
    "with open('transit.json', 'rb') as infile:\n",
    "    data = json.load(infile)\n",
    "    print sum([x[-1] for x in data['data']])"
   ]
  },
  {
   "cell_type": "code",
   "execution_count": 258,
   "metadata": {
    "collapsed": false
   },
   "outputs": [
    {
     "data": {
      "text/plain": [
       "(670, 670)"
      ]
     },
     "execution_count": 258,
     "metadata": {},
     "output_type": "execute_result"
    }
   ],
   "source": [
    "len(df), len(pd.unique(df.start_date))"
   ]
  }
 ],
 "metadata": {
  "kernelspec": {
   "display_name": "Python 2",
   "language": "python",
   "name": "python2"
  },
  "language_info": {
   "codemirror_mode": {
    "name": "ipython",
    "version": 2
   },
   "file_extension": ".py",
   "mimetype": "text/x-python",
   "name": "python",
   "nbconvert_exporter": "python",
   "pygments_lexer": "ipython2",
   "version": "2.7.10"
  }
 },
 "nbformat": 4,
 "nbformat_minor": 0
}
