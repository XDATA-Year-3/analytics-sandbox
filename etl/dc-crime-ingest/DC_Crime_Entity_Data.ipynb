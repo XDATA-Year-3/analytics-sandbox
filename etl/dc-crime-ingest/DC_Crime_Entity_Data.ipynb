{
 "cells": [
  {
   "cell_type": "code",
   "execution_count": 86,
   "metadata": {
    "collapsed": true
   },
   "outputs": [],
   "source": [
    "import datetime\n",
    "import itertools\n",
    "import json\n",
    "import numpy as np\n",
    "import os\n",
    "import pandas as pd\n",
    "from pandas_helpers import *\n",
    "import pickle\n",
    "import pprint\n",
    "import random\n",
    "import re\n",
    "import requests\n",
    "import seaborn\n",
    "import sys\n",
    "import time\n",
    "\n",
    "pd.set_option('display.precision', 10)\n",
    "\n",
    "DATA_DIR = 'data/citydata/crime'\n",
    "\n",
    "random.seed(90210)"
   ]
  },
  {
   "cell_type": "code",
   "execution_count": 87,
   "metadata": {
    "collapsed": true
   },
   "outputs": [],
   "source": [
    "from pyproj import Proj"
   ]
  },
  {
   "cell_type": "code",
   "execution_count": 88,
   "metadata": {
    "collapsed": false
   },
   "outputs": [],
   "source": [
    "data_files = [os.path.join(DATA_DIR, 'dc', x) \\\n",
    "              for x in os.listdir(os.path.join(DATA_DIR, 'dc')) \\\n",
    "              if x.endswith('.csv')]\n",
    "\n",
    "df = df_orig = df_from_files(data_files,\n",
    "                             parse_dates=['START_DATE', 'END_DATE', 'REPORT_DAT'],\n",
    "                             usecols=['START_DATE', 'END_DATE', 'REPORT_DAT', 'OFFENSE', 'METHOD', 'BLOCK', 'XBLOCK', 'YBLOCK'])"
   ]
  },
  {
   "cell_type": "code",
   "execution_count": 89,
   "metadata": {
    "collapsed": false
   },
   "outputs": [
    {
     "data": {
      "text/html": [
       "<div>\n",
       "<table border=\"1\" class=\"dataframe\">\n",
       "  <thead>\n",
       "    <tr style=\"text-align: right;\">\n",
       "      <th></th>\n",
       "      <th>REPORT_DAT</th>\n",
       "      <th>OFFENSE</th>\n",
       "      <th>METHOD</th>\n",
       "      <th>BLOCK</th>\n",
       "      <th>XBLOCK</th>\n",
       "      <th>YBLOCK</th>\n",
       "      <th>START_DATE</th>\n",
       "      <th>END_DATE</th>\n",
       "    </tr>\n",
       "  </thead>\n",
       "  <tbody>\n",
       "    <tr>\n",
       "      <th>0</th>\n",
       "      <td>2014-11-29 14:20:00</td>\n",
       "      <td>ROBBERY</td>\n",
       "      <td>GUN</td>\n",
       "      <td>2000 - 2069 BLOCK OF BRYANT STREET NE</td>\n",
       "      <td>402097.35</td>\n",
       "      <td>139269.9</td>\n",
       "      <td>2014-11-28 18:30:00</td>\n",
       "      <td>2014-11-29 14:00:00</td>\n",
       "    </tr>\n",
       "    <tr>\n",
       "      <th>1</th>\n",
       "      <td>2015-01-19 14:46:00</td>\n",
       "      <td>ROBBERY</td>\n",
       "      <td>OTHERS</td>\n",
       "      <td>1700 - 1728 BLOCK OF MONTELLO AVENUE NE</td>\n",
       "      <td>401248.00</td>\n",
       "      <td>137937.0</td>\n",
       "      <td>2015-01-19 14:34:00</td>\n",
       "      <td>2015-01-19 14:46:00</td>\n",
       "    </tr>\n",
       "    <tr>\n",
       "      <th>2</th>\n",
       "      <td>2014-08-19 20:09:00</td>\n",
       "      <td>BURGLARY</td>\n",
       "      <td>OTHERS</td>\n",
       "      <td>1706 - 1799 BLOCK OF 2ND STREET NW</td>\n",
       "      <td>398774.00</td>\n",
       "      <td>138427.0</td>\n",
       "      <td>2014-08-19 09:00:00</td>\n",
       "      <td>2014-08-19 20:09:00</td>\n",
       "    </tr>\n",
       "    <tr>\n",
       "      <th>3</th>\n",
       "      <td>2014-08-30 05:40:00</td>\n",
       "      <td>THEFT/OTHER</td>\n",
       "      <td>OTHERS</td>\n",
       "      <td>3000 - 3133 BLOCK OF RHODE ISLAND AVENUE NE</td>\n",
       "      <td>403053.00</td>\n",
       "      <td>140739.0</td>\n",
       "      <td>2014-08-30 04:51:00</td>\n",
       "      <td>2014-08-30 04:58:00</td>\n",
       "    </tr>\n",
       "    <tr>\n",
       "      <th>4</th>\n",
       "      <td>2014-07-02 02:56:00</td>\n",
       "      <td>THEFT/OTHER</td>\n",
       "      <td>OTHERS</td>\n",
       "      <td>2500 - 2598 BLOCK OF BENNING ROAD NE</td>\n",
       "      <td>402530.00</td>\n",
       "      <td>136674.0</td>\n",
       "      <td>2014-07-02 02:54:00</td>\n",
       "      <td>2014-07-02 02:54:00</td>\n",
       "    </tr>\n",
       "  </tbody>\n",
       "</table>\n",
       "</div>"
      ],
      "text/plain": [
       "           REPORT_DAT      OFFENSE  METHOD  \\\n",
       "0 2014-11-29 14:20:00      ROBBERY     GUN   \n",
       "1 2015-01-19 14:46:00      ROBBERY  OTHERS   \n",
       "2 2014-08-19 20:09:00     BURGLARY  OTHERS   \n",
       "3 2014-08-30 05:40:00  THEFT/OTHER  OTHERS   \n",
       "4 2014-07-02 02:56:00  THEFT/OTHER  OTHERS   \n",
       "\n",
       "                                         BLOCK     XBLOCK    YBLOCK  \\\n",
       "0        2000 - 2069 BLOCK OF BRYANT STREET NE  402097.35  139269.9   \n",
       "1      1700 - 1728 BLOCK OF MONTELLO AVENUE NE  401248.00  137937.0   \n",
       "2           1706 - 1799 BLOCK OF 2ND STREET NW  398774.00  138427.0   \n",
       "3  3000 - 3133 BLOCK OF RHODE ISLAND AVENUE NE  403053.00  140739.0   \n",
       "4         2500 - 2598 BLOCK OF BENNING ROAD NE  402530.00  136674.0   \n",
       "\n",
       "           START_DATE            END_DATE  \n",
       "0 2014-11-28 18:30:00 2014-11-29 14:00:00  \n",
       "1 2015-01-19 14:34:00 2015-01-19 14:46:00  \n",
       "2 2014-08-19 09:00:00 2014-08-19 20:09:00  \n",
       "3 2014-08-30 04:51:00 2014-08-30 04:58:00  \n",
       "4 2014-07-02 02:54:00 2014-07-02 02:54:00  "
      ]
     },
     "execution_count": 89,
     "metadata": {},
     "output_type": "execute_result"
    }
   ],
   "source": [
    "df.head()"
   ]
  },
  {
   "cell_type": "code",
   "execution_count": 90,
   "metadata": {
    "collapsed": true
   },
   "outputs": [],
   "source": [
    "def cleanup(df, datecols, datemin, dropna=True):\n",
    "    rows = len(df)\n",
    "    \n",
    "    if dropna:\n",
    "        df = df.dropna(how='any')\n",
    "        \n",
    "    for datecol in datecols:\n",
    "        df = df[df[datecol].dt.date >= datemin]\n",
    "    \n",
    "    print 'Dropped {:d} rows'.format(rows - len(df))\n",
    "    \n",
    "    return df"
   ]
  },
  {
   "cell_type": "code",
   "execution_count": 91,
   "metadata": {
    "collapsed": false
   },
   "outputs": [
    {
     "name": "stdout",
     "output_type": "stream",
     "text": [
      "Dropped 27 rows\n"
     ]
    }
   ],
   "source": [
    "df = cleanup(df, ['REPORT_DAT', 'START_DATE', 'END_DATE'], datetime.date(2012, 01, 01))"
   ]
  },
  {
   "cell_type": "code",
   "execution_count": 92,
   "metadata": {
    "collapsed": false
   },
   "outputs": [
    {
     "data": {
      "text/plain": [
       "(           REPORT_DAT      OFFENSE  METHOD  \\\n",
       " 0 2014-11-29 14:20:00      ROBBERY     GUN   \n",
       " 1 2015-01-19 14:46:00      ROBBERY  OTHERS   \n",
       " 2 2014-08-19 20:09:00     BURGLARY  OTHERS   \n",
       " 3 2014-08-30 05:40:00  THEFT/OTHER  OTHERS   \n",
       " 4 2014-07-02 02:56:00  THEFT/OTHER  OTHERS   \n",
       " \n",
       "                                          BLOCK     XBLOCK    YBLOCK  \\\n",
       " 0        2000 - 2069 BLOCK OF BRYANT STREET NE  402097.35  139269.9   \n",
       " 1      1700 - 1728 BLOCK OF MONTELLO AVENUE NE  401248.00  137937.0   \n",
       " 2           1706 - 1799 BLOCK OF 2ND STREET NW  398774.00  138427.0   \n",
       " 3  3000 - 3133 BLOCK OF RHODE ISLAND AVENUE NE  403053.00  140739.0   \n",
       " 4         2500 - 2598 BLOCK OF BENNING ROAD NE  402530.00  136674.0   \n",
       " \n",
       "            START_DATE            END_DATE  \n",
       " 0 2014-11-28 18:30:00 2014-11-29 14:00:00  \n",
       " 1 2015-01-19 14:34:00 2015-01-19 14:46:00  \n",
       " 2 2014-08-19 09:00:00 2014-08-19 20:09:00  \n",
       " 3 2014-08-30 04:51:00 2014-08-30 04:58:00  \n",
       " 4 2014-07-02 02:54:00 2014-07-02 02:54:00  , 54482)"
      ]
     },
     "execution_count": 92,
     "metadata": {},
     "output_type": "execute_result"
    }
   ],
   "source": [
    "df.head(), len(df)"
   ]
  },
  {
   "cell_type": "code",
   "execution_count": 93,
   "metadata": {
    "collapsed": false
   },
   "outputs": [
    {
     "data": {
      "text/plain": [
       "array(['ROBBERY', 'BURGLARY', 'THEFT/OTHER', 'THEFT F/AUTO',\n",
       "       'MOTOR VEHICLE THEFT', 'ASSAULT W/DANGEROUS WEAPON', 'HOMICIDE',\n",
       "       'SEX ABUSE', 'ARSON'], dtype=object)"
      ]
     },
     "execution_count": 93,
     "metadata": {},
     "output_type": "execute_result"
    }
   ],
   "source": [
    "pd.unique(df['OFFENSE'])"
   ]
  },
  {
   "cell_type": "code",
   "execution_count": 94,
   "metadata": {
    "collapsed": false
   },
   "outputs": [
    {
     "data": {
      "text/html": [
       "<div>\n",
       "<table border=\"1\" class=\"dataframe\">\n",
       "  <thead>\n",
       "    <tr style=\"text-align: right;\">\n",
       "      <th></th>\n",
       "      <th>OFFENSE</th>\n",
       "      <th>METHOD</th>\n",
       "      <th>BLOCK</th>\n",
       "      <th>XBLOCK</th>\n",
       "      <th>YBLOCK</th>\n",
       "      <th>START_DATE</th>\n",
       "    </tr>\n",
       "  </thead>\n",
       "  <tbody>\n",
       "    <tr>\n",
       "      <th>0</th>\n",
       "      <td>ROBBERY</td>\n",
       "      <td>GUN</td>\n",
       "      <td>2000 - 2069 BLOCK OF BRYANT STREET NE</td>\n",
       "      <td>402097.35</td>\n",
       "      <td>139269.9</td>\n",
       "      <td>2014-11-28 18:30:00</td>\n",
       "    </tr>\n",
       "    <tr>\n",
       "      <th>1</th>\n",
       "      <td>ROBBERY</td>\n",
       "      <td>OTHERS</td>\n",
       "      <td>1700 - 1728 BLOCK OF MONTELLO AVENUE NE</td>\n",
       "      <td>401248.00</td>\n",
       "      <td>137937.0</td>\n",
       "      <td>2015-01-19 14:34:00</td>\n",
       "    </tr>\n",
       "    <tr>\n",
       "      <th>2</th>\n",
       "      <td>BURGLARY</td>\n",
       "      <td>OTHERS</td>\n",
       "      <td>1706 - 1799 BLOCK OF 2ND STREET NW</td>\n",
       "      <td>398774.00</td>\n",
       "      <td>138427.0</td>\n",
       "      <td>2014-08-19 09:00:00</td>\n",
       "    </tr>\n",
       "    <tr>\n",
       "      <th>3</th>\n",
       "      <td>THEFT/OTHER</td>\n",
       "      <td>OTHERS</td>\n",
       "      <td>3000 - 3133 BLOCK OF RHODE ISLAND AVENUE NE</td>\n",
       "      <td>403053.00</td>\n",
       "      <td>140739.0</td>\n",
       "      <td>2014-08-30 04:51:00</td>\n",
       "    </tr>\n",
       "    <tr>\n",
       "      <th>4</th>\n",
       "      <td>THEFT/OTHER</td>\n",
       "      <td>OTHERS</td>\n",
       "      <td>2500 - 2598 BLOCK OF BENNING ROAD NE</td>\n",
       "      <td>402530.00</td>\n",
       "      <td>136674.0</td>\n",
       "      <td>2014-07-02 02:54:00</td>\n",
       "    </tr>\n",
       "  </tbody>\n",
       "</table>\n",
       "</div>"
      ],
      "text/plain": [
       "       OFFENSE  METHOD                                        BLOCK  \\\n",
       "0      ROBBERY     GUN        2000 - 2069 BLOCK OF BRYANT STREET NE   \n",
       "1      ROBBERY  OTHERS      1700 - 1728 BLOCK OF MONTELLO AVENUE NE   \n",
       "2     BURGLARY  OTHERS           1706 - 1799 BLOCK OF 2ND STREET NW   \n",
       "3  THEFT/OTHER  OTHERS  3000 - 3133 BLOCK OF RHODE ISLAND AVENUE NE   \n",
       "4  THEFT/OTHER  OTHERS         2500 - 2598 BLOCK OF BENNING ROAD NE   \n",
       "\n",
       "      XBLOCK    YBLOCK          START_DATE  \n",
       "0  402097.35  139269.9 2014-11-28 18:30:00  \n",
       "1  401248.00  137937.0 2015-01-19 14:34:00  \n",
       "2  398774.00  138427.0 2014-08-19 09:00:00  \n",
       "3  403053.00  140739.0 2014-08-30 04:51:00  \n",
       "4  402530.00  136674.0 2014-07-02 02:54:00  "
      ]
     },
     "execution_count": 94,
     "metadata": {},
     "output_type": "execute_result"
    }
   ],
   "source": [
    "for col in ['REPORT_DAT', 'END_DATE']:\n",
    "    try:\n",
    "        df.drop(col, axis=1, inplace=True)\n",
    "    except ValueError:\n",
    "        pass\n",
    "\n",
    "df.head()"
   ]
  },
  {
   "cell_type": "code",
   "execution_count": 95,
   "metadata": {
    "collapsed": false
   },
   "outputs": [],
   "source": [
    "def description(row):\n",
    "    s = ''\n",
    "    \n",
    "    if row['OFFENSE']:\n",
    "        s += 'Arrest for {} '.format(row['OFFENSE'].lower())\n",
    "    \n",
    "    if row['METHOD'] and row['METHOD'] != 'OTHERS':\n",
    "        s += '[{}]'.format(row['METHOD'].lower())\n",
    "        \n",
    "    row['description'] = s.strip()\n",
    "    \n",
    "    return row"
   ]
  },
  {
   "cell_type": "code",
   "execution_count": 96,
   "metadata": {
    "collapsed": false
   },
   "outputs": [
    {
     "data": {
      "text/html": [
       "<div>\n",
       "<table border=\"1\" class=\"dataframe\">\n",
       "  <thead>\n",
       "    <tr style=\"text-align: right;\">\n",
       "      <th></th>\n",
       "      <th>OFFENSE</th>\n",
       "      <th>METHOD</th>\n",
       "      <th>BLOCK</th>\n",
       "      <th>XBLOCK</th>\n",
       "      <th>YBLOCK</th>\n",
       "      <th>START_DATE</th>\n",
       "      <th>description</th>\n",
       "    </tr>\n",
       "  </thead>\n",
       "  <tbody>\n",
       "    <tr>\n",
       "      <th>0</th>\n",
       "      <td>ROBBERY</td>\n",
       "      <td>GUN</td>\n",
       "      <td>2000 - 2069 BLOCK OF BRYANT STREET NE</td>\n",
       "      <td>402097.35</td>\n",
       "      <td>139269.9</td>\n",
       "      <td>2014-11-28 18:30:00</td>\n",
       "      <td>Arrest for robbery [gun]</td>\n",
       "    </tr>\n",
       "    <tr>\n",
       "      <th>1</th>\n",
       "      <td>ROBBERY</td>\n",
       "      <td>OTHERS</td>\n",
       "      <td>1700 - 1728 BLOCK OF MONTELLO AVENUE NE</td>\n",
       "      <td>401248.00</td>\n",
       "      <td>137937.0</td>\n",
       "      <td>2015-01-19 14:34:00</td>\n",
       "      <td>Arrest for robbery</td>\n",
       "    </tr>\n",
       "    <tr>\n",
       "      <th>2</th>\n",
       "      <td>BURGLARY</td>\n",
       "      <td>OTHERS</td>\n",
       "      <td>1706 - 1799 BLOCK OF 2ND STREET NW</td>\n",
       "      <td>398774.00</td>\n",
       "      <td>138427.0</td>\n",
       "      <td>2014-08-19 09:00:00</td>\n",
       "      <td>Arrest for burglary</td>\n",
       "    </tr>\n",
       "    <tr>\n",
       "      <th>3</th>\n",
       "      <td>THEFT/OTHER</td>\n",
       "      <td>OTHERS</td>\n",
       "      <td>3000 - 3133 BLOCK OF RHODE ISLAND AVENUE NE</td>\n",
       "      <td>403053.00</td>\n",
       "      <td>140739.0</td>\n",
       "      <td>2014-08-30 04:51:00</td>\n",
       "      <td>Arrest for theft/other</td>\n",
       "    </tr>\n",
       "    <tr>\n",
       "      <th>4</th>\n",
       "      <td>THEFT/OTHER</td>\n",
       "      <td>OTHERS</td>\n",
       "      <td>2500 - 2598 BLOCK OF BENNING ROAD NE</td>\n",
       "      <td>402530.00</td>\n",
       "      <td>136674.0</td>\n",
       "      <td>2014-07-02 02:54:00</td>\n",
       "      <td>Arrest for theft/other</td>\n",
       "    </tr>\n",
       "  </tbody>\n",
       "</table>\n",
       "</div>"
      ],
      "text/plain": [
       "       OFFENSE  METHOD                                        BLOCK  \\\n",
       "0      ROBBERY     GUN        2000 - 2069 BLOCK OF BRYANT STREET NE   \n",
       "1      ROBBERY  OTHERS      1700 - 1728 BLOCK OF MONTELLO AVENUE NE   \n",
       "2     BURGLARY  OTHERS           1706 - 1799 BLOCK OF 2ND STREET NW   \n",
       "3  THEFT/OTHER  OTHERS  3000 - 3133 BLOCK OF RHODE ISLAND AVENUE NE   \n",
       "4  THEFT/OTHER  OTHERS         2500 - 2598 BLOCK OF BENNING ROAD NE   \n",
       "\n",
       "      XBLOCK    YBLOCK          START_DATE               description  \n",
       "0  402097.35  139269.9 2014-11-28 18:30:00  Arrest for robbery [gun]  \n",
       "1  401248.00  137937.0 2015-01-19 14:34:00        Arrest for robbery  \n",
       "2  398774.00  138427.0 2014-08-19 09:00:00       Arrest for burglary  \n",
       "3  403053.00  140739.0 2014-08-30 04:51:00    Arrest for theft/other  \n",
       "4  402530.00  136674.0 2014-07-02 02:54:00    Arrest for theft/other  "
      ]
     },
     "execution_count": 96,
     "metadata": {},
     "output_type": "execute_result"
    }
   ],
   "source": [
    "df = df.apply(description, axis=1)\n",
    "df.head()"
   ]
  },
  {
   "cell_type": "code",
   "execution_count": 97,
   "metadata": {
    "collapsed": false
   },
   "outputs": [],
   "source": [
    "esri_102685 = Proj('+proj=lcc +lat_1=38.3 +lat_2=39.45 +lat_0=37.66666666666666 +lon_0=-77 +x_0=399999.9999999999 +y_0=0 +ellps=GRS80 +datum=NAD83 +to_meter=0.3048006096012192 +no_defs')\n",
    "\n",
    "def project(row):\n",
    "    lon, lat = esri_102685(int(row['XBLOCK']), \n",
    "                           int(row['YBLOCK']),\n",
    "                           inverse=True)\n",
    "    \n",
    "    row['latitude'] = lat\n",
    "    row['longitude'] = lon\n",
    "    \n",
    "    return row"
   ]
  },
  {
   "cell_type": "code",
   "execution_count": 98,
   "metadata": {
    "collapsed": true
   },
   "outputs": [],
   "source": [
    "df = df.apply(project, axis=1)"
   ]
  },
  {
   "cell_type": "code",
   "execution_count": 99,
   "metadata": {
    "collapsed": false
   },
   "outputs": [
    {
     "data": {
      "text/html": [
       "<div>\n",
       "<table border=\"1\" class=\"dataframe\">\n",
       "  <thead>\n",
       "    <tr style=\"text-align: right;\">\n",
       "      <th></th>\n",
       "      <th>START_DATE</th>\n",
       "      <th>description</th>\n",
       "      <th>latitude</th>\n",
       "      <th>longitude</th>\n",
       "    </tr>\n",
       "  </thead>\n",
       "  <tbody>\n",
       "    <tr>\n",
       "      <th>0</th>\n",
       "      <td>2014-11-28 18:30:00</td>\n",
       "      <td>Arrest for robbery [gun]</td>\n",
       "      <td>38.921290501</td>\n",
       "      <td>-76.975818162</td>\n",
       "    </tr>\n",
       "    <tr>\n",
       "      <th>1</th>\n",
       "      <td>2015-01-19 14:34:00</td>\n",
       "      <td>Arrest for robbery</td>\n",
       "      <td>38.909293017</td>\n",
       "      <td>-76.985610941</td>\n",
       "    </tr>\n",
       "    <tr>\n",
       "      <th>2</th>\n",
       "      <td>2014-08-19 09:00:00</td>\n",
       "      <td>Arrest for burglary</td>\n",
       "      <td>38.913707135</td>\n",
       "      <td>-77.014136281</td>\n",
       "    </tr>\n",
       "    <tr>\n",
       "      <th>3</th>\n",
       "      <td>2014-08-30 04:51:00</td>\n",
       "      <td>Arrest for theft/other</td>\n",
       "      <td>38.934529918</td>\n",
       "      <td>-76.964787381</td>\n",
       "    </tr>\n",
       "    <tr>\n",
       "      <th>4</th>\n",
       "      <td>2014-07-02 02:54:00</td>\n",
       "      <td>Arrest for theft/other</td>\n",
       "      <td>38.897912713</td>\n",
       "      <td>-76.970834525</td>\n",
       "    </tr>\n",
       "  </tbody>\n",
       "</table>\n",
       "</div>"
      ],
      "text/plain": [
       "           START_DATE               description      latitude     longitude\n",
       "0 2014-11-28 18:30:00  Arrest for robbery [gun]  38.921290501 -76.975818162\n",
       "1 2015-01-19 14:34:00        Arrest for robbery  38.909293017 -76.985610941\n",
       "2 2014-08-19 09:00:00       Arrest for burglary  38.913707135 -77.014136281\n",
       "3 2014-08-30 04:51:00    Arrest for theft/other  38.934529918 -76.964787381\n",
       "4 2014-07-02 02:54:00    Arrest for theft/other  38.897912713 -76.970834525"
      ]
     },
     "execution_count": 99,
     "metadata": {},
     "output_type": "execute_result"
    }
   ],
   "source": [
    "for col in ['OFFENSE', 'METHOD', 'BLOCK', 'XBLOCK', 'YBLOCK']:\n",
    "    try:\n",
    "        df.drop(col, axis=1, inplace=True)\n",
    "    except ValueError:\n",
    "        pass\n",
    "\n",
    "df.head()"
   ]
  },
  {
   "cell_type": "code",
   "execution_count": 100,
   "metadata": {
    "collapsed": false
   },
   "outputs": [],
   "source": [
    "df['date'] = df['START_DATE'].map(lambda dt: int((dt - datetime.datetime(1970, 1, 1)).total_seconds() * 1000))"
   ]
  },
  {
   "cell_type": "code",
   "execution_count": 101,
   "metadata": {
    "collapsed": false,
    "scrolled": true
   },
   "outputs": [],
   "source": [
    "df.drop('START_DATE', axis=1, inplace=True)"
   ]
  },
  {
   "cell_type": "code",
   "execution_count": 102,
   "metadata": {
    "collapsed": false
   },
   "outputs": [
    {
     "data": {
      "text/html": [
       "<div>\n",
       "<table border=\"1\" class=\"dataframe\">\n",
       "  <thead>\n",
       "    <tr style=\"text-align: right;\">\n",
       "      <th></th>\n",
       "      <th>description</th>\n",
       "      <th>latitude</th>\n",
       "      <th>longitude</th>\n",
       "      <th>date</th>\n",
       "    </tr>\n",
       "  </thead>\n",
       "  <tbody>\n",
       "    <tr>\n",
       "      <th>0</th>\n",
       "      <td>Arrest for robbery [gun]</td>\n",
       "      <td>38.921290501</td>\n",
       "      <td>-76.975818162</td>\n",
       "      <td>1417199400000</td>\n",
       "    </tr>\n",
       "    <tr>\n",
       "      <th>1</th>\n",
       "      <td>Arrest for robbery</td>\n",
       "      <td>38.909293017</td>\n",
       "      <td>-76.985610941</td>\n",
       "      <td>1421678040000</td>\n",
       "    </tr>\n",
       "    <tr>\n",
       "      <th>2</th>\n",
       "      <td>Arrest for burglary</td>\n",
       "      <td>38.913707135</td>\n",
       "      <td>-77.014136281</td>\n",
       "      <td>1408438800000</td>\n",
       "    </tr>\n",
       "    <tr>\n",
       "      <th>3</th>\n",
       "      <td>Arrest for theft/other</td>\n",
       "      <td>38.934529918</td>\n",
       "      <td>-76.964787381</td>\n",
       "      <td>1409374260000</td>\n",
       "    </tr>\n",
       "    <tr>\n",
       "      <th>4</th>\n",
       "      <td>Arrest for theft/other</td>\n",
       "      <td>38.897912713</td>\n",
       "      <td>-76.970834525</td>\n",
       "      <td>1404269640000</td>\n",
       "    </tr>\n",
       "  </tbody>\n",
       "</table>\n",
       "</div>"
      ],
      "text/plain": [
       "                description      latitude     longitude           date\n",
       "0  Arrest for robbery [gun]  38.921290501 -76.975818162  1417199400000\n",
       "1        Arrest for robbery  38.909293017 -76.985610941  1421678040000\n",
       "2       Arrest for burglary  38.913707135 -77.014136281  1408438800000\n",
       "3    Arrest for theft/other  38.934529918 -76.964787381  1409374260000\n",
       "4    Arrest for theft/other  38.897912713 -76.970834525  1404269640000"
      ]
     },
     "execution_count": 102,
     "metadata": {},
     "output_type": "execute_result"
    }
   ],
   "source": [
    "df.head()"
   ]
  },
  {
   "cell_type": "code",
   "execution_count": 103,
   "metadata": {
    "collapsed": true
   },
   "outputs": [],
   "source": [
    "df = df_rearrange_columns(df,\n",
    "                          ['description', 'latitude', 'longitude', 'date'],\n",
    "                          ['date', 'latitude', 'longitude', 'description'])"
   ]
  },
  {
   "cell_type": "code",
   "execution_count": 104,
   "metadata": {
    "collapsed": false
   },
   "outputs": [
    {
     "data": {
      "text/html": [
       "<div>\n",
       "<table border=\"1\" class=\"dataframe\">\n",
       "  <thead>\n",
       "    <tr style=\"text-align: right;\">\n",
       "      <th></th>\n",
       "      <th>date</th>\n",
       "      <th>latitude</th>\n",
       "      <th>longitude</th>\n",
       "      <th>description</th>\n",
       "    </tr>\n",
       "  </thead>\n",
       "  <tbody>\n",
       "    <tr>\n",
       "      <th>0</th>\n",
       "      <td>1417199400000</td>\n",
       "      <td>38.921290501</td>\n",
       "      <td>-76.975818162</td>\n",
       "      <td>Arrest for robbery [gun]</td>\n",
       "    </tr>\n",
       "    <tr>\n",
       "      <th>1</th>\n",
       "      <td>1421678040000</td>\n",
       "      <td>38.909293017</td>\n",
       "      <td>-76.985610941</td>\n",
       "      <td>Arrest for robbery</td>\n",
       "    </tr>\n",
       "    <tr>\n",
       "      <th>2</th>\n",
       "      <td>1408438800000</td>\n",
       "      <td>38.913707135</td>\n",
       "      <td>-77.014136281</td>\n",
       "      <td>Arrest for burglary</td>\n",
       "    </tr>\n",
       "    <tr>\n",
       "      <th>3</th>\n",
       "      <td>1409374260000</td>\n",
       "      <td>38.934529918</td>\n",
       "      <td>-76.964787381</td>\n",
       "      <td>Arrest for theft/other</td>\n",
       "    </tr>\n",
       "    <tr>\n",
       "      <th>4</th>\n",
       "      <td>1404269640000</td>\n",
       "      <td>38.897912713</td>\n",
       "      <td>-76.970834525</td>\n",
       "      <td>Arrest for theft/other</td>\n",
       "    </tr>\n",
       "  </tbody>\n",
       "</table>\n",
       "</div>"
      ],
      "text/plain": [
       "            date      latitude     longitude               description\n",
       "0  1417199400000  38.921290501 -76.975818162  Arrest for robbery [gun]\n",
       "1  1421678040000  38.909293017 -76.985610941        Arrest for robbery\n",
       "2  1408438800000  38.913707135 -77.014136281       Arrest for burglary\n",
       "3  1409374260000  38.934529918 -76.964787381    Arrest for theft/other\n",
       "4  1404269640000  38.897912713 -76.970834525    Arrest for theft/other"
      ]
     },
     "execution_count": 104,
     "metadata": {},
     "output_type": "execute_result"
    }
   ],
   "source": [
    "df.head()"
   ]
  },
  {
   "cell_type": "code",
   "execution_count": 105,
   "metadata": {
    "collapsed": false
   },
   "outputs": [
    {
     "data": {
      "text/plain": [
       "54482"
      ]
     },
     "execution_count": 105,
     "metadata": {},
     "output_type": "execute_result"
    }
   ],
   "source": [
    "len(df)"
   ]
  },
  {
   "cell_type": "code",
   "execution_count": 106,
   "metadata": {
    "collapsed": true
   },
   "outputs": [],
   "source": [
    "df_to_json_split_wo_index(df,\n",
    "                          'dc_crime_entity_data.json',\n",
    "                          ['Date of Event (ms from epoch)',\n",
    "                           'Latitude of Event',\n",
    "                           'Longitude of Event',\n",
    "                           'Description of Event'])"
   ]
  },
  {
   "cell_type": "code",
   "execution_count": null,
   "metadata": {
    "collapsed": true
   },
   "outputs": [],
   "source": []
  }
 ],
 "metadata": {
  "kernelspec": {
   "display_name": "Python 2",
   "language": "python",
   "name": "python2"
  },
  "language_info": {
   "codemirror_mode": {
    "name": "ipython",
    "version": 2
   },
   "file_extension": ".py",
   "mimetype": "text/x-python",
   "name": "python",
   "nbconvert_exporter": "python",
   "pygments_lexer": "ipython2",
   "version": "2.7.10"
  }
 },
 "nbformat": 4,
 "nbformat_minor": 0
}
