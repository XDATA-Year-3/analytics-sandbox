{
 "cells": [
  {
   "cell_type": "code",
   "execution_count": 1,
   "metadata": {
    "collapsed": true
   },
   "outputs": [],
   "source": [
    "import itertools\n",
    "import json\n",
    "import numpy as np\n",
    "import os\n",
    "import pandas as pd\n",
    "import pickle\n",
    "import pprint\n",
    "import random\n",
    "import re\n",
    "import requests\n",
    "import seaborn\n",
    "import sys\n",
    "\n",
    "DATA_DIR = 'data/capital_bikeshare_2013_to_pres'\n",
    "\n",
    "coordinates = {}\n",
    "\n",
    "random.seed(90210)"
   ]
  },
  {
   "cell_type": "markdown",
   "metadata": {},
   "source": [
    "## Data Analysis"
   ]
  },
  {
   "cell_type": "code",
   "execution_count": 2,
   "metadata": {
    "collapsed": true
   },
   "outputs": [],
   "source": [
    "r = requests.get('https://secure.capitalbikeshare.com/data/stations.json')\n",
    "\n",
    "for station in r.json()['stations']:\n",
    "    coordinates[station['s']] = (station['la'], station['lo'])"
   ]
  },
  {
   "cell_type": "code",
   "execution_count": 2,
   "metadata": {
    "collapsed": false
   },
   "outputs": [],
   "source": [
    "df = None\n",
    "\n",
    "for filename in os.listdir(DATA_DIR):\n",
    "    if filename.endswith('.csv'):\n",
    "        tmp_df = pd.read_csv(os.path.join(DATA_DIR, filename))\n",
    "        df = tmp_df if df is None else df.append(tmp_df)"
   ]
  },
  {
   "cell_type": "code",
   "execution_count": 5,
   "metadata": {
    "collapsed": false
   },
   "outputs": [
    {
     "data": {
      "text/plain": [
       "(0, 11)"
      ]
     },
     "execution_count": 5,
     "metadata": {},
     "output_type": "execute_result"
    }
   ],
   "source": [
    "# there are 11 rows with empty End Station columns\n",
    "len(df[(df['Start Station'].isnull())]), len(df[(df['End Station'].isnull())])"
   ]
  },
  {
   "cell_type": "code",
   "execution_count": 6,
   "metadata": {
    "collapsed": false
   },
   "outputs": [],
   "source": [
    "starts = df[df['Start Station'].notnull()]['Start Station']\n",
    "ends = df[df['End Station'].notnull()]['End Station']"
   ]
  },
  {
   "cell_type": "code",
   "execution_count": 7,
   "metadata": {
    "collapsed": false
   },
   "outputs": [],
   "source": [
    "stations = set(np.concatenate((starts.values, ends.values)))"
   ]
  },
  {
   "cell_type": "code",
   "execution_count": 8,
   "metadata": {
    "collapsed": false
   },
   "outputs": [
    {
     "name": "stdout",
     "output_type": "stream",
     "text": [
      " 5964097 rows\n",
      "     378 stations\n"
     ]
    }
   ],
   "source": [
    "print '{:8d} rows'.format(len(df))\n",
    "print '{:8d} stations'.format(len(stations))"
   ]
  },
  {
   "cell_type": "code",
   "execution_count": 14,
   "metadata": {
    "collapsed": true
   },
   "outputs": [],
   "source": [
    "# There are some coordinates we got from their site that aren't applicable to our dataset\n",
    "for loc in set(coordinates) - set(stations):\n",
    "    try:\n",
    "        del coordinates[loc]\n",
    "    except KeyError:\n",
    "        pass"
   ]
  },
  {
   "cell_type": "code",
   "execution_count": 15,
   "metadata": {
    "collapsed": false
   },
   "outputs": [
    {
     "name": "stdout",
     "output_type": "stream",
     "text": [
      "30/378 locations needed\n"
     ]
    }
   ],
   "source": [
    "desired_stations = set(stations) - set(coordinates.keys())\n",
    "print '{:d}/{:d} locations needed'.format(len(desired_stations), len(stations))"
   ]
  },
  {
   "cell_type": "markdown",
   "metadata": {},
   "source": [
    "## Geocoding"
   ]
  },
  {
   "cell_type": "code",
   "execution_count": 16,
   "metadata": {
    "collapsed": false
   },
   "outputs": [],
   "source": [
    "from geopy.geocoders import Nominatim, GoogleV3\n",
    "\n",
    "# append Washington D.C. to all nominatim requests\n",
    "nominatim = Nominatim(format_string='%s Washington D.C.')\n",
    "google_v3 = GoogleV3()"
   ]
  },
  {
   "cell_type": "code",
   "execution_count": 17,
   "metadata": {
    "collapsed": true
   },
   "outputs": [],
   "source": [
    "def intelligent_geocode_guess(s, geolocator):\n",
    "    m = re.match('(.*)\\[(.*)\\]', s)\n",
    "        \n",
    "    if '/' in s:\n",
    "        parts = s.split('/')\n",
    "    elif m:\n",
    "        parts = m.groups()\n",
    "    else:\n",
    "        parts = [s]\n",
    "        \n",
    "    assert len(parts) in (1, 2)\n",
    "        \n",
    "    return filter(None, [geolocator.geocode(part) for part in parts])"
   ]
  },
  {
   "cell_type": "code",
   "execution_count": 18,
   "metadata": {
    "collapsed": false
   },
   "outputs": [],
   "source": [
    "from geopy.distance import great_circle\n",
    "\n",
    "def geocode_locations(locations, geolocator, gap_threshold=.2):\n",
    "    # gap threshold is in miles\n",
    "    results = {}\n",
    "\n",
    "    for location in locations:\n",
    "        try:\n",
    "            guess = intelligent_geocode_guess(location, geolocator)\n",
    "        \n",
    "            if len(guess) == 1:\n",
    "                results[location] = (guess[0].latitude, guess[0].longitude)\n",
    "            elif len(guess) == 2:\n",
    "                g1, g2 = guess\n",
    "                gap = great_circle((g1.latitude, g1.longitude),\n",
    "                                   (g2.latitude, g2.longitude)).miles\n",
    "                \n",
    "                if gap > gap_threshold:\n",
    "                    print 'Gap threshold of {:f} miles between guesses for \"{:s}\"'.format(gap, location) \n",
    "        except Exception as e:\n",
    "            print e\n",
    "    \n",
    "    return results"
   ]
  },
  {
   "cell_type": "code",
   "execution_count": 19,
   "metadata": {
    "collapsed": false
   },
   "outputs": [
    {
     "name": "stdout",
     "output_type": "stream",
     "text": [
      "30 desired stations to geocode.\n"
     ]
    }
   ],
   "source": [
    "print '{:d} desired stations to geocode.'.format(len(desired_stations))"
   ]
  },
  {
   "cell_type": "code",
   "execution_count": 20,
   "metadata": {
    "collapsed": false
   },
   "outputs": [
    {
     "name": "stdout",
     "output_type": "stream",
     "text": [
      "Service timed out\n",
      "Gap threshold of 0.960233 miles between guesses for \"McPherson Square / 14th & H St NW\"\n"
     ]
    }
   ],
   "source": [
    "# Try Nominatim, then default to Google\n",
    "nominatim_results = geocode_locations(desired_stations, nominatim)"
   ]
  },
  {
   "cell_type": "code",
   "execution_count": 21,
   "metadata": {
    "collapsed": false
   },
   "outputs": [],
   "source": [
    "coordinates = dict(coordinates.items() + nominatim_results.items())"
   ]
  },
  {
   "cell_type": "code",
   "execution_count": 22,
   "metadata": {
    "collapsed": false
   },
   "outputs": [],
   "source": [
    "desired_stations = set(stations) - set(coordinates.keys())"
   ]
  },
  {
   "cell_type": "code",
   "execution_count": 23,
   "metadata": {
    "collapsed": false
   },
   "outputs": [
    {
     "name": "stdout",
     "output_type": "stream",
     "text": [
      "24 desired stations to geocode.\n"
     ]
    }
   ],
   "source": [
    "print '{:d} desired stations to geocode.'.format(len(desired_stations))"
   ]
  },
  {
   "cell_type": "code",
   "execution_count": 24,
   "metadata": {
    "collapsed": false
   },
   "outputs": [
    {
     "name": "stdout",
     "output_type": "stream",
     "text": [
      "Gap threshold of 637.345842 miles between guesses for \"Thomas Jefferson Cmty Ctr / 2nd St S & Ivy\"\n",
      "Gap threshold of 0.549459 miles between guesses for \"12th & Hayes St /  Pentagon City Metro\"\n",
      "Gap threshold of 1160.609771 miles between guesses for \"8th & F St NW / National Portrait Gallery\"\n",
      "Gap threshold of 0.549459 miles between guesses for \"Pentagon City Metro / 12th & Hayes St\"\n"
     ]
    }
   ],
   "source": [
    "google_results = geocode_locations(desired_stations, google_v3)"
   ]
  },
  {
   "cell_type": "code",
   "execution_count": 25,
   "metadata": {
    "collapsed": false
   },
   "outputs": [
    {
     "name": "stdout",
     "output_type": "stream",
     "text": [
      "6 desired stations to geocode.\n"
     ]
    }
   ],
   "source": [
    "coordinates = dict(coordinates.items() + google_results.items())\n",
    "desired_stations = set(stations) - set(coordinates.keys())\n",
    "print '{:d} desired stations to geocode.'.format(len(desired_stations))"
   ]
  },
  {
   "cell_type": "code",
   "execution_count": 26,
   "metadata": {
    "collapsed": false
   },
   "outputs": [
    {
     "data": {
      "text/plain": [
       "{'12th & Hayes St /  Pentagon City Metro',\n",
       " '8th & F St NW / National Portrait Gallery',\n",
       " 'Court House Metro / Wilson Blvd & N Uhle St',\n",
       " 'McPherson Square / 14th & H St NW',\n",
       " 'Pentagon City Metro / 12th & Hayes St',\n",
       " 'Thomas Jefferson Cmty Ctr / 2nd St S & Ivy'}"
      ]
     },
     "execution_count": 26,
     "metadata": {},
     "output_type": "execute_result"
    }
   ],
   "source": [
    "desired_stations"
   ]
  },
  {
   "cell_type": "code",
   "execution_count": 27,
   "metadata": {
    "collapsed": true
   },
   "outputs": [],
   "source": [
    "# manual corrections\n",
    "coordinates['McPherson Square / 14th & H St NW'] = (38.900221, -77.031883)\n",
    "coordinates['Thomas Jefferson Cmty Ctr / 2nd St S & Ivy'] = (38.869522, -77.093467)\n",
    "coordinates['12th & Hayes St /  Pentagon City Metro'] = (38.863021, -77.059269)\n",
    "coordinates['8th & F St NW / National Portrait Gallery'] = (38.897195, -77.022944)\n",
    "coordinates['Pentagon City Metro / 12th & Hayes St'] = (38.863021, -77.059269)\n",
    "coordinates['Court House Metro / Wilson Blvd & N Uhle St'] = (38.891556, -77.084864)"
   ]
  },
  {
   "cell_type": "code",
   "execution_count": 28,
   "metadata": {
    "collapsed": false
   },
   "outputs": [
    {
     "name": "stdout",
     "output_type": "stream",
     "text": [
      "0 desired stations to geocode.\n"
     ]
    }
   ],
   "source": [
    "desired_stations = set(stations) - set(coordinates.keys())\n",
    "print '{:d} desired stations to geocode.'.format(len(desired_stations))"
   ]
  },
  {
   "cell_type": "markdown",
   "metadata": {},
   "source": [
    "## Verification"
   ]
  },
  {
   "cell_type": "markdown",
   "metadata": {},
   "source": [
    "### Sanity Checks"
   ]
  },
  {
   "cell_type": "code",
   "execution_count": 29,
   "metadata": {
    "collapsed": false
   },
   "outputs": [
    {
     "name": "stdout",
     "output_type": "stream",
     "text": [
      "Alta Tech Office 29.4645374 -98.4837589\n",
      "1714 Warehouse  46.6897396 -118.9417081\n",
      "Mo Co Warehouse 39.585491 -94.946311\n",
      "18th & Hayes St 45.00592 -93.234741\n"
     ]
    }
   ],
   "source": [
    "# A very generous bounding box to detect outliars\n",
    "lat_min, lat_max = (38.5481, 39.6503)\n",
    "lon_min, lon_max = (-77.683, -76.0912)\n",
    "\n",
    "for (loc, (lat, lon)) in coordinates.iteritems():\n",
    "    if not (lat_min < lat < lat_max) or not (lon_min < lon < lon_max):\n",
    "        print loc, lat, lon"
   ]
  },
  {
   "cell_type": "code",
   "execution_count": 30,
   "metadata": {
    "collapsed": false
   },
   "outputs": [],
   "source": [
    "# weird outliars detected\n",
    "coordinates['1714 Warehouse '] = (38.876701, -77.017907)\n",
    "coordinates['18th & Hayes St'] = (38.857315, -77.056481)\n",
    "\n",
    "# can not find\n",
    "try:\n",
    "    del coordinates['Mo Co Warehouse']\n",
    "    del coordinates['Alta Tech Office']\n",
    "except KeyError:\n",
    "    pass"
   ]
  },
  {
   "cell_type": "code",
   "execution_count": 31,
   "metadata": {
    "collapsed": false
   },
   "outputs": [
    {
     "name": "stdout",
     "output_type": "stream",
     "text": [
      "38.801111\n",
      "39.123513\n",
      "-77.202501\n",
      "-76.931862\n"
     ]
    }
   ],
   "source": [
    "# Sanity check the minimum/maximum latitudes and longitudes\n",
    "print min([lat for lat, _ in coordinates.values()])\n",
    "print max([lat for lat, _ in coordinates.values()])\n",
    "\n",
    "print min([lon for _, lon in coordinates.values()])\n",
    "print max([lon for _, lon in coordinates.values()])"
   ]
  },
  {
   "cell_type": "code",
   "execution_count": 3,
   "metadata": {
    "collapsed": false
   },
   "outputs": [
    {
     "data": {
      "text/plain": [
       "30"
      ]
     },
     "execution_count": 3,
     "metadata": {},
     "output_type": "execute_result"
    }
   ],
   "source": [
    "anomalies = ['Mo Co Warehouse', 'Alta Tech Office']\n",
    "\n",
    "anomaly_mask = ((df['Start Station'].isin(anomalies)) | \n",
    "                (df['End Station'].isin(anomalies)) | \n",
    "                (df['Start Station'].isnull()) | \n",
    "                (df['End Station'].isnull()))\n",
    "\n",
    "len(df[anomaly_mask])"
   ]
  },
  {
   "cell_type": "markdown",
   "metadata": {},
   "source": [
    "### Random Sampling"
   ]
  },
  {
   "cell_type": "code",
   "execution_count": 37,
   "metadata": {
    "collapsed": false
   },
   "outputs": [],
   "source": [
    "sample = random.sample([{'loc': c, 'lat': coordinates[c][0], 'lon': coordinates[c][1]} for c in coordinates], 10)"
   ]
  },
  {
   "cell_type": "code",
   "execution_count": 38,
   "metadata": {
    "collapsed": false
   },
   "outputs": [],
   "source": [
    "df_rand = pd.DataFrame.from_dict(sample)"
   ]
  },
  {
   "cell_type": "code",
   "execution_count": 39,
   "metadata": {
    "collapsed": false
   },
   "outputs": [
    {
     "data": {
      "text/html": [
       "<div>\n",
       "<table border=\"1\" class=\"dataframe\">\n",
       "  <thead>\n",
       "    <tr style=\"text-align: right;\">\n",
       "      <th></th>\n",
       "      <th>loc</th>\n",
       "      <th>lat</th>\n",
       "      <th>lon</th>\n",
       "    </tr>\n",
       "  </thead>\n",
       "  <tbody>\n",
       "    <tr>\n",
       "      <th>0</th>\n",
       "      <td>Rhode Island Ave Metro</td>\n",
       "      <td>38.920682</td>\n",
       "      <td>-76.995876</td>\n",
       "    </tr>\n",
       "    <tr>\n",
       "      <th>1</th>\n",
       "      <td>Clarendon Metro / Wilson Blvd &amp; N Highland St</td>\n",
       "      <td>38.887860</td>\n",
       "      <td>-77.094875</td>\n",
       "    </tr>\n",
       "    <tr>\n",
       "      <th>2</th>\n",
       "      <td>Bethesda Metro</td>\n",
       "      <td>38.984691</td>\n",
       "      <td>-77.094537</td>\n",
       "    </tr>\n",
       "    <tr>\n",
       "      <th>3</th>\n",
       "      <td>3rd &amp; D St SE</td>\n",
       "      <td>38.885100</td>\n",
       "      <td>-77.002300</td>\n",
       "    </tr>\n",
       "    <tr>\n",
       "      <th>4</th>\n",
       "      <td>Veterans Pl &amp; Pershing Dr</td>\n",
       "      <td>38.997445</td>\n",
       "      <td>-77.023894</td>\n",
       "    </tr>\n",
       "    <tr>\n",
       "      <th>5</th>\n",
       "      <td>3000 Connecticut Ave NW / National Zoo</td>\n",
       "      <td>38.930282</td>\n",
       "      <td>-77.055599</td>\n",
       "    </tr>\n",
       "    <tr>\n",
       "      <th>6</th>\n",
       "      <td>14th &amp; Harvard St NW</td>\n",
       "      <td>38.926800</td>\n",
       "      <td>-77.032200</td>\n",
       "    </tr>\n",
       "    <tr>\n",
       "      <th>7</th>\n",
       "      <td>3rd &amp; H St NE</td>\n",
       "      <td>38.900412</td>\n",
       "      <td>-77.001949</td>\n",
       "    </tr>\n",
       "    <tr>\n",
       "      <th>8</th>\n",
       "      <td>Frederick Ave &amp; Horners Ln</td>\n",
       "      <td>39.094772</td>\n",
       "      <td>-77.145213</td>\n",
       "    </tr>\n",
       "    <tr>\n",
       "      <th>9</th>\n",
       "      <td>Carroll &amp; Ethan Allen Ave</td>\n",
       "      <td>38.977933</td>\n",
       "      <td>-77.006472</td>\n",
       "    </tr>\n",
       "  </tbody>\n",
       "</table>\n",
       "</div>"
      ],
      "text/plain": [
       "                                             loc        lat        lon\n",
       "0                         Rhode Island Ave Metro  38.920682 -76.995876\n",
       "1  Clarendon Metro / Wilson Blvd & N Highland St  38.887860 -77.094875\n",
       "2                                 Bethesda Metro  38.984691 -77.094537\n",
       "3                                  3rd & D St SE  38.885100 -77.002300\n",
       "4                     Veterans Pl & Pershing Dr   38.997445 -77.023894\n",
       "5         3000 Connecticut Ave NW / National Zoo  38.930282 -77.055599\n",
       "6                           14th & Harvard St NW  38.926800 -77.032200\n",
       "7                                  3rd & H St NE  38.900412 -77.001949\n",
       "8                     Frederick Ave & Horners Ln  39.094772 -77.145213\n",
       "9                      Carroll & Ethan Allen Ave  38.977933 -77.006472"
      ]
     },
     "execution_count": 39,
     "metadata": {},
     "output_type": "execute_result"
    }
   ],
   "source": [
    "df_rand[['loc', 'lat', 'lon']]"
   ]
  },
  {
   "cell_type": "markdown",
   "metadata": {},
   "source": [
    "## Exporting"
   ]
  },
  {
   "cell_type": "code",
   "execution_count": 40,
   "metadata": {
    "collapsed": true
   },
   "outputs": [],
   "source": [
    "with open(os.path.join(DATA_DIR, 'capital_bikeshare_coordinates_mapping.json'), 'wb') as outfile:\n",
    "    json.dump(coordinates, outfile)"
   ]
  },
  {
   "cell_type": "markdown",
   "metadata": {},
   "source": [
    "## Applying to Original Problem"
   ]
  },
  {
   "cell_type": "code",
   "execution_count": 4,
   "metadata": {
    "collapsed": false
   },
   "outputs": [
    {
     "data": {
      "text/plain": [
       "376"
      ]
     },
     "execution_count": 4,
     "metadata": {},
     "output_type": "execute_result"
    }
   ],
   "source": [
    "with open(os.path.join(DATA_DIR, 'capital_bikeshare_coordinates_mapping.json'), 'rb') as infile:\n",
    "    mapping = json.load(infile)\n",
    "    \n",
    "len(mapping)"
   ]
  },
  {
   "cell_type": "code",
   "execution_count": 26,
   "metadata": {
    "collapsed": false,
    "scrolled": true
   },
   "outputs": [
    {
     "data": {
      "text/html": [
       "<div>\n",
       "<table border=\"1\" class=\"dataframe\">\n",
       "  <thead>\n",
       "    <tr style=\"text-align: right;\">\n",
       "      <th></th>\n",
       "      <th>Bike number</th>\n",
       "      <th>Bike#</th>\n",
       "      <th>Duration</th>\n",
       "      <th>End Station</th>\n",
       "      <th>End date</th>\n",
       "      <th>End terminal</th>\n",
       "      <th>Member Type</th>\n",
       "      <th>Start Station</th>\n",
       "      <th>Start date</th>\n",
       "      <th>Start terminal</th>\n",
       "      <th>Start time</th>\n",
       "      <th>Subscriber Type</th>\n",
       "      <th>Subscription Type</th>\n",
       "      <th>Total duration (ms)</th>\n",
       "    </tr>\n",
       "  </thead>\n",
       "  <tbody>\n",
       "    <tr>\n",
       "      <th>42832</th>\n",
       "      <td>NaN</td>\n",
       "      <td>W01360</td>\n",
       "      <td>0h 6m 41s</td>\n",
       "      <td>NaN</td>\n",
       "      <td>7/5/2014 11:00</td>\n",
       "      <td>NaN</td>\n",
       "      <td>NaN</td>\n",
       "      <td>Veterans Pl &amp; Pershing Dr</td>\n",
       "      <td>7/5/2014 10:53</td>\n",
       "      <td>32043</td>\n",
       "      <td>NaN</td>\n",
       "      <td>NaN</td>\n",
       "      <td>Registered</td>\n",
       "      <td>NaN</td>\n",
       "    </tr>\n",
       "    <tr>\n",
       "      <th>128210</th>\n",
       "      <td>NaN</td>\n",
       "      <td>W01160</td>\n",
       "      <td>0h 25m 42s</td>\n",
       "      <td>NaN</td>\n",
       "      <td>7/13/2014 13:17</td>\n",
       "      <td>NaN</td>\n",
       "      <td>NaN</td>\n",
       "      <td>15th St &amp; Massachusetts Ave SE</td>\n",
       "      <td>7/13/2014 12:51</td>\n",
       "      <td>31626</td>\n",
       "      <td>NaN</td>\n",
       "      <td>NaN</td>\n",
       "      <td>Registered</td>\n",
       "      <td>NaN</td>\n",
       "    </tr>\n",
       "    <tr>\n",
       "      <th>368971</th>\n",
       "      <td>NaN</td>\n",
       "      <td>W01297</td>\n",
       "      <td>0h 3m 22s</td>\n",
       "      <td>NaN</td>\n",
       "      <td>8/4/2014 17:39</td>\n",
       "      <td>NaN</td>\n",
       "      <td>NaN</td>\n",
       "      <td>15th &amp; P St NW</td>\n",
       "      <td>8/4/2014 17:35</td>\n",
       "      <td>31201</td>\n",
       "      <td>NaN</td>\n",
       "      <td>NaN</td>\n",
       "      <td>Registered</td>\n",
       "      <td>NaN</td>\n",
       "    </tr>\n",
       "    <tr>\n",
       "      <th>658611</th>\n",
       "      <td>NaN</td>\n",
       "      <td>? (0x74BEBCE4)</td>\n",
       "      <td>0h 0m 3s</td>\n",
       "      <td>Alta Tech Office</td>\n",
       "      <td>9/11/2013 6:19</td>\n",
       "      <td>32902</td>\n",
       "      <td>NaN</td>\n",
       "      <td>Alta Tech Office</td>\n",
       "      <td>9/11/2013 6:19</td>\n",
       "      <td>32902</td>\n",
       "      <td>NaN</td>\n",
       "      <td>NaN</td>\n",
       "      <td>Subscriber</td>\n",
       "      <td>NaN</td>\n",
       "    </tr>\n",
       "    <tr>\n",
       "      <th>658612</th>\n",
       "      <td>NaN</td>\n",
       "      <td>? (0x74BEBCE4)</td>\n",
       "      <td>0h 25m 6s</td>\n",
       "      <td>Alta Tech Office</td>\n",
       "      <td>9/11/2013 6:45</td>\n",
       "      <td>32902</td>\n",
       "      <td>NaN</td>\n",
       "      <td>Alta Tech Office</td>\n",
       "      <td>9/11/2013 6:19</td>\n",
       "      <td>32902</td>\n",
       "      <td>NaN</td>\n",
       "      <td>NaN</td>\n",
       "      <td>Subscriber</td>\n",
       "      <td>NaN</td>\n",
       "    </tr>\n",
       "    <tr>\n",
       "      <th>19005</th>\n",
       "      <td>NaN</td>\n",
       "      <td>W01352</td>\n",
       "      <td>0h 12m 17s</td>\n",
       "      <td>Mo Co Warehouse</td>\n",
       "      <td>1/8/2014 8:53</td>\n",
       "      <td>32900</td>\n",
       "      <td>Registered</td>\n",
       "      <td>Silver Spring Metro/Colesville Rd &amp; Wayne Ave</td>\n",
       "      <td>1/8/2014 8:41</td>\n",
       "      <td>32012</td>\n",
       "      <td>NaN</td>\n",
       "      <td>NaN</td>\n",
       "      <td>NaN</td>\n",
       "      <td>NaN</td>\n",
       "    </tr>\n",
       "    <tr>\n",
       "      <th>23224</th>\n",
       "      <td>NaN</td>\n",
       "      <td>W00308</td>\n",
       "      <td>0h 10m 16s</td>\n",
       "      <td>Mo Co Warehouse</td>\n",
       "      <td>1/9/2014 8:45</td>\n",
       "      <td>32900</td>\n",
       "      <td>Registered</td>\n",
       "      <td>Silver Spring Metro/Colesville Rd &amp; Wayne Ave</td>\n",
       "      <td>1/9/2014 8:35</td>\n",
       "      <td>32012</td>\n",
       "      <td>NaN</td>\n",
       "      <td>NaN</td>\n",
       "      <td>NaN</td>\n",
       "      <td>NaN</td>\n",
       "    </tr>\n",
       "    <tr>\n",
       "      <th>27560</th>\n",
       "      <td>NaN</td>\n",
       "      <td>W20012</td>\n",
       "      <td>0h 14m 18s</td>\n",
       "      <td>Mo Co Warehouse</td>\n",
       "      <td>1/10/2014 8:52</td>\n",
       "      <td>32900</td>\n",
       "      <td>Registered</td>\n",
       "      <td>Silver Spring Metro/Colesville Rd &amp; Wayne Ave</td>\n",
       "      <td>1/10/2014 8:38</td>\n",
       "      <td>32012</td>\n",
       "      <td>NaN</td>\n",
       "      <td>NaN</td>\n",
       "      <td>NaN</td>\n",
       "      <td>NaN</td>\n",
       "    </tr>\n",
       "    <tr>\n",
       "      <th>44513</th>\n",
       "      <td>NaN</td>\n",
       "      <td>W01306</td>\n",
       "      <td>0h 9m 4s</td>\n",
       "      <td>Mo Co Warehouse</td>\n",
       "      <td>1/14/2014 8:42</td>\n",
       "      <td>32900</td>\n",
       "      <td>Registered</td>\n",
       "      <td>Silver Spring Metro/Colesville Rd &amp; Wayne Ave</td>\n",
       "      <td>1/14/2014 8:33</td>\n",
       "      <td>32012</td>\n",
       "      <td>NaN</td>\n",
       "      <td>NaN</td>\n",
       "      <td>NaN</td>\n",
       "      <td>NaN</td>\n",
       "    </tr>\n",
       "    <tr>\n",
       "      <th>47325</th>\n",
       "      <td>NaN</td>\n",
       "      <td>W01306</td>\n",
       "      <td>0h 11m 48s</td>\n",
       "      <td>Mo Co Warehouse</td>\n",
       "      <td>1/14/2014 19:08</td>\n",
       "      <td>32900</td>\n",
       "      <td>Registered</td>\n",
       "      <td>Mo Co Warehouse</td>\n",
       "      <td>1/14/2014 18:57</td>\n",
       "      <td>32900</td>\n",
       "      <td>NaN</td>\n",
       "      <td>NaN</td>\n",
       "      <td>NaN</td>\n",
       "      <td>NaN</td>\n",
       "    </tr>\n",
       "    <tr>\n",
       "      <th>47583</th>\n",
       "      <td>NaN</td>\n",
       "      <td>W01306</td>\n",
       "      <td>0h 0m 2s</td>\n",
       "      <td>Mo Co Warehouse</td>\n",
       "      <td>1/14/2014 19:24</td>\n",
       "      <td>32900</td>\n",
       "      <td>Registered</td>\n",
       "      <td>Mo Co Warehouse</td>\n",
       "      <td>1/14/2014 19:24</td>\n",
       "      <td>32900</td>\n",
       "      <td>NaN</td>\n",
       "      <td>NaN</td>\n",
       "      <td>NaN</td>\n",
       "      <td>NaN</td>\n",
       "    </tr>\n",
       "    <tr>\n",
       "      <th>47668</th>\n",
       "      <td>NaN</td>\n",
       "      <td>W01306</td>\n",
       "      <td>0h 0m 5s</td>\n",
       "      <td>Mo Co Warehouse</td>\n",
       "      <td>1/14/2014 19:37</td>\n",
       "      <td>32900</td>\n",
       "      <td>Registered</td>\n",
       "      <td>Mo Co Warehouse</td>\n",
       "      <td>1/14/2014 19:36</td>\n",
       "      <td>32900</td>\n",
       "      <td>NaN</td>\n",
       "      <td>NaN</td>\n",
       "      <td>NaN</td>\n",
       "      <td>NaN</td>\n",
       "    </tr>\n",
       "    <tr>\n",
       "      <th>47672</th>\n",
       "      <td>NaN</td>\n",
       "      <td>W01306</td>\n",
       "      <td>11h 32m 36s</td>\n",
       "      <td>Friendship Blvd &amp; Willard Ave</td>\n",
       "      <td>1/15/2014 7:09</td>\n",
       "      <td>32040</td>\n",
       "      <td>Registered</td>\n",
       "      <td>Mo Co Warehouse</td>\n",
       "      <td>1/14/2014 19:37</td>\n",
       "      <td>32900</td>\n",
       "      <td>NaN</td>\n",
       "      <td>NaN</td>\n",
       "      <td>NaN</td>\n",
       "      <td>NaN</td>\n",
       "    </tr>\n",
       "    <tr>\n",
       "      <th>49599</th>\n",
       "      <td>NaN</td>\n",
       "      <td>W21229</td>\n",
       "      <td>0h 10m 51s</td>\n",
       "      <td>Mo Co Warehouse</td>\n",
       "      <td>1/15/2014 8:31</td>\n",
       "      <td>32900</td>\n",
       "      <td>Registered</td>\n",
       "      <td>Silver Spring Metro/Colesville Rd &amp; Wayne Ave</td>\n",
       "      <td>1/15/2014 8:20</td>\n",
       "      <td>32012</td>\n",
       "      <td>NaN</td>\n",
       "      <td>NaN</td>\n",
       "      <td>NaN</td>\n",
       "      <td>NaN</td>\n",
       "    </tr>\n",
       "    <tr>\n",
       "      <th>92983</th>\n",
       "      <td>NaN</td>\n",
       "      <td>W20581</td>\n",
       "      <td>14h 51m 36s</td>\n",
       "      <td>Mo Co Warehouse</td>\n",
       "      <td>1/27/2014 8:33</td>\n",
       "      <td>32900</td>\n",
       "      <td>Registered</td>\n",
       "      <td>Montgomery Ave &amp; Waverly St</td>\n",
       "      <td>1/26/2014 17:41</td>\n",
       "      <td>32003</td>\n",
       "      <td>NaN</td>\n",
       "      <td>NaN</td>\n",
       "      <td>NaN</td>\n",
       "      <td>NaN</td>\n",
       "    </tr>\n",
       "    <tr>\n",
       "      <th>165731</th>\n",
       "      <td>NaN</td>\n",
       "      <td>W20256</td>\n",
       "      <td>0h 1m 33s</td>\n",
       "      <td>Mo Co Warehouse</td>\n",
       "      <td>2/12/2014 14:07</td>\n",
       "      <td>32900</td>\n",
       "      <td>Registered</td>\n",
       "      <td>Mo Co Warehouse</td>\n",
       "      <td>2/12/2014 14:05</td>\n",
       "      <td>32900</td>\n",
       "      <td>NaN</td>\n",
       "      <td>NaN</td>\n",
       "      <td>NaN</td>\n",
       "      <td>NaN</td>\n",
       "    </tr>\n",
       "    <tr>\n",
       "      <th>231576</th>\n",
       "      <td>NaN</td>\n",
       "      <td>W20256</td>\n",
       "      <td>0h 5m 45s</td>\n",
       "      <td>Mo Co Warehouse</td>\n",
       "      <td>2/27/2014 14:20</td>\n",
       "      <td>32900</td>\n",
       "      <td>Registered</td>\n",
       "      <td>Mo Co Warehouse</td>\n",
       "      <td>2/27/2014 14:14</td>\n",
       "      <td>32900</td>\n",
       "      <td>NaN</td>\n",
       "      <td>NaN</td>\n",
       "      <td>NaN</td>\n",
       "      <td>NaN</td>\n",
       "    </tr>\n",
       "    <tr>\n",
       "      <th>231595</th>\n",
       "      <td>NaN</td>\n",
       "      <td>W20256</td>\n",
       "      <td>0h 1m 28s</td>\n",
       "      <td>Mo Co Warehouse</td>\n",
       "      <td>2/27/2014 14:22</td>\n",
       "      <td>32900</td>\n",
       "      <td>Registered</td>\n",
       "      <td>Mo Co Warehouse</td>\n",
       "      <td>2/27/2014 14:21</td>\n",
       "      <td>32900</td>\n",
       "      <td>NaN</td>\n",
       "      <td>NaN</td>\n",
       "      <td>NaN</td>\n",
       "      <td>NaN</td>\n",
       "    </tr>\n",
       "    <tr>\n",
       "      <th>300351</th>\n",
       "      <td>NaN</td>\n",
       "      <td>W00935</td>\n",
       "      <td>0h 19m 2s</td>\n",
       "      <td>Mo Co Warehouse</td>\n",
       "      <td>3/13/2014 8:43</td>\n",
       "      <td>32900</td>\n",
       "      <td>Registered</td>\n",
       "      <td>Ripley &amp; Bonifant St</td>\n",
       "      <td>3/13/2014 8:24</td>\n",
       "      <td>32034</td>\n",
       "      <td>NaN</td>\n",
       "      <td>NaN</td>\n",
       "      <td>NaN</td>\n",
       "      <td>NaN</td>\n",
       "    </tr>\n",
       "    <tr>\n",
       "      <th>375751</th>\n",
       "      <td>NaN</td>\n",
       "      <td>W20256</td>\n",
       "      <td>0h 0m 5s</td>\n",
       "      <td>Mo Co Warehouse</td>\n",
       "      <td>3/25/2014 19:48</td>\n",
       "      <td>32900</td>\n",
       "      <td>Registered</td>\n",
       "      <td>Mo Co Warehouse</td>\n",
       "      <td>3/25/2014 19:48</td>\n",
       "      <td>32900</td>\n",
       "      <td>NaN</td>\n",
       "      <td>NaN</td>\n",
       "      <td>NaN</td>\n",
       "      <td>NaN</td>\n",
       "    </tr>\n",
       "    <tr>\n",
       "      <th>8677</th>\n",
       "      <td>NaN</td>\n",
       "      <td>W01124</td>\n",
       "      <td>0h 0m 44s</td>\n",
       "      <td>NaN</td>\n",
       "      <td>6/30/2014 8:45</td>\n",
       "      <td>NaN</td>\n",
       "      <td>NaN</td>\n",
       "      <td>N Veitch  &amp; 20th St N</td>\n",
       "      <td>6/30/2014 8:44</td>\n",
       "      <td>31029</td>\n",
       "      <td>NaN</td>\n",
       "      <td>Registered</td>\n",
       "      <td>NaN</td>\n",
       "      <td>NaN</td>\n",
       "    </tr>\n",
       "    <tr>\n",
       "      <th>14759</th>\n",
       "      <td>NaN</td>\n",
       "      <td>W20486</td>\n",
       "      <td>0h 20m 20s</td>\n",
       "      <td>NaN</td>\n",
       "      <td>6/29/2014 16:43</td>\n",
       "      <td>NaN</td>\n",
       "      <td>NaN</td>\n",
       "      <td>Ballston Metro / N Stuart &amp; 9th St N</td>\n",
       "      <td>6/29/2014 16:22</td>\n",
       "      <td>31037</td>\n",
       "      <td>NaN</td>\n",
       "      <td>Registered</td>\n",
       "      <td>NaN</td>\n",
       "      <td>NaN</td>\n",
       "    </tr>\n",
       "    <tr>\n",
       "      <th>146699</th>\n",
       "      <td>NaN</td>\n",
       "      <td>W21341</td>\n",
       "      <td>0h 15m 15s</td>\n",
       "      <td>NaN</td>\n",
       "      <td>6/17/2014 14:35</td>\n",
       "      <td>NaN</td>\n",
       "      <td>NaN</td>\n",
       "      <td>4th &amp; M St SW</td>\n",
       "      <td>6/17/2014 14:19</td>\n",
       "      <td>31108</td>\n",
       "      <td>NaN</td>\n",
       "      <td>Registered</td>\n",
       "      <td>NaN</td>\n",
       "      <td>NaN</td>\n",
       "    </tr>\n",
       "    <tr>\n",
       "      <th>280353</th>\n",
       "      <td>NaN</td>\n",
       "      <td>NaN</td>\n",
       "      <td>0h 1m 43s</td>\n",
       "      <td>NaN</td>\n",
       "      <td>6/4/2014 18:49</td>\n",
       "      <td>NaN</td>\n",
       "      <td>NaN</td>\n",
       "      <td>Georgia &amp; New Hampshire Ave NW</td>\n",
       "      <td>6/4/2014 18:47</td>\n",
       "      <td>31400</td>\n",
       "      <td>NaN</td>\n",
       "      <td>Registered</td>\n",
       "      <td>NaN</td>\n",
       "      <td>NaN</td>\n",
       "    </tr>\n",
       "    <tr>\n",
       "      <th>621880</th>\n",
       "      <td>NaN</td>\n",
       "      <td>W01317</td>\n",
       "      <td>0h 18m 31s</td>\n",
       "      <td>NaN</td>\n",
       "      <td>5/1/2014 22:00</td>\n",
       "      <td>NaN</td>\n",
       "      <td>NaN</td>\n",
       "      <td>3rd &amp; H St NW</td>\n",
       "      <td>5/1/2014 21:41</td>\n",
       "      <td>31604</td>\n",
       "      <td>NaN</td>\n",
       "      <td>Registered</td>\n",
       "      <td>NaN</td>\n",
       "      <td>NaN</td>\n",
       "    </tr>\n",
       "    <tr>\n",
       "      <th>387549</th>\n",
       "      <td>NaN</td>\n",
       "      <td>W20566</td>\n",
       "      <td>0h 20m 22s</td>\n",
       "      <td>NaN</td>\n",
       "      <td>5/16/2013 18:00</td>\n",
       "      <td>NaN</td>\n",
       "      <td>NaN</td>\n",
       "      <td>25th St &amp; Pennsylvania Ave NW</td>\n",
       "      <td>NaN</td>\n",
       "      <td>31237</td>\n",
       "      <td>5/16/2013 17:39</td>\n",
       "      <td>NaN</td>\n",
       "      <td>Subscriber</td>\n",
       "      <td>NaN</td>\n",
       "    </tr>\n",
       "    <tr>\n",
       "      <th>46598</th>\n",
       "      <td>NaN</td>\n",
       "      <td>W20075</td>\n",
       "      <td>0h 25m 28s</td>\n",
       "      <td>NaN</td>\n",
       "      <td>3/23/2013 16:24</td>\n",
       "      <td>NaN</td>\n",
       "      <td>NaN</td>\n",
       "      <td>1st &amp; M St NE</td>\n",
       "      <td>3/23/2013 15:58</td>\n",
       "      <td>31603</td>\n",
       "      <td>NaN</td>\n",
       "      <td>NaN</td>\n",
       "      <td>Casual</td>\n",
       "      <td>NaN</td>\n",
       "    </tr>\n",
       "    <tr>\n",
       "      <th>103617</th>\n",
       "      <td>NaN</td>\n",
       "      <td>W21173</td>\n",
       "      <td>0h 13m 22s</td>\n",
       "      <td>Mo Co Warehouse</td>\n",
       "      <td>12/6/2013 8:58</td>\n",
       "      <td>32900</td>\n",
       "      <td>NaN</td>\n",
       "      <td>Silver Spring Metro/Colesville Rd &amp; Wayne Ave</td>\n",
       "      <td>12/6/2013 8:44</td>\n",
       "      <td>32012</td>\n",
       "      <td>NaN</td>\n",
       "      <td>NaN</td>\n",
       "      <td>Subscriber</td>\n",
       "      <td>NaN</td>\n",
       "    </tr>\n",
       "    <tr>\n",
       "      <th>171341</th>\n",
       "      <td>NaN</td>\n",
       "      <td>W00832</td>\n",
       "      <td>0h 14m 35s</td>\n",
       "      <td>Mo Co Warehouse</td>\n",
       "      <td>11/22/2013 9:02</td>\n",
       "      <td>32900</td>\n",
       "      <td>NaN</td>\n",
       "      <td>Silver Spring Metro/Colesville Rd &amp; Wayne Ave</td>\n",
       "      <td>11/22/2013 8:47</td>\n",
       "      <td>32012</td>\n",
       "      <td>NaN</td>\n",
       "      <td>NaN</td>\n",
       "      <td>Subscriber</td>\n",
       "      <td>NaN</td>\n",
       "    </tr>\n",
       "    <tr>\n",
       "      <th>269531</th>\n",
       "      <td>NaN</td>\n",
       "      <td>W20568</td>\n",
       "      <td>0h 14m 5s</td>\n",
       "      <td>NaN</td>\n",
       "      <td>11/8/2013 18:30</td>\n",
       "      <td>NaN</td>\n",
       "      <td>NaN</td>\n",
       "      <td>12th &amp; Hayes St /  Pentagon City Metro</td>\n",
       "      <td>11/8/2013 18:15</td>\n",
       "      <td>31005</td>\n",
       "      <td>NaN</td>\n",
       "      <td>NaN</td>\n",
       "      <td>Subscriber</td>\n",
       "      <td>NaN</td>\n",
       "    </tr>\n",
       "  </tbody>\n",
       "</table>\n",
       "</div>"
      ],
      "text/plain": [
       "       Bike number           Bike#     Duration  \\\n",
       "42832          NaN          W01360    0h 6m 41s   \n",
       "128210         NaN          W01160   0h 25m 42s   \n",
       "368971         NaN          W01297    0h 3m 22s   \n",
       "658611         NaN  ? (0x74BEBCE4)     0h 0m 3s   \n",
       "658612         NaN  ? (0x74BEBCE4)    0h 25m 6s   \n",
       "19005          NaN          W01352   0h 12m 17s   \n",
       "23224          NaN          W00308   0h 10m 16s   \n",
       "27560          NaN          W20012   0h 14m 18s   \n",
       "44513          NaN          W01306     0h 9m 4s   \n",
       "47325          NaN          W01306   0h 11m 48s   \n",
       "47583          NaN          W01306     0h 0m 2s   \n",
       "47668          NaN          W01306     0h 0m 5s   \n",
       "47672          NaN          W01306  11h 32m 36s   \n",
       "49599          NaN          W21229   0h 10m 51s   \n",
       "92983          NaN          W20581  14h 51m 36s   \n",
       "165731         NaN          W20256    0h 1m 33s   \n",
       "231576         NaN          W20256    0h 5m 45s   \n",
       "231595         NaN          W20256    0h 1m 28s   \n",
       "300351         NaN          W00935    0h 19m 2s   \n",
       "375751         NaN          W20256     0h 0m 5s   \n",
       "8677           NaN          W01124    0h 0m 44s   \n",
       "14759          NaN          W20486   0h 20m 20s   \n",
       "146699         NaN          W21341   0h 15m 15s   \n",
       "280353         NaN             NaN    0h 1m 43s   \n",
       "621880         NaN          W01317   0h 18m 31s   \n",
       "387549         NaN          W20566   0h 20m 22s   \n",
       "46598          NaN          W20075   0h 25m 28s   \n",
       "103617         NaN          W21173   0h 13m 22s   \n",
       "171341         NaN          W00832   0h 14m 35s   \n",
       "269531         NaN          W20568    0h 14m 5s   \n",
       "\n",
       "                          End Station         End date  End terminal  \\\n",
       "42832                             NaN   7/5/2014 11:00           NaN   \n",
       "128210                            NaN  7/13/2014 13:17           NaN   \n",
       "368971                            NaN   8/4/2014 17:39           NaN   \n",
       "658611               Alta Tech Office   9/11/2013 6:19         32902   \n",
       "658612               Alta Tech Office   9/11/2013 6:45         32902   \n",
       "19005                 Mo Co Warehouse    1/8/2014 8:53         32900   \n",
       "23224                 Mo Co Warehouse    1/9/2014 8:45         32900   \n",
       "27560                 Mo Co Warehouse   1/10/2014 8:52         32900   \n",
       "44513                 Mo Co Warehouse   1/14/2014 8:42         32900   \n",
       "47325                 Mo Co Warehouse  1/14/2014 19:08         32900   \n",
       "47583                 Mo Co Warehouse  1/14/2014 19:24         32900   \n",
       "47668                 Mo Co Warehouse  1/14/2014 19:37         32900   \n",
       "47672   Friendship Blvd & Willard Ave   1/15/2014 7:09         32040   \n",
       "49599                 Mo Co Warehouse   1/15/2014 8:31         32900   \n",
       "92983                 Mo Co Warehouse   1/27/2014 8:33         32900   \n",
       "165731                Mo Co Warehouse  2/12/2014 14:07         32900   \n",
       "231576                Mo Co Warehouse  2/27/2014 14:20         32900   \n",
       "231595                Mo Co Warehouse  2/27/2014 14:22         32900   \n",
       "300351                Mo Co Warehouse   3/13/2014 8:43         32900   \n",
       "375751                Mo Co Warehouse  3/25/2014 19:48         32900   \n",
       "8677                              NaN   6/30/2014 8:45           NaN   \n",
       "14759                             NaN  6/29/2014 16:43           NaN   \n",
       "146699                            NaN  6/17/2014 14:35           NaN   \n",
       "280353                            NaN   6/4/2014 18:49           NaN   \n",
       "621880                            NaN   5/1/2014 22:00           NaN   \n",
       "387549                            NaN  5/16/2013 18:00           NaN   \n",
       "46598                             NaN  3/23/2013 16:24           NaN   \n",
       "103617                Mo Co Warehouse   12/6/2013 8:58         32900   \n",
       "171341                Mo Co Warehouse  11/22/2013 9:02         32900   \n",
       "269531                            NaN  11/8/2013 18:30           NaN   \n",
       "\n",
       "       Member Type                                  Start Station  \\\n",
       "42832          NaN                     Veterans Pl & Pershing Dr    \n",
       "128210         NaN                 15th St & Massachusetts Ave SE   \n",
       "368971         NaN                                 15th & P St NW   \n",
       "658611         NaN                               Alta Tech Office   \n",
       "658612         NaN                               Alta Tech Office   \n",
       "19005   Registered  Silver Spring Metro/Colesville Rd & Wayne Ave   \n",
       "23224   Registered  Silver Spring Metro/Colesville Rd & Wayne Ave   \n",
       "27560   Registered  Silver Spring Metro/Colesville Rd & Wayne Ave   \n",
       "44513   Registered  Silver Spring Metro/Colesville Rd & Wayne Ave   \n",
       "47325   Registered                                Mo Co Warehouse   \n",
       "47583   Registered                                Mo Co Warehouse   \n",
       "47668   Registered                                Mo Co Warehouse   \n",
       "47672   Registered                                Mo Co Warehouse   \n",
       "49599   Registered  Silver Spring Metro/Colesville Rd & Wayne Ave   \n",
       "92983   Registered                   Montgomery Ave & Waverly St    \n",
       "165731  Registered                                Mo Co Warehouse   \n",
       "231576  Registered                                Mo Co Warehouse   \n",
       "231595  Registered                                Mo Co Warehouse   \n",
       "300351  Registered                           Ripley & Bonifant St   \n",
       "375751  Registered                                Mo Co Warehouse   \n",
       "8677           NaN                          N Veitch  & 20th St N   \n",
       "14759          NaN           Ballston Metro / N Stuart & 9th St N   \n",
       "146699         NaN                                  4th & M St SW   \n",
       "280353         NaN                 Georgia & New Hampshire Ave NW   \n",
       "621880         NaN                                  3rd & H St NW   \n",
       "387549         NaN                  25th St & Pennsylvania Ave NW   \n",
       "46598          NaN                                  1st & M St NE   \n",
       "103617         NaN  Silver Spring Metro/Colesville Rd & Wayne Ave   \n",
       "171341         NaN  Silver Spring Metro/Colesville Rd & Wayne Ave   \n",
       "269531         NaN         12th & Hayes St /  Pentagon City Metro   \n",
       "\n",
       "             Start date  Start terminal       Start time Subscriber Type  \\\n",
       "42832    7/5/2014 10:53           32043              NaN             NaN   \n",
       "128210  7/13/2014 12:51           31626              NaN             NaN   \n",
       "368971   8/4/2014 17:35           31201              NaN             NaN   \n",
       "658611   9/11/2013 6:19           32902              NaN             NaN   \n",
       "658612   9/11/2013 6:19           32902              NaN             NaN   \n",
       "19005     1/8/2014 8:41           32012              NaN             NaN   \n",
       "23224     1/9/2014 8:35           32012              NaN             NaN   \n",
       "27560    1/10/2014 8:38           32012              NaN             NaN   \n",
       "44513    1/14/2014 8:33           32012              NaN             NaN   \n",
       "47325   1/14/2014 18:57           32900              NaN             NaN   \n",
       "47583   1/14/2014 19:24           32900              NaN             NaN   \n",
       "47668   1/14/2014 19:36           32900              NaN             NaN   \n",
       "47672   1/14/2014 19:37           32900              NaN             NaN   \n",
       "49599    1/15/2014 8:20           32012              NaN             NaN   \n",
       "92983   1/26/2014 17:41           32003              NaN             NaN   \n",
       "165731  2/12/2014 14:05           32900              NaN             NaN   \n",
       "231576  2/27/2014 14:14           32900              NaN             NaN   \n",
       "231595  2/27/2014 14:21           32900              NaN             NaN   \n",
       "300351   3/13/2014 8:24           32034              NaN             NaN   \n",
       "375751  3/25/2014 19:48           32900              NaN             NaN   \n",
       "8677     6/30/2014 8:44           31029              NaN      Registered   \n",
       "14759   6/29/2014 16:22           31037              NaN      Registered   \n",
       "146699  6/17/2014 14:19           31108              NaN      Registered   \n",
       "280353   6/4/2014 18:47           31400              NaN      Registered   \n",
       "621880   5/1/2014 21:41           31604              NaN      Registered   \n",
       "387549              NaN           31237  5/16/2013 17:39             NaN   \n",
       "46598   3/23/2013 15:58           31603              NaN             NaN   \n",
       "103617   12/6/2013 8:44           32012              NaN             NaN   \n",
       "171341  11/22/2013 8:47           32012              NaN             NaN   \n",
       "269531  11/8/2013 18:15           31005              NaN             NaN   \n",
       "\n",
       "       Subscription Type  Total duration (ms)  \n",
       "42832         Registered                  NaN  \n",
       "128210        Registered                  NaN  \n",
       "368971        Registered                  NaN  \n",
       "658611        Subscriber                  NaN  \n",
       "658612        Subscriber                  NaN  \n",
       "19005                NaN                  NaN  \n",
       "23224                NaN                  NaN  \n",
       "27560                NaN                  NaN  \n",
       "44513                NaN                  NaN  \n",
       "47325                NaN                  NaN  \n",
       "47583                NaN                  NaN  \n",
       "47668                NaN                  NaN  \n",
       "47672                NaN                  NaN  \n",
       "49599                NaN                  NaN  \n",
       "92983                NaN                  NaN  \n",
       "165731               NaN                  NaN  \n",
       "231576               NaN                  NaN  \n",
       "231595               NaN                  NaN  \n",
       "300351               NaN                  NaN  \n",
       "375751               NaN                  NaN  \n",
       "8677                 NaN                  NaN  \n",
       "14759                NaN                  NaN  \n",
       "146699               NaN                  NaN  \n",
       "280353               NaN                  NaN  \n",
       "621880               NaN                  NaN  \n",
       "387549        Subscriber                  NaN  \n",
       "46598             Casual                  NaN  \n",
       "103617        Subscriber                  NaN  \n",
       "171341        Subscriber                  NaN  \n",
       "269531        Subscriber                  NaN  "
      ]
     },
     "execution_count": 26,
     "metadata": {},
     "output_type": "execute_result"
    }
   ],
   "source": [
    "# This only returns rows which match anomaly_mask\n",
    "df[~(df['Start Station'].isin(mapping)) | ~(df['End Station'].isin(mapping))]"
   ]
  }
 ],
 "metadata": {
  "kernelspec": {
   "display_name": "Python 2",
   "language": "python",
   "name": "python2"
  },
  "language_info": {
   "codemirror_mode": {
    "name": "ipython",
    "version": 2
   },
   "file_extension": ".py",
   "mimetype": "text/x-python",
   "name": "python",
   "nbconvert_exporter": "python",
   "pygments_lexer": "ipython2",
   "version": "2.7.10"
  }
 },
 "nbformat": 4,
 "nbformat_minor": 0
}
