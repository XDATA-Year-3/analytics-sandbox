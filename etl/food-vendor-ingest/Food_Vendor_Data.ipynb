{
 "cells": [
  {
   "cell_type": "code",
   "execution_count": 16,
   "metadata": {
    "collapsed": true
   },
   "outputs": [],
   "source": [
    "import datetime\n",
    "import itertools\n",
    "import json\n",
    "import numpy as np\n",
    "import os\n",
    "import pandas as pd\n",
    "from pandas_helpers import *\n",
    "import pickle\n",
    "import pprint\n",
    "import random\n",
    "import re\n",
    "import requests\n",
    "import seaborn\n",
    "import sys\n",
    "import time\n",
    "\n",
    "pd.set_option('display.precision', 20)\n",
    "\n",
    "DATA_DIR = 'data/citydata/food_vendor'\n",
    "\n",
    "random.seed(90210)"
   ]
  },
  {
   "cell_type": "code",
   "execution_count": 50,
   "metadata": {
    "collapsed": true
   },
   "outputs": [],
   "source": [
    "df = df_orig = pd.read_csv(os.path.join(DATA_DIR, 'CityOfBoston_Active_Food_Establishment_Licenses.csv'),\n",
    "                           parse_dates=['LicenseAddDtTm'])"
   ]
  },
  {
   "cell_type": "code",
   "execution_count": 51,
   "metadata": {
    "collapsed": false
   },
   "outputs": [
    {
     "data": {
      "text/html": [
       "<div>\n",
       "<table border=\"1\" class=\"dataframe\">\n",
       "  <thead>\n",
       "    <tr style=\"text-align: right;\">\n",
       "      <th></th>\n",
       "      <th>BusinessName</th>\n",
       "      <th>DBAName</th>\n",
       "      <th>Address</th>\n",
       "      <th>City</th>\n",
       "      <th>State</th>\n",
       "      <th>Zip</th>\n",
       "      <th>LICSTATUS</th>\n",
       "      <th>LICENSECAT</th>\n",
       "      <th>DESCRIPT</th>\n",
       "      <th>LicenseAddDtTm</th>\n",
       "      <th>DAYPHN</th>\n",
       "      <th>Property_ID</th>\n",
       "      <th>Location</th>\n",
       "    </tr>\n",
       "  </thead>\n",
       "  <tbody>\n",
       "    <tr>\n",
       "      <th>0</th>\n",
       "      <td># 7 RESTAURANT</td>\n",
       "      <td>NaN</td>\n",
       "      <td>225 Grove</td>\n",
       "      <td>West Roxbury</td>\n",
       "      <td>MA</td>\n",
       "      <td>2132</td>\n",
       "      <td>Active</td>\n",
       "      <td>FT</td>\n",
       "      <td>Eating &amp; Drinking w/ Take Out</td>\n",
       "      <td>2007-03-23 15:20:59</td>\n",
       "      <td>10000000000</td>\n",
       "      <td>156965</td>\n",
       "      <td>(42.261873, -71.15741)</td>\n",
       "    </tr>\n",
       "    <tr>\n",
       "      <th>1</th>\n",
       "      <td>129 Lake Street Cafe</td>\n",
       "      <td>NaN</td>\n",
       "      <td>127 LAKE</td>\n",
       "      <td>Brighton/</td>\n",
       "      <td>MA</td>\n",
       "      <td>2135</td>\n",
       "      <td>Active</td>\n",
       "      <td>FS</td>\n",
       "      <td>Eating &amp; Drinking</td>\n",
       "      <td>2010-10-14 12:49:26</td>\n",
       "      <td>16175523307</td>\n",
       "      <td>0</td>\n",
       "      <td>(42.3594, -71.0587)</td>\n",
       "    </tr>\n",
       "    <tr>\n",
       "      <th>2</th>\n",
       "      <td>149 Eat Street</td>\n",
       "      <td>NaN</td>\n",
       "      <td>300 CHELSEA</td>\n",
       "      <td>Charlestown/</td>\n",
       "      <td>MA</td>\n",
       "      <td>2129</td>\n",
       "      <td>Active</td>\n",
       "      <td>FS</td>\n",
       "      <td>Eating &amp; Drinking</td>\n",
       "      <td>2007-10-11 09:08:52</td>\n",
       "      <td>16177262520</td>\n",
       "      <td>0</td>\n",
       "      <td>(42.3594, -71.0587)</td>\n",
       "    </tr>\n",
       "    <tr>\n",
       "      <th>3</th>\n",
       "      <td>163 Vietnamese Sandwich</td>\n",
       "      <td>NaN</td>\n",
       "      <td>66 Harrison</td>\n",
       "      <td>BOSTON</td>\n",
       "      <td>MA</td>\n",
       "      <td>2111</td>\n",
       "      <td>Active</td>\n",
       "      <td>FS</td>\n",
       "      <td>Eating &amp; Drinking</td>\n",
       "      <td>2007-08-09 13:26:45</td>\n",
       "      <td>16175427903</td>\n",
       "      <td>NaN</td>\n",
       "      <td>(42.3594, -71.0587)</td>\n",
       "    </tr>\n",
       "    <tr>\n",
       "      <th>4</th>\n",
       "      <td>20TH CENTRY BOWLING LANES</td>\n",
       "      <td>NaN</td>\n",
       "      <td>1231 Hyde Park</td>\n",
       "      <td>Hyde Park</td>\n",
       "      <td>MA</td>\n",
       "      <td>2136</td>\n",
       "      <td>Active</td>\n",
       "      <td>FT</td>\n",
       "      <td>Eating &amp; Drinking w/ Take Out</td>\n",
       "      <td>2006-12-07 13:34:04</td>\n",
       "      <td>13392372645</td>\n",
       "      <td>77089</td>\n",
       "      <td>(42.25682, -71.12411)</td>\n",
       "    </tr>\n",
       "  </tbody>\n",
       "</table>\n",
       "</div>"
      ],
      "text/plain": [
       "                BusinessName DBAName         Address          City State  \\\n",
       "0             # 7 RESTAURANT     NaN       225 Grove  West Roxbury    MA   \n",
       "1       129 Lake Street Cafe     NaN        127 LAKE     Brighton/    MA   \n",
       "2             149 Eat Street     NaN     300 CHELSEA  Charlestown/    MA   \n",
       "3    163 Vietnamese Sandwich     NaN     66 Harrison        BOSTON    MA   \n",
       "4  20TH CENTRY BOWLING LANES     NaN  1231 Hyde Park     Hyde Park    MA   \n",
       "\n",
       "    Zip LICSTATUS LICENSECAT                       DESCRIPT  \\\n",
       "0  2132    Active         FT  Eating & Drinking w/ Take Out   \n",
       "1  2135    Active         FS              Eating & Drinking   \n",
       "2  2129    Active         FS              Eating & Drinking   \n",
       "3  2111    Active         FS              Eating & Drinking   \n",
       "4  2136    Active         FT  Eating & Drinking w/ Take Out   \n",
       "\n",
       "       LicenseAddDtTm       DAYPHN  Property_ID                Location  \n",
       "0 2007-03-23 15:20:59  10000000000       156965  (42.261873, -71.15741)  \n",
       "1 2010-10-14 12:49:26  16175523307            0     (42.3594, -71.0587)  \n",
       "2 2007-10-11 09:08:52  16177262520            0     (42.3594, -71.0587)  \n",
       "3 2007-08-09 13:26:45  16175427903          NaN     (42.3594, -71.0587)  \n",
       "4 2006-12-07 13:34:04  13392372645        77089   (42.25682, -71.12411)  "
      ]
     },
     "execution_count": 51,
     "metadata": {},
     "output_type": "execute_result"
    }
   ],
   "source": [
    "df.head()"
   ]
  },
  {
   "cell_type": "code",
   "execution_count": 52,
   "metadata": {
    "collapsed": false
   },
   "outputs": [],
   "source": [
    "df = df[df['LicenseAddDtTm'].dt.year >= 2012]"
   ]
  },
  {
   "cell_type": "code",
   "execution_count": 53,
   "metadata": {
    "collapsed": false
   },
   "outputs": [
    {
     "data": {
      "text/html": [
       "<div>\n",
       "<table border=\"1\" class=\"dataframe\">\n",
       "  <thead>\n",
       "    <tr style=\"text-align: right;\">\n",
       "      <th></th>\n",
       "      <th>BusinessName</th>\n",
       "      <th>DBAName</th>\n",
       "      <th>Address</th>\n",
       "      <th>City</th>\n",
       "      <th>State</th>\n",
       "      <th>Zip</th>\n",
       "      <th>LICSTATUS</th>\n",
       "      <th>LICENSECAT</th>\n",
       "      <th>DESCRIPT</th>\n",
       "      <th>LicenseAddDtTm</th>\n",
       "      <th>DAYPHN</th>\n",
       "      <th>Property_ID</th>\n",
       "      <th>Location</th>\n",
       "    </tr>\n",
       "  </thead>\n",
       "  <tbody>\n",
       "    <tr>\n",
       "      <th>10</th>\n",
       "      <td>7 Pond Coffee Bar</td>\n",
       "      <td>NaN</td>\n",
       "      <td>597 Centre</td>\n",
       "      <td>Jamaica Plain</td>\n",
       "      <td>MA</td>\n",
       "      <td>2130</td>\n",
       "      <td>Active</td>\n",
       "      <td>FT</td>\n",
       "      <td>Eating &amp; Drinking w/ Take Out</td>\n",
       "      <td>2013-08-15 08:59:40</td>\n",
       "      <td>10000000000</td>\n",
       "      <td>28129</td>\n",
       "      <td>(42.3149, -71.11427)</td>\n",
       "    </tr>\n",
       "    <tr>\n",
       "      <th>13</th>\n",
       "      <td>75 On Liberty Wharf</td>\n",
       "      <td>NaN</td>\n",
       "      <td>220 Northern</td>\n",
       "      <td>Boston</td>\n",
       "      <td>MA</td>\n",
       "      <td>2210</td>\n",
       "      <td>Active</td>\n",
       "      <td>FS</td>\n",
       "      <td>Eating &amp; Drinking</td>\n",
       "      <td>2012-05-18 10:28:35</td>\n",
       "      <td>16178547631</td>\n",
       "      <td>342823</td>\n",
       "      <td>(42.3594, -71.0587)</td>\n",
       "    </tr>\n",
       "    <tr>\n",
       "      <th>16</th>\n",
       "      <td>A @ Time</td>\n",
       "      <td>NaN</td>\n",
       "      <td>417 Cambridge</td>\n",
       "      <td>Allston</td>\n",
       "      <td>MA</td>\n",
       "      <td>2134</td>\n",
       "      <td>Active</td>\n",
       "      <td>FT</td>\n",
       "      <td>Eating &amp; Drinking w/ Take Out</td>\n",
       "      <td>2012-11-19 13:13:38</td>\n",
       "      <td>10000000000</td>\n",
       "      <td>25121</td>\n",
       "      <td>(42.355123, -71.134062)</td>\n",
       "    </tr>\n",
       "    <tr>\n",
       "      <th>21</th>\n",
       "      <td>Abby Lane</td>\n",
       "      <td>NaN</td>\n",
       "      <td>253 Tremont</td>\n",
       "      <td>Boston</td>\n",
       "      <td>MA</td>\n",
       "      <td>2116</td>\n",
       "      <td>Active</td>\n",
       "      <td>FS</td>\n",
       "      <td>Eating &amp; Drinking</td>\n",
       "      <td>2012-05-01 14:10:49</td>\n",
       "      <td>17812548888</td>\n",
       "      <td>137467</td>\n",
       "      <td>(42.35044, -71.06535)</td>\n",
       "    </tr>\n",
       "    <tr>\n",
       "      <th>23</th>\n",
       "      <td>ABIGAIL'S TEA ROOM @CONGRESS BRIDGE</td>\n",
       "      <td>NaN</td>\n",
       "      <td>306 Congress</td>\n",
       "      <td>Boston</td>\n",
       "      <td>MA</td>\n",
       "      <td>2210</td>\n",
       "      <td>Active</td>\n",
       "      <td>FS</td>\n",
       "      <td>Eating &amp; Drinking</td>\n",
       "      <td>2012-01-17 12:47:36</td>\n",
       "      <td>16177371773</td>\n",
       "      <td>NaN</td>\n",
       "      <td>(42.3594, -71.0587)</td>\n",
       "    </tr>\n",
       "  </tbody>\n",
       "</table>\n",
       "</div>"
      ],
      "text/plain": [
       "                           BusinessName DBAName        Address           City  \\\n",
       "10                    7 Pond Coffee Bar     NaN     597 Centre  Jamaica Plain   \n",
       "13                  75 On Liberty Wharf     NaN   220 Northern         Boston   \n",
       "16                             A @ Time     NaN  417 Cambridge        Allston   \n",
       "21                            Abby Lane     NaN    253 Tremont         Boston   \n",
       "23  ABIGAIL'S TEA ROOM @CONGRESS BRIDGE     NaN   306 Congress         Boston   \n",
       "\n",
       "   State   Zip LICSTATUS LICENSECAT                       DESCRIPT  \\\n",
       "10    MA  2130    Active         FT  Eating & Drinking w/ Take Out   \n",
       "13    MA  2210    Active         FS              Eating & Drinking   \n",
       "16    MA  2134    Active         FT  Eating & Drinking w/ Take Out   \n",
       "21    MA  2116    Active         FS              Eating & Drinking   \n",
       "23    MA  2210    Active         FS              Eating & Drinking   \n",
       "\n",
       "        LicenseAddDtTm       DAYPHN  Property_ID                 Location  \n",
       "10 2013-08-15 08:59:40  10000000000        28129     (42.3149, -71.11427)  \n",
       "13 2012-05-18 10:28:35  16178547631       342823      (42.3594, -71.0587)  \n",
       "16 2012-11-19 13:13:38  10000000000        25121  (42.355123, -71.134062)  \n",
       "21 2012-05-01 14:10:49  17812548888       137467    (42.35044, -71.06535)  \n",
       "23 2012-01-17 12:47:36  16177371773          NaN      (42.3594, -71.0587)  "
      ]
     },
     "execution_count": 53,
     "metadata": {},
     "output_type": "execute_result"
    }
   ],
   "source": [
    "df.head()"
   ]
  },
  {
   "cell_type": "code",
   "execution_count": 54,
   "metadata": {
    "collapsed": false
   },
   "outputs": [
    {
     "data": {
      "text/plain": [
       "556"
      ]
     },
     "execution_count": 54,
     "metadata": {},
     "output_type": "execute_result"
    }
   ],
   "source": [
    "len(df)"
   ]
  },
  {
   "cell_type": "code",
   "execution_count": 55,
   "metadata": {
    "collapsed": false
   },
   "outputs": [
    {
     "data": {
      "text/plain": [
       "array(['Eating & Drinking w/ Take Out', 'Eating & Drinking'], dtype=object)"
      ]
     },
     "execution_count": 55,
     "metadata": {},
     "output_type": "execute_result"
    }
   ],
   "source": [
    "pd.unique(df['DESCRIPT'])"
   ]
  },
  {
   "cell_type": "code",
   "execution_count": 56,
   "metadata": {
    "collapsed": false
   },
   "outputs": [
    {
     "name": "stderr",
     "output_type": "stream",
     "text": [
      "/usr/lib/python2.7/site-packages/IPython/kernel/__main__.py:4: SettingWithCopyWarning: \n",
      "A value is trying to be set on a copy of a slice from a DataFrame\n",
      "\n",
      "See the the caveats in the documentation: http://pandas.pydata.org/pandas-docs/stable/indexing.html#indexing-view-versus-copy\n"
     ]
    }
   ],
   "source": [
    "try:\n",
    "    df.drop(['DBAName', 'Address', 'City', 'State', 'Zip', 'LICSTATUS', 'LICENSECAT', 'DAYPHN', 'Property_ID'],\n",
    "           axis=1,\n",
    "           inplace=True)\n",
    "except ValueError:\n",
    "    pass"
   ]
  },
  {
   "cell_type": "code",
   "execution_count": 57,
   "metadata": {
    "collapsed": false
   },
   "outputs": [
    {
     "data": {
      "text/html": [
       "<div>\n",
       "<table border=\"1\" class=\"dataframe\">\n",
       "  <thead>\n",
       "    <tr style=\"text-align: right;\">\n",
       "      <th></th>\n",
       "      <th>BusinessName</th>\n",
       "      <th>DESCRIPT</th>\n",
       "      <th>LicenseAddDtTm</th>\n",
       "      <th>Location</th>\n",
       "    </tr>\n",
       "  </thead>\n",
       "  <tbody>\n",
       "    <tr>\n",
       "      <th>10</th>\n",
       "      <td>7 Pond Coffee Bar</td>\n",
       "      <td>Eating &amp; Drinking w/ Take Out</td>\n",
       "      <td>2013-08-15 08:59:40</td>\n",
       "      <td>(42.3149, -71.11427)</td>\n",
       "    </tr>\n",
       "    <tr>\n",
       "      <th>13</th>\n",
       "      <td>75 On Liberty Wharf</td>\n",
       "      <td>Eating &amp; Drinking</td>\n",
       "      <td>2012-05-18 10:28:35</td>\n",
       "      <td>(42.3594, -71.0587)</td>\n",
       "    </tr>\n",
       "    <tr>\n",
       "      <th>16</th>\n",
       "      <td>A @ Time</td>\n",
       "      <td>Eating &amp; Drinking w/ Take Out</td>\n",
       "      <td>2012-11-19 13:13:38</td>\n",
       "      <td>(42.355123, -71.134062)</td>\n",
       "    </tr>\n",
       "    <tr>\n",
       "      <th>21</th>\n",
       "      <td>Abby Lane</td>\n",
       "      <td>Eating &amp; Drinking</td>\n",
       "      <td>2012-05-01 14:10:49</td>\n",
       "      <td>(42.35044, -71.06535)</td>\n",
       "    </tr>\n",
       "    <tr>\n",
       "      <th>23</th>\n",
       "      <td>ABIGAIL'S TEA ROOM @CONGRESS BRIDGE</td>\n",
       "      <td>Eating &amp; Drinking</td>\n",
       "      <td>2012-01-17 12:47:36</td>\n",
       "      <td>(42.3594, -71.0587)</td>\n",
       "    </tr>\n",
       "  </tbody>\n",
       "</table>\n",
       "</div>"
      ],
      "text/plain": [
       "                           BusinessName                       DESCRIPT  \\\n",
       "10                    7 Pond Coffee Bar  Eating & Drinking w/ Take Out   \n",
       "13                  75 On Liberty Wharf              Eating & Drinking   \n",
       "16                             A @ Time  Eating & Drinking w/ Take Out   \n",
       "21                            Abby Lane              Eating & Drinking   \n",
       "23  ABIGAIL'S TEA ROOM @CONGRESS BRIDGE              Eating & Drinking   \n",
       "\n",
       "        LicenseAddDtTm                 Location  \n",
       "10 2013-08-15 08:59:40     (42.3149, -71.11427)  \n",
       "13 2012-05-18 10:28:35      (42.3594, -71.0587)  \n",
       "16 2012-11-19 13:13:38  (42.355123, -71.134062)  \n",
       "21 2012-05-01 14:10:49    (42.35044, -71.06535)  \n",
       "23 2012-01-17 12:47:36      (42.3594, -71.0587)  "
      ]
     },
     "execution_count": 57,
     "metadata": {},
     "output_type": "execute_result"
    }
   ],
   "source": [
    "df.head()"
   ]
  },
  {
   "cell_type": "code",
   "execution_count": 58,
   "metadata": {
    "collapsed": true
   },
   "outputs": [],
   "source": [
    "df = df.drop('BusinessName', axis=1)"
   ]
  },
  {
   "cell_type": "code",
   "execution_count": 59,
   "metadata": {
    "collapsed": false
   },
   "outputs": [],
   "source": [
    "df = df.drop('Location', axis=1)"
   ]
  },
  {
   "cell_type": "code",
   "execution_count": 60,
   "metadata": {
    "collapsed": false
   },
   "outputs": [],
   "source": [
    "df['date'] = df['LicenseAddDtTm'].map(lambda dt: dt.strftime(\"%Y-%m-%d\"))"
   ]
  },
  {
   "cell_type": "code",
   "execution_count": 61,
   "metadata": {
    "collapsed": false
   },
   "outputs": [],
   "source": [
    "df = df.drop('LicenseAddDtTm', axis=1)"
   ]
  },
  {
   "cell_type": "code",
   "execution_count": 62,
   "metadata": {
    "collapsed": false
   },
   "outputs": [
    {
     "data": {
      "text/html": [
       "<div>\n",
       "<table border=\"1\" class=\"dataframe\">\n",
       "  <thead>\n",
       "    <tr style=\"text-align: right;\">\n",
       "      <th></th>\n",
       "      <th>DESCRIPT</th>\n",
       "      <th>date</th>\n",
       "    </tr>\n",
       "  </thead>\n",
       "  <tbody>\n",
       "    <tr>\n",
       "      <th>10</th>\n",
       "      <td>Eating &amp; Drinking w/ Take Out</td>\n",
       "      <td>2013-08-15</td>\n",
       "    </tr>\n",
       "    <tr>\n",
       "      <th>13</th>\n",
       "      <td>Eating &amp; Drinking</td>\n",
       "      <td>2012-05-18</td>\n",
       "    </tr>\n",
       "    <tr>\n",
       "      <th>16</th>\n",
       "      <td>Eating &amp; Drinking w/ Take Out</td>\n",
       "      <td>2012-11-19</td>\n",
       "    </tr>\n",
       "    <tr>\n",
       "      <th>21</th>\n",
       "      <td>Eating &amp; Drinking</td>\n",
       "      <td>2012-05-01</td>\n",
       "    </tr>\n",
       "    <tr>\n",
       "      <th>23</th>\n",
       "      <td>Eating &amp; Drinking</td>\n",
       "      <td>2012-01-17</td>\n",
       "    </tr>\n",
       "  </tbody>\n",
       "</table>\n",
       "</div>"
      ],
      "text/plain": [
       "                         DESCRIPT        date\n",
       "10  Eating & Drinking w/ Take Out  2013-08-15\n",
       "13              Eating & Drinking  2012-05-18\n",
       "16  Eating & Drinking w/ Take Out  2012-11-19\n",
       "21              Eating & Drinking  2012-05-01\n",
       "23              Eating & Drinking  2012-01-17"
      ]
     },
     "execution_count": 62,
     "metadata": {},
     "output_type": "execute_result"
    }
   ],
   "source": [
    "df.head()"
   ]
  },
  {
   "cell_type": "code",
   "execution_count": 63,
   "metadata": {
    "collapsed": false,
    "scrolled": true
   },
   "outputs": [
    {
     "data": {
      "text/html": [
       "<div>\n",
       "<table border=\"1\" class=\"dataframe\">\n",
       "  <thead>\n",
       "    <tr style=\"text-align: right;\">\n",
       "      <th>DESCRIPT</th>\n",
       "      <th>date</th>\n",
       "      <th>Eating &amp; Drinking</th>\n",
       "      <th>Eating &amp; Drinking w/ Take Out</th>\n",
       "    </tr>\n",
       "  </thead>\n",
       "  <tbody>\n",
       "    <tr>\n",
       "      <th>0</th>\n",
       "      <td>2012-01-04</td>\n",
       "      <td>0</td>\n",
       "      <td>1</td>\n",
       "    </tr>\n",
       "    <tr>\n",
       "      <th>1</th>\n",
       "      <td>2012-01-06</td>\n",
       "      <td>1</td>\n",
       "      <td>2</td>\n",
       "    </tr>\n",
       "    <tr>\n",
       "      <th>2</th>\n",
       "      <td>2012-01-11</td>\n",
       "      <td>0</td>\n",
       "      <td>1</td>\n",
       "    </tr>\n",
       "    <tr>\n",
       "      <th>3</th>\n",
       "      <td>2012-01-12</td>\n",
       "      <td>1</td>\n",
       "      <td>2</td>\n",
       "    </tr>\n",
       "    <tr>\n",
       "      <th>4</th>\n",
       "      <td>2012-01-17</td>\n",
       "      <td>2</td>\n",
       "      <td>3</td>\n",
       "    </tr>\n",
       "  </tbody>\n",
       "</table>\n",
       "</div>"
      ],
      "text/plain": [
       "DESCRIPT        date  Eating & Drinking  Eating & Drinking w/ Take Out\n",
       "0         2012-01-04                  0                              1\n",
       "1         2012-01-06                  1                              2\n",
       "2         2012-01-11                  0                              1\n",
       "3         2012-01-12                  1                              2\n",
       "4         2012-01-17                  2                              3"
      ]
     },
     "execution_count": 63,
     "metadata": {},
     "output_type": "execute_result"
    }
   ],
   "source": [
    "df = pd.pivot_table(df, index='date', columns='DESCRIPT', aggfunc=len).fillna(0).reset_index()\n",
    "df.head()"
   ]
  },
  {
   "cell_type": "code",
   "execution_count": 64,
   "metadata": {
    "collapsed": false
   },
   "outputs": [
    {
     "data": {
      "text/html": [
       "<div>\n",
       "<table border=\"1\" class=\"dataframe\">\n",
       "  <thead>\n",
       "    <tr style=\"text-align: right;\">\n",
       "      <th>DESCRIPT</th>\n",
       "      <th>date</th>\n",
       "      <th>Eating &amp; Drinking</th>\n",
       "      <th>Eating &amp; Drinking w/ Take Out</th>\n",
       "    </tr>\n",
       "  </thead>\n",
       "  <tbody>\n",
       "    <tr>\n",
       "      <th>228</th>\n",
       "      <td>2013-08-15</td>\n",
       "      <td>3</td>\n",
       "      <td>1</td>\n",
       "    </tr>\n",
       "  </tbody>\n",
       "</table>\n",
       "</div>"
      ],
      "text/plain": [
       "DESCRIPT        date  Eating & Drinking  Eating & Drinking w/ Take Out\n",
       "228       2013-08-15                  3                              1"
      ]
     },
     "execution_count": 64,
     "metadata": {},
     "output_type": "execute_result"
    }
   ],
   "source": [
    "df[df['date'] == '2013-08-15']"
   ]
  },
  {
   "cell_type": "code",
   "execution_count": 69,
   "metadata": {
    "collapsed": false
   },
   "outputs": [
    {
     "data": {
      "text/html": [
       "<div>\n",
       "<table border=\"1\" class=\"dataframe\">\n",
       "  <thead>\n",
       "    <tr style=\"text-align: right;\">\n",
       "      <th></th>\n",
       "      <th>BusinessName</th>\n",
       "      <th>DBAName</th>\n",
       "      <th>Address</th>\n",
       "      <th>City</th>\n",
       "      <th>State</th>\n",
       "      <th>Zip</th>\n",
       "      <th>LICSTATUS</th>\n",
       "      <th>LICENSECAT</th>\n",
       "      <th>DESCRIPT</th>\n",
       "      <th>LicenseAddDtTm</th>\n",
       "      <th>DAYPHN</th>\n",
       "      <th>Property_ID</th>\n",
       "      <th>Location</th>\n",
       "    </tr>\n",
       "  </thead>\n",
       "  <tbody>\n",
       "    <tr>\n",
       "      <th>10</th>\n",
       "      <td>7 Pond Coffee Bar</td>\n",
       "      <td>NaN</td>\n",
       "      <td>597 Centre</td>\n",
       "      <td>Jamaica Plain</td>\n",
       "      <td>MA</td>\n",
       "      <td>2130</td>\n",
       "      <td>Active</td>\n",
       "      <td>FT</td>\n",
       "      <td>Eating &amp; Drinking w/ Take Out</td>\n",
       "      <td>2013-08-15 08:59:40</td>\n",
       "      <td>10000000000</td>\n",
       "      <td>28129</td>\n",
       "      <td>(42.3149, -71.11427)</td>\n",
       "    </tr>\n",
       "    <tr>\n",
       "      <th>1873</th>\n",
       "      <td>PHO SO 1 BOSTON</td>\n",
       "      <td>NaN</td>\n",
       "      <td>223 Adams</td>\n",
       "      <td>Dorchester</td>\n",
       "      <td>MA</td>\n",
       "      <td>2122</td>\n",
       "      <td>Active</td>\n",
       "      <td>FS</td>\n",
       "      <td>Eating &amp; Drinking</td>\n",
       "      <td>2013-08-15 09:23:52</td>\n",
       "      <td>16174368888</td>\n",
       "      <td>156041</td>\n",
       "      <td>(42.301468, -71.060031)</td>\n",
       "    </tr>\n",
       "    <tr>\n",
       "      <th>1881</th>\n",
       "      <td>Pier 6 Restaurant</td>\n",
       "      <td>NaN</td>\n",
       "      <td>1 Eighth</td>\n",
       "      <td>Charlestown</td>\n",
       "      <td>MA</td>\n",
       "      <td>2129</td>\n",
       "      <td>Active</td>\n",
       "      <td>FS</td>\n",
       "      <td>Eating &amp; Drinking</td>\n",
       "      <td>2013-08-15 08:49:47</td>\n",
       "      <td>10000000000</td>\n",
       "      <td>343036</td>\n",
       "      <td>(42.373172, -71.050092)</td>\n",
       "    </tr>\n",
       "    <tr>\n",
       "      <th>1902</th>\n",
       "      <td>Pizza Stop</td>\n",
       "      <td>NaN</td>\n",
       "      <td>851 Harrison</td>\n",
       "      <td>Roxbury</td>\n",
       "      <td>MA</td>\n",
       "      <td>2118</td>\n",
       "      <td>Active</td>\n",
       "      <td>FS</td>\n",
       "      <td>Eating &amp; Drinking</td>\n",
       "      <td>2013-08-15 08:19:58</td>\n",
       "      <td>16174274054</td>\n",
       "      <td>70068</td>\n",
       "      <td>(42.33474, -71.07567)</td>\n",
       "    </tr>\n",
       "  </tbody>\n",
       "</table>\n",
       "</div>"
      ],
      "text/plain": [
       "           BusinessName DBAName       Address           City State   Zip  \\\n",
       "10    7 Pond Coffee Bar     NaN    597 Centre  Jamaica Plain    MA  2130   \n",
       "1873    PHO SO 1 BOSTON     NaN     223 Adams     Dorchester    MA  2122   \n",
       "1881  Pier 6 Restaurant     NaN      1 Eighth    Charlestown    MA  2129   \n",
       "1902         Pizza Stop     NaN  851 Harrison        Roxbury    MA  2118   \n",
       "\n",
       "     LICSTATUS LICENSECAT                       DESCRIPT      LicenseAddDtTm  \\\n",
       "10      Active         FT  Eating & Drinking w/ Take Out 2013-08-15 08:59:40   \n",
       "1873    Active         FS              Eating & Drinking 2013-08-15 09:23:52   \n",
       "1881    Active         FS              Eating & Drinking 2013-08-15 08:49:47   \n",
       "1902    Active         FS              Eating & Drinking 2013-08-15 08:19:58   \n",
       "\n",
       "           DAYPHN  Property_ID                 Location  \n",
       "10    10000000000        28129     (42.3149, -71.11427)  \n",
       "1873  16174368888       156041  (42.301468, -71.060031)  \n",
       "1881  10000000000       343036  (42.373172, -71.050092)  \n",
       "1902  16174274054        70068    (42.33474, -71.07567)  "
      ]
     },
     "execution_count": 69,
     "metadata": {},
     "output_type": "execute_result"
    }
   ],
   "source": [
    "df_orig[(df_orig['LicenseAddDtTm'].dt.year == 2013) &\n",
    "        (df_orig['LicenseAddDtTm'].dt.month == 8) &\n",
    "        (df_orig['LicenseAddDtTm'].dt.day == 15)]"
   ]
  },
  {
   "cell_type": "code",
   "execution_count": 71,
   "metadata": {
    "collapsed": false
   },
   "outputs": [],
   "source": [
    "df['total'] = df[['Eating & Drinking', 'Eating & Drinking w/ Take Out']].sum(axis=1)"
   ]
  },
  {
   "cell_type": "code",
   "execution_count": 73,
   "metadata": {
    "collapsed": false
   },
   "outputs": [
    {
     "data": {
      "text/html": [
       "<div>\n",
       "<table border=\"1\" class=\"dataframe\">\n",
       "  <thead>\n",
       "    <tr style=\"text-align: right;\">\n",
       "      <th>DESCRIPT</th>\n",
       "      <th>date</th>\n",
       "      <th>Eating &amp; Drinking</th>\n",
       "      <th>Eating &amp; Drinking w/ Take Out</th>\n",
       "      <th>total</th>\n",
       "    </tr>\n",
       "  </thead>\n",
       "  <tbody>\n",
       "    <tr>\n",
       "      <th>0</th>\n",
       "      <td>2012-01-04</td>\n",
       "      <td>0</td>\n",
       "      <td>1</td>\n",
       "      <td>1</td>\n",
       "    </tr>\n",
       "    <tr>\n",
       "      <th>1</th>\n",
       "      <td>2012-01-06</td>\n",
       "      <td>1</td>\n",
       "      <td>2</td>\n",
       "      <td>3</td>\n",
       "    </tr>\n",
       "    <tr>\n",
       "      <th>2</th>\n",
       "      <td>2012-01-11</td>\n",
       "      <td>0</td>\n",
       "      <td>1</td>\n",
       "      <td>1</td>\n",
       "    </tr>\n",
       "    <tr>\n",
       "      <th>3</th>\n",
       "      <td>2012-01-12</td>\n",
       "      <td>1</td>\n",
       "      <td>2</td>\n",
       "      <td>3</td>\n",
       "    </tr>\n",
       "    <tr>\n",
       "      <th>4</th>\n",
       "      <td>2012-01-17</td>\n",
       "      <td>2</td>\n",
       "      <td>3</td>\n",
       "      <td>5</td>\n",
       "    </tr>\n",
       "  </tbody>\n",
       "</table>\n",
       "</div>"
      ],
      "text/plain": [
       "DESCRIPT        date  Eating & Drinking  Eating & Drinking w/ Take Out  total\n",
       "0         2012-01-04                  0                              1      1\n",
       "1         2012-01-06                  1                              2      3\n",
       "2         2012-01-11                  0                              1      1\n",
       "3         2012-01-12                  1                              2      3\n",
       "4         2012-01-17                  2                              3      5"
      ]
     },
     "execution_count": 73,
     "metadata": {},
     "output_type": "execute_result"
    }
   ],
   "source": [
    "df.head()"
   ]
  },
  {
   "cell_type": "code",
   "execution_count": 75,
   "metadata": {
    "collapsed": false
   },
   "outputs": [],
   "source": [
    "assert df['total'].sum() == 556.0"
   ]
  },
  {
   "cell_type": "code",
   "execution_count": 76,
   "metadata": {
    "collapsed": false
   },
   "outputs": [
    {
     "data": {
      "text/html": [
       "<div>\n",
       "<table border=\"1\" class=\"dataframe\">\n",
       "  <thead>\n",
       "    <tr style=\"text-align: right;\">\n",
       "      <th></th>\n",
       "      <th>date</th>\n",
       "      <th>eating_and_drinking</th>\n",
       "      <th>eating_and_drinking_with_take_out</th>\n",
       "      <th>total</th>\n",
       "    </tr>\n",
       "  </thead>\n",
       "  <tbody>\n",
       "    <tr>\n",
       "      <th>0</th>\n",
       "      <td>2012-01-04</td>\n",
       "      <td>0</td>\n",
       "      <td>1</td>\n",
       "      <td>1</td>\n",
       "    </tr>\n",
       "    <tr>\n",
       "      <th>1</th>\n",
       "      <td>2012-01-06</td>\n",
       "      <td>1</td>\n",
       "      <td>2</td>\n",
       "      <td>3</td>\n",
       "    </tr>\n",
       "    <tr>\n",
       "      <th>2</th>\n",
       "      <td>2012-01-11</td>\n",
       "      <td>0</td>\n",
       "      <td>1</td>\n",
       "      <td>1</td>\n",
       "    </tr>\n",
       "    <tr>\n",
       "      <th>3</th>\n",
       "      <td>2012-01-12</td>\n",
       "      <td>1</td>\n",
       "      <td>2</td>\n",
       "      <td>3</td>\n",
       "    </tr>\n",
       "    <tr>\n",
       "      <th>4</th>\n",
       "      <td>2012-01-17</td>\n",
       "      <td>2</td>\n",
       "      <td>3</td>\n",
       "      <td>5</td>\n",
       "    </tr>\n",
       "  </tbody>\n",
       "</table>\n",
       "</div>"
      ],
      "text/plain": [
       "         date  eating_and_drinking  eating_and_drinking_with_take_out  total\n",
       "0  2012-01-04                    0                                  1      1\n",
       "1  2012-01-06                    1                                  2      3\n",
       "2  2012-01-11                    0                                  1      1\n",
       "3  2012-01-12                    1                                  2      3\n",
       "4  2012-01-17                    2                                  3      5"
      ]
     },
     "execution_count": 76,
     "metadata": {},
     "output_type": "execute_result"
    }
   ],
   "source": [
    "df = df_rearrange_columns(df,\n",
    "                          ['date', 'eating_and_drinking', 'eating_and_drinking_with_take_out', 'total'],\n",
    "                          ['date', 'eating_and_drinking', 'eating_and_drinking_with_take_out', 'total'])\n",
    "df.head()"
   ]
  },
  {
   "cell_type": "code",
   "execution_count": 81,
   "metadata": {
    "collapsed": false
   },
   "outputs": [],
   "source": [
    "df['date'] = pd.to_datetime(df['date'])\n",
    "df['date'] = df['date'].map(lambda x: int((x - datetime.datetime(1970, 1, 1)).total_seconds() * 1000))"
   ]
  },
  {
   "cell_type": "code",
   "execution_count": 82,
   "metadata": {
    "collapsed": false
   },
   "outputs": [
    {
     "data": {
      "text/html": [
       "<div>\n",
       "<table border=\"1\" class=\"dataframe\">\n",
       "  <thead>\n",
       "    <tr style=\"text-align: right;\">\n",
       "      <th></th>\n",
       "      <th>date</th>\n",
       "      <th>eating_and_drinking</th>\n",
       "      <th>eating_and_drinking_with_take_out</th>\n",
       "      <th>total</th>\n",
       "    </tr>\n",
       "  </thead>\n",
       "  <tbody>\n",
       "    <tr>\n",
       "      <th>0</th>\n",
       "      <td>1325635200000</td>\n",
       "      <td>0</td>\n",
       "      <td>1</td>\n",
       "      <td>1</td>\n",
       "    </tr>\n",
       "    <tr>\n",
       "      <th>1</th>\n",
       "      <td>1325808000000</td>\n",
       "      <td>1</td>\n",
       "      <td>2</td>\n",
       "      <td>3</td>\n",
       "    </tr>\n",
       "    <tr>\n",
       "      <th>2</th>\n",
       "      <td>1326240000000</td>\n",
       "      <td>0</td>\n",
       "      <td>1</td>\n",
       "      <td>1</td>\n",
       "    </tr>\n",
       "    <tr>\n",
       "      <th>3</th>\n",
       "      <td>1326326400000</td>\n",
       "      <td>1</td>\n",
       "      <td>2</td>\n",
       "      <td>3</td>\n",
       "    </tr>\n",
       "    <tr>\n",
       "      <th>4</th>\n",
       "      <td>1326758400000</td>\n",
       "      <td>2</td>\n",
       "      <td>3</td>\n",
       "      <td>5</td>\n",
       "    </tr>\n",
       "  </tbody>\n",
       "</table>\n",
       "</div>"
      ],
      "text/plain": [
       "            date  eating_and_drinking  eating_and_drinking_with_take_out  \\\n",
       "0  1325635200000                    0                                  1   \n",
       "1  1325808000000                    1                                  2   \n",
       "2  1326240000000                    0                                  1   \n",
       "3  1326326400000                    1                                  2   \n",
       "4  1326758400000                    2                                  3   \n",
       "\n",
       "   total  \n",
       "0      1  \n",
       "1      3  \n",
       "2      1  \n",
       "3      3  \n",
       "4      5  "
      ]
     },
     "execution_count": 82,
     "metadata": {},
     "output_type": "execute_result"
    }
   ],
   "source": [
    "df.head()"
   ]
  },
  {
   "cell_type": "code",
   "execution_count": 89,
   "metadata": {
    "collapsed": false
   },
   "outputs": [],
   "source": [
    "df.columns = ['start_date'] +  df.columns.tolist()[1:]"
   ]
  },
  {
   "cell_type": "code",
   "execution_count": 90,
   "metadata": {
    "collapsed": false
   },
   "outputs": [
    {
     "data": {
      "text/html": [
       "<div>\n",
       "<table border=\"1\" class=\"dataframe\">\n",
       "  <thead>\n",
       "    <tr style=\"text-align: right;\">\n",
       "      <th></th>\n",
       "      <th>start_date</th>\n",
       "      <th>eating_and_drinking</th>\n",
       "      <th>eating_and_drinking_with_take_out</th>\n",
       "      <th>total</th>\n",
       "    </tr>\n",
       "  </thead>\n",
       "  <tbody>\n",
       "    <tr>\n",
       "      <th>0</th>\n",
       "      <td>1325635200000</td>\n",
       "      <td>0</td>\n",
       "      <td>1</td>\n",
       "      <td>1</td>\n",
       "    </tr>\n",
       "    <tr>\n",
       "      <th>1</th>\n",
       "      <td>1325808000000</td>\n",
       "      <td>1</td>\n",
       "      <td>2</td>\n",
       "      <td>3</td>\n",
       "    </tr>\n",
       "    <tr>\n",
       "      <th>2</th>\n",
       "      <td>1326240000000</td>\n",
       "      <td>0</td>\n",
       "      <td>1</td>\n",
       "      <td>1</td>\n",
       "    </tr>\n",
       "    <tr>\n",
       "      <th>3</th>\n",
       "      <td>1326326400000</td>\n",
       "      <td>1</td>\n",
       "      <td>2</td>\n",
       "      <td>3</td>\n",
       "    </tr>\n",
       "    <tr>\n",
       "      <th>4</th>\n",
       "      <td>1326758400000</td>\n",
       "      <td>2</td>\n",
       "      <td>3</td>\n",
       "      <td>5</td>\n",
       "    </tr>\n",
       "  </tbody>\n",
       "</table>\n",
       "</div>"
      ],
      "text/plain": [
       "      start_date  eating_and_drinking  eating_and_drinking_with_take_out  \\\n",
       "0  1325635200000                    0                                  1   \n",
       "1  1325808000000                    1                                  2   \n",
       "2  1326240000000                    0                                  1   \n",
       "3  1326326400000                    1                                  2   \n",
       "4  1326758400000                    2                                  3   \n",
       "\n",
       "   total  \n",
       "0      1  \n",
       "1      3  \n",
       "2      1  \n",
       "3      3  \n",
       "4      5  "
      ]
     },
     "execution_count": 90,
     "metadata": {},
     "output_type": "execute_result"
    }
   ],
   "source": [
    "df.head()"
   ]
  },
  {
   "cell_type": "code",
   "execution_count": 93,
   "metadata": {
    "collapsed": true
   },
   "outputs": [],
   "source": [
    "df = df.astype(int)"
   ]
  },
  {
   "cell_type": "code",
   "execution_count": 94,
   "metadata": {
    "collapsed": true
   },
   "outputs": [],
   "source": [
    "df_to_json_split_wo_index(df, \n",
    "                          'food_vendor_graph_data.json', \n",
    "                          ['Start Date (ms from epoch)',\n",
    "                           'Vendors licensed as Eating and Drinking',\n",
    "                           'Vendors licensed as Eating and Drinking with Take Out',\n",
    "                           'Total Vendors Licensed'])"
   ]
  },
  {
   "cell_type": "code",
   "execution_count": 95,
   "metadata": {
    "collapsed": false
   },
   "outputs": [
    {
     "data": {
      "text/plain": [
       "556"
      ]
     },
     "execution_count": 95,
     "metadata": {},
     "output_type": "execute_result"
    }
   ],
   "source": [
    "df['total'].sum()"
   ]
  },
  {
   "cell_type": "markdown",
   "metadata": {},
   "source": [
    "# Food Vendor Description Data"
   ]
  },
  {
   "cell_type": "code",
   "execution_count": 169,
   "metadata": {
    "collapsed": false
   },
   "outputs": [],
   "source": [
    "df = df_orig = pd.read_csv(os.path.join(DATA_DIR, 'CityOfBoston_Active_Food_Establishment_Licenses.csv'),\n",
    "                           usecols=['BusinessName', 'Address', 'City', 'DESCRIPT', 'Location', 'LicenseAddDtTm'],\n",
    "                           parse_dates=['LicenseAddDtTm'])"
   ]
  },
  {
   "cell_type": "code",
   "execution_count": 170,
   "metadata": {
    "collapsed": false
   },
   "outputs": [
    {
     "data": {
      "text/html": [
       "<div>\n",
       "<table border=\"1\" class=\"dataframe\">\n",
       "  <thead>\n",
       "    <tr style=\"text-align: right;\">\n",
       "      <th></th>\n",
       "      <th>BusinessName</th>\n",
       "      <th>Address</th>\n",
       "      <th>City</th>\n",
       "      <th>DESCRIPT</th>\n",
       "      <th>LicenseAddDtTm</th>\n",
       "      <th>Location</th>\n",
       "    </tr>\n",
       "  </thead>\n",
       "  <tbody>\n",
       "    <tr>\n",
       "      <th>0</th>\n",
       "      <td># 7 RESTAURANT</td>\n",
       "      <td>225 Grove</td>\n",
       "      <td>West Roxbury</td>\n",
       "      <td>Eating &amp; Drinking w/ Take Out</td>\n",
       "      <td>2007-03-23 15:20:59</td>\n",
       "      <td>(42.261873, -71.15741)</td>\n",
       "    </tr>\n",
       "    <tr>\n",
       "      <th>1</th>\n",
       "      <td>129 Lake Street Cafe</td>\n",
       "      <td>127 LAKE</td>\n",
       "      <td>Brighton/</td>\n",
       "      <td>Eating &amp; Drinking</td>\n",
       "      <td>2010-10-14 12:49:26</td>\n",
       "      <td>(42.3594, -71.0587)</td>\n",
       "    </tr>\n",
       "    <tr>\n",
       "      <th>2</th>\n",
       "      <td>149 Eat Street</td>\n",
       "      <td>300 CHELSEA</td>\n",
       "      <td>Charlestown/</td>\n",
       "      <td>Eating &amp; Drinking</td>\n",
       "      <td>2007-10-11 09:08:52</td>\n",
       "      <td>(42.3594, -71.0587)</td>\n",
       "    </tr>\n",
       "    <tr>\n",
       "      <th>3</th>\n",
       "      <td>163 Vietnamese Sandwich</td>\n",
       "      <td>66 Harrison</td>\n",
       "      <td>BOSTON</td>\n",
       "      <td>Eating &amp; Drinking</td>\n",
       "      <td>2007-08-09 13:26:45</td>\n",
       "      <td>(42.3594, -71.0587)</td>\n",
       "    </tr>\n",
       "    <tr>\n",
       "      <th>4</th>\n",
       "      <td>20TH CENTRY BOWLING LANES</td>\n",
       "      <td>1231 Hyde Park</td>\n",
       "      <td>Hyde Park</td>\n",
       "      <td>Eating &amp; Drinking w/ Take Out</td>\n",
       "      <td>2006-12-07 13:34:04</td>\n",
       "      <td>(42.25682, -71.12411)</td>\n",
       "    </tr>\n",
       "  </tbody>\n",
       "</table>\n",
       "</div>"
      ],
      "text/plain": [
       "                BusinessName         Address          City  \\\n",
       "0             # 7 RESTAURANT       225 Grove  West Roxbury   \n",
       "1       129 Lake Street Cafe        127 LAKE     Brighton/   \n",
       "2             149 Eat Street     300 CHELSEA  Charlestown/   \n",
       "3    163 Vietnamese Sandwich     66 Harrison        BOSTON   \n",
       "4  20TH CENTRY BOWLING LANES  1231 Hyde Park     Hyde Park   \n",
       "\n",
       "                        DESCRIPT      LicenseAddDtTm                Location  \n",
       "0  Eating & Drinking w/ Take Out 2007-03-23 15:20:59  (42.261873, -71.15741)  \n",
       "1              Eating & Drinking 2010-10-14 12:49:26     (42.3594, -71.0587)  \n",
       "2              Eating & Drinking 2007-10-11 09:08:52     (42.3594, -71.0587)  \n",
       "3              Eating & Drinking 2007-08-09 13:26:45     (42.3594, -71.0587)  \n",
       "4  Eating & Drinking w/ Take Out 2006-12-07 13:34:04   (42.25682, -71.12411)  "
      ]
     },
     "execution_count": 170,
     "metadata": {},
     "output_type": "execute_result"
    }
   ],
   "source": [
    "df.head()"
   ]
  },
  {
   "cell_type": "code",
   "execution_count": 171,
   "metadata": {
    "collapsed": true
   },
   "outputs": [],
   "source": [
    "df = df[df['LicenseAddDtTm'].dt.year >= 2012]"
   ]
  },
  {
   "cell_type": "code",
   "execution_count": 172,
   "metadata": {
    "collapsed": false
   },
   "outputs": [
    {
     "data": {
      "text/html": [
       "<div>\n",
       "<table border=\"1\" class=\"dataframe\">\n",
       "  <thead>\n",
       "    <tr style=\"text-align: right;\">\n",
       "      <th></th>\n",
       "      <th>BusinessName</th>\n",
       "      <th>Address</th>\n",
       "      <th>City</th>\n",
       "      <th>DESCRIPT</th>\n",
       "      <th>LicenseAddDtTm</th>\n",
       "      <th>Location</th>\n",
       "    </tr>\n",
       "  </thead>\n",
       "  <tbody>\n",
       "    <tr>\n",
       "      <th>10</th>\n",
       "      <td>7 Pond Coffee Bar</td>\n",
       "      <td>597 Centre</td>\n",
       "      <td>Jamaica Plain</td>\n",
       "      <td>Eating &amp; Drinking w/ Take Out</td>\n",
       "      <td>2013-08-15 08:59:40</td>\n",
       "      <td>(42.3149, -71.11427)</td>\n",
       "    </tr>\n",
       "    <tr>\n",
       "      <th>13</th>\n",
       "      <td>75 On Liberty Wharf</td>\n",
       "      <td>220 Northern</td>\n",
       "      <td>Boston</td>\n",
       "      <td>Eating &amp; Drinking</td>\n",
       "      <td>2012-05-18 10:28:35</td>\n",
       "      <td>(42.3594, -71.0587)</td>\n",
       "    </tr>\n",
       "    <tr>\n",
       "      <th>16</th>\n",
       "      <td>A @ Time</td>\n",
       "      <td>417 Cambridge</td>\n",
       "      <td>Allston</td>\n",
       "      <td>Eating &amp; Drinking w/ Take Out</td>\n",
       "      <td>2012-11-19 13:13:38</td>\n",
       "      <td>(42.355123, -71.134062)</td>\n",
       "    </tr>\n",
       "    <tr>\n",
       "      <th>21</th>\n",
       "      <td>Abby Lane</td>\n",
       "      <td>253 Tremont</td>\n",
       "      <td>Boston</td>\n",
       "      <td>Eating &amp; Drinking</td>\n",
       "      <td>2012-05-01 14:10:49</td>\n",
       "      <td>(42.35044, -71.06535)</td>\n",
       "    </tr>\n",
       "    <tr>\n",
       "      <th>23</th>\n",
       "      <td>ABIGAIL'S TEA ROOM @CONGRESS BRIDGE</td>\n",
       "      <td>306 Congress</td>\n",
       "      <td>Boston</td>\n",
       "      <td>Eating &amp; Drinking</td>\n",
       "      <td>2012-01-17 12:47:36</td>\n",
       "      <td>(42.3594, -71.0587)</td>\n",
       "    </tr>\n",
       "  </tbody>\n",
       "</table>\n",
       "</div>"
      ],
      "text/plain": [
       "                           BusinessName        Address           City  \\\n",
       "10                    7 Pond Coffee Bar     597 Centre  Jamaica Plain   \n",
       "13                  75 On Liberty Wharf   220 Northern         Boston   \n",
       "16                             A @ Time  417 Cambridge        Allston   \n",
       "21                            Abby Lane    253 Tremont         Boston   \n",
       "23  ABIGAIL'S TEA ROOM @CONGRESS BRIDGE   306 Congress         Boston   \n",
       "\n",
       "                         DESCRIPT      LicenseAddDtTm                 Location  \n",
       "10  Eating & Drinking w/ Take Out 2013-08-15 08:59:40     (42.3149, -71.11427)  \n",
       "13              Eating & Drinking 2012-05-18 10:28:35      (42.3594, -71.0587)  \n",
       "16  Eating & Drinking w/ Take Out 2012-11-19 13:13:38  (42.355123, -71.134062)  \n",
       "21              Eating & Drinking 2012-05-01 14:10:49    (42.35044, -71.06535)  \n",
       "23              Eating & Drinking 2012-01-17 12:47:36      (42.3594, -71.0587)  "
      ]
     },
     "execution_count": 172,
     "metadata": {},
     "output_type": "execute_result"
    }
   ],
   "source": [
    "df.head()"
   ]
  },
  {
   "cell_type": "code",
   "execution_count": 173,
   "metadata": {
    "collapsed": false
   },
   "outputs": [
    {
     "name": "stderr",
     "output_type": "stream",
     "text": [
      "/usr/lib/python2.7/site-packages/IPython/kernel/__main__.py:1: SettingWithCopyWarning: \n",
      "A value is trying to be set on a copy of a slice from a DataFrame.\n",
      "Try using .loc[row_indexer,col_indexer] = value instead\n",
      "\n",
      "See the the caveats in the documentation: http://pandas.pydata.org/pandas-docs/stable/indexing.html#indexing-view-versus-copy\n",
      "  if __name__ == '__main__':\n"
     ]
    }
   ],
   "source": [
    "df['description'] = ''\n",
    "\n",
    "def smush(row):\n",
    "    desc = '{} [{}, {}]'.format(row['BusinessName'],\n",
    "                                row['Address'],\n",
    "                                row['City'])\n",
    "    \n",
    "    if row['DESCRIPT'].endswith('Take Out'):\n",
    "        desc += ' [Takeout]'\n",
    "    \n",
    "    row['description'] = desc\n",
    "    \n",
    "    return row\n",
    "\n",
    "df = df.apply(smush, axis=1)\n",
    "\n",
    "try:\n",
    "    df.drop(['BusinessName', 'Address', 'City', 'DESCRIPT'], axis=1, inplace=True)\n",
    "except ValueError:\n",
    "    pass"
   ]
  },
  {
   "cell_type": "code",
   "execution_count": 174,
   "metadata": {
    "collapsed": false
   },
   "outputs": [
    {
     "data": {
      "text/html": [
       "<div>\n",
       "<table border=\"1\" class=\"dataframe\">\n",
       "  <thead>\n",
       "    <tr style=\"text-align: right;\">\n",
       "      <th></th>\n",
       "      <th>LicenseAddDtTm</th>\n",
       "      <th>Location</th>\n",
       "      <th>description</th>\n",
       "    </tr>\n",
       "  </thead>\n",
       "  <tbody>\n",
       "    <tr>\n",
       "      <th>10</th>\n",
       "      <td>2013-08-15 08:59:40</td>\n",
       "      <td>(42.3149, -71.11427)</td>\n",
       "      <td>7 Pond Coffee Bar [597 Centre, Jamaica Plain] ...</td>\n",
       "    </tr>\n",
       "    <tr>\n",
       "      <th>13</th>\n",
       "      <td>2012-05-18 10:28:35</td>\n",
       "      <td>(42.3594, -71.0587)</td>\n",
       "      <td>75 On Liberty Wharf [220 Northern, Boston]</td>\n",
       "    </tr>\n",
       "    <tr>\n",
       "      <th>16</th>\n",
       "      <td>2012-11-19 13:13:38</td>\n",
       "      <td>(42.355123, -71.134062)</td>\n",
       "      <td>A @ Time [417 Cambridge, Allston] [Takeout]</td>\n",
       "    </tr>\n",
       "    <tr>\n",
       "      <th>21</th>\n",
       "      <td>2012-05-01 14:10:49</td>\n",
       "      <td>(42.35044, -71.06535)</td>\n",
       "      <td>Abby Lane [253 Tremont, Boston]</td>\n",
       "    </tr>\n",
       "    <tr>\n",
       "      <th>23</th>\n",
       "      <td>2012-01-17 12:47:36</td>\n",
       "      <td>(42.3594, -71.0587)</td>\n",
       "      <td>ABIGAIL'S TEA ROOM @CONGRESS BRIDGE [306 Congr...</td>\n",
       "    </tr>\n",
       "  </tbody>\n",
       "</table>\n",
       "</div>"
      ],
      "text/plain": [
       "        LicenseAddDtTm                 Location  \\\n",
       "10 2013-08-15 08:59:40     (42.3149, -71.11427)   \n",
       "13 2012-05-18 10:28:35      (42.3594, -71.0587)   \n",
       "16 2012-11-19 13:13:38  (42.355123, -71.134062)   \n",
       "21 2012-05-01 14:10:49    (42.35044, -71.06535)   \n",
       "23 2012-01-17 12:47:36      (42.3594, -71.0587)   \n",
       "\n",
       "                                          description  \n",
       "10  7 Pond Coffee Bar [597 Centre, Jamaica Plain] ...  \n",
       "13         75 On Liberty Wharf [220 Northern, Boston]  \n",
       "16        A @ Time [417 Cambridge, Allston] [Takeout]  \n",
       "21                    Abby Lane [253 Tremont, Boston]  \n",
       "23  ABIGAIL'S TEA ROOM @CONGRESS BRIDGE [306 Congr...  "
      ]
     },
     "execution_count": 174,
     "metadata": {},
     "output_type": "execute_result"
    }
   ],
   "source": [
    "df.head()"
   ]
  },
  {
   "cell_type": "code",
   "execution_count": 175,
   "metadata": {
    "collapsed": false
   },
   "outputs": [],
   "source": [
    "df['LicenseAddDtTm'] = df['LicenseAddDtTm'].map(lambda dt: int((dt - datetime.datetime(1970, 1, 1)).total_seconds() * 1000))"
   ]
  },
  {
   "cell_type": "code",
   "execution_count": 176,
   "metadata": {
    "collapsed": false
   },
   "outputs": [
    {
     "data": {
      "text/html": [
       "<div>\n",
       "<table border=\"1\" class=\"dataframe\">\n",
       "  <thead>\n",
       "    <tr style=\"text-align: right;\">\n",
       "      <th></th>\n",
       "      <th>LicenseAddDtTm</th>\n",
       "      <th>Location</th>\n",
       "      <th>description</th>\n",
       "    </tr>\n",
       "  </thead>\n",
       "  <tbody>\n",
       "    <tr>\n",
       "      <th>10</th>\n",
       "      <td>1376557180000</td>\n",
       "      <td>(42.3149, -71.11427)</td>\n",
       "      <td>7 Pond Coffee Bar [597 Centre, Jamaica Plain] ...</td>\n",
       "    </tr>\n",
       "    <tr>\n",
       "      <th>13</th>\n",
       "      <td>1337336915000</td>\n",
       "      <td>(42.3594, -71.0587)</td>\n",
       "      <td>75 On Liberty Wharf [220 Northern, Boston]</td>\n",
       "    </tr>\n",
       "    <tr>\n",
       "      <th>16</th>\n",
       "      <td>1353330818000</td>\n",
       "      <td>(42.355123, -71.134062)</td>\n",
       "      <td>A @ Time [417 Cambridge, Allston] [Takeout]</td>\n",
       "    </tr>\n",
       "    <tr>\n",
       "      <th>21</th>\n",
       "      <td>1335881449000</td>\n",
       "      <td>(42.35044, -71.06535)</td>\n",
       "      <td>Abby Lane [253 Tremont, Boston]</td>\n",
       "    </tr>\n",
       "    <tr>\n",
       "      <th>23</th>\n",
       "      <td>1326804456000</td>\n",
       "      <td>(42.3594, -71.0587)</td>\n",
       "      <td>ABIGAIL'S TEA ROOM @CONGRESS BRIDGE [306 Congr...</td>\n",
       "    </tr>\n",
       "  </tbody>\n",
       "</table>\n",
       "</div>"
      ],
      "text/plain": [
       "    LicenseAddDtTm                 Location  \\\n",
       "10   1376557180000     (42.3149, -71.11427)   \n",
       "13   1337336915000      (42.3594, -71.0587)   \n",
       "16   1353330818000  (42.355123, -71.134062)   \n",
       "21   1335881449000    (42.35044, -71.06535)   \n",
       "23   1326804456000      (42.3594, -71.0587)   \n",
       "\n",
       "                                          description  \n",
       "10  7 Pond Coffee Bar [597 Centre, Jamaica Plain] ...  \n",
       "13         75 On Liberty Wharf [220 Northern, Boston]  \n",
       "16        A @ Time [417 Cambridge, Allston] [Takeout]  \n",
       "21                    Abby Lane [253 Tremont, Boston]  \n",
       "23  ABIGAIL'S TEA ROOM @CONGRESS BRIDGE [306 Congr...  "
      ]
     },
     "execution_count": 176,
     "metadata": {},
     "output_type": "execute_result"
    }
   ],
   "source": [
    "df.head()"
   ]
  },
  {
   "cell_type": "code",
   "execution_count": 177,
   "metadata": {
    "collapsed": false
   },
   "outputs": [],
   "source": [
    "def parse_loc(row):\n",
    "    lat, lon = map(str.split, row['Location'].strip('()').split(','))\n",
    "    \n",
    "    row['lat'] = lat[0]\n",
    "    row['lon'] = lon[0]\n",
    "    \n",
    "    return row\n",
    "\n",
    "df = df.apply(parse_loc, axis=1)"
   ]
  },
  {
   "cell_type": "code",
   "execution_count": 178,
   "metadata": {
    "collapsed": false
   },
   "outputs": [
    {
     "data": {
      "text/html": [
       "<div>\n",
       "<table border=\"1\" class=\"dataframe\">\n",
       "  <thead>\n",
       "    <tr style=\"text-align: right;\">\n",
       "      <th></th>\n",
       "      <th>LicenseAddDtTm</th>\n",
       "      <th>Location</th>\n",
       "      <th>description</th>\n",
       "      <th>lat</th>\n",
       "      <th>lon</th>\n",
       "    </tr>\n",
       "  </thead>\n",
       "  <tbody>\n",
       "    <tr>\n",
       "      <th>10</th>\n",
       "      <td>1376557180000</td>\n",
       "      <td>(42.3149, -71.11427)</td>\n",
       "      <td>7 Pond Coffee Bar [597 Centre, Jamaica Plain] ...</td>\n",
       "      <td>42.3149</td>\n",
       "      <td>-71.11427</td>\n",
       "    </tr>\n",
       "    <tr>\n",
       "      <th>13</th>\n",
       "      <td>1337336915000</td>\n",
       "      <td>(42.3594, -71.0587)</td>\n",
       "      <td>75 On Liberty Wharf [220 Northern, Boston]</td>\n",
       "      <td>42.3594</td>\n",
       "      <td>-71.0587</td>\n",
       "    </tr>\n",
       "    <tr>\n",
       "      <th>16</th>\n",
       "      <td>1353330818000</td>\n",
       "      <td>(42.355123, -71.134062)</td>\n",
       "      <td>A @ Time [417 Cambridge, Allston] [Takeout]</td>\n",
       "      <td>42.355123</td>\n",
       "      <td>-71.134062</td>\n",
       "    </tr>\n",
       "    <tr>\n",
       "      <th>21</th>\n",
       "      <td>1335881449000</td>\n",
       "      <td>(42.35044, -71.06535)</td>\n",
       "      <td>Abby Lane [253 Tremont, Boston]</td>\n",
       "      <td>42.35044</td>\n",
       "      <td>-71.06535</td>\n",
       "    </tr>\n",
       "    <tr>\n",
       "      <th>23</th>\n",
       "      <td>1326804456000</td>\n",
       "      <td>(42.3594, -71.0587)</td>\n",
       "      <td>ABIGAIL'S TEA ROOM @CONGRESS BRIDGE [306 Congr...</td>\n",
       "      <td>42.3594</td>\n",
       "      <td>-71.0587</td>\n",
       "    </tr>\n",
       "  </tbody>\n",
       "</table>\n",
       "</div>"
      ],
      "text/plain": [
       "    LicenseAddDtTm                 Location  \\\n",
       "10   1376557180000     (42.3149, -71.11427)   \n",
       "13   1337336915000      (42.3594, -71.0587)   \n",
       "16   1353330818000  (42.355123, -71.134062)   \n",
       "21   1335881449000    (42.35044, -71.06535)   \n",
       "23   1326804456000      (42.3594, -71.0587)   \n",
       "\n",
       "                                          description        lat         lon  \n",
       "10  7 Pond Coffee Bar [597 Centre, Jamaica Plain] ...    42.3149   -71.11427  \n",
       "13         75 On Liberty Wharf [220 Northern, Boston]    42.3594    -71.0587  \n",
       "16        A @ Time [417 Cambridge, Allston] [Takeout]  42.355123  -71.134062  \n",
       "21                    Abby Lane [253 Tremont, Boston]   42.35044   -71.06535  \n",
       "23  ABIGAIL'S TEA ROOM @CONGRESS BRIDGE [306 Congr...    42.3594    -71.0587  "
      ]
     },
     "execution_count": 178,
     "metadata": {},
     "output_type": "execute_result"
    }
   ],
   "source": [
    "df.head()"
   ]
  },
  {
   "cell_type": "code",
   "execution_count": 179,
   "metadata": {
    "collapsed": true
   },
   "outputs": [],
   "source": [
    "try:\n",
    "    df.drop('Location', axis=1, inplace=True)\n",
    "except ValueError:\n",
    "    pass"
   ]
  },
  {
   "cell_type": "code",
   "execution_count": 180,
   "metadata": {
    "collapsed": false
   },
   "outputs": [
    {
     "data": {
      "text/html": [
       "<div>\n",
       "<table border=\"1\" class=\"dataframe\">\n",
       "  <thead>\n",
       "    <tr style=\"text-align: right;\">\n",
       "      <th></th>\n",
       "      <th>LicenseAddDtTm</th>\n",
       "      <th>description</th>\n",
       "      <th>lat</th>\n",
       "      <th>lon</th>\n",
       "    </tr>\n",
       "  </thead>\n",
       "  <tbody>\n",
       "    <tr>\n",
       "      <th>10</th>\n",
       "      <td>1376557180000</td>\n",
       "      <td>7 Pond Coffee Bar [597 Centre, Jamaica Plain] ...</td>\n",
       "      <td>42.3149</td>\n",
       "      <td>-71.11427</td>\n",
       "    </tr>\n",
       "    <tr>\n",
       "      <th>13</th>\n",
       "      <td>1337336915000</td>\n",
       "      <td>75 On Liberty Wharf [220 Northern, Boston]</td>\n",
       "      <td>42.3594</td>\n",
       "      <td>-71.0587</td>\n",
       "    </tr>\n",
       "    <tr>\n",
       "      <th>16</th>\n",
       "      <td>1353330818000</td>\n",
       "      <td>A @ Time [417 Cambridge, Allston] [Takeout]</td>\n",
       "      <td>42.355123</td>\n",
       "      <td>-71.134062</td>\n",
       "    </tr>\n",
       "    <tr>\n",
       "      <th>21</th>\n",
       "      <td>1335881449000</td>\n",
       "      <td>Abby Lane [253 Tremont, Boston]</td>\n",
       "      <td>42.35044</td>\n",
       "      <td>-71.06535</td>\n",
       "    </tr>\n",
       "    <tr>\n",
       "      <th>23</th>\n",
       "      <td>1326804456000</td>\n",
       "      <td>ABIGAIL'S TEA ROOM @CONGRESS BRIDGE [306 Congr...</td>\n",
       "      <td>42.3594</td>\n",
       "      <td>-71.0587</td>\n",
       "    </tr>\n",
       "  </tbody>\n",
       "</table>\n",
       "</div>"
      ],
      "text/plain": [
       "    LicenseAddDtTm                                        description  \\\n",
       "10   1376557180000  7 Pond Coffee Bar [597 Centre, Jamaica Plain] ...   \n",
       "13   1337336915000         75 On Liberty Wharf [220 Northern, Boston]   \n",
       "16   1353330818000        A @ Time [417 Cambridge, Allston] [Takeout]   \n",
       "21   1335881449000                    Abby Lane [253 Tremont, Boston]   \n",
       "23   1326804456000  ABIGAIL'S TEA ROOM @CONGRESS BRIDGE [306 Congr...   \n",
       "\n",
       "          lat         lon  \n",
       "10    42.3149   -71.11427  \n",
       "13    42.3594    -71.0587  \n",
       "16  42.355123  -71.134062  \n",
       "21   42.35044   -71.06535  \n",
       "23    42.3594    -71.0587  "
      ]
     },
     "execution_count": 180,
     "metadata": {},
     "output_type": "execute_result"
    }
   ],
   "source": [
    "df.head()"
   ]
  },
  {
   "cell_type": "code",
   "execution_count": 181,
   "metadata": {
    "collapsed": false
   },
   "outputs": [],
   "source": [
    "df = df_rearrange_columns(df, \n",
    "                          ['start_date', 'description', 'latitude', 'longitude'],\n",
    "                          ['start_date', 'latitude', 'longitude', 'description'])"
   ]
  },
  {
   "cell_type": "code",
   "execution_count": 182,
   "metadata": {
    "collapsed": false
   },
   "outputs": [
    {
     "data": {
      "text/html": [
       "<div>\n",
       "<table border=\"1\" class=\"dataframe\">\n",
       "  <thead>\n",
       "    <tr style=\"text-align: right;\">\n",
       "      <th></th>\n",
       "      <th>start_date</th>\n",
       "      <th>latitude</th>\n",
       "      <th>longitude</th>\n",
       "      <th>description</th>\n",
       "    </tr>\n",
       "  </thead>\n",
       "  <tbody>\n",
       "    <tr>\n",
       "      <th>10</th>\n",
       "      <td>1376557180000</td>\n",
       "      <td>42.3149</td>\n",
       "      <td>-71.11427</td>\n",
       "      <td>7 Pond Coffee Bar [597 Centre, Jamaica Plain] ...</td>\n",
       "    </tr>\n",
       "    <tr>\n",
       "      <th>13</th>\n",
       "      <td>1337336915000</td>\n",
       "      <td>42.3594</td>\n",
       "      <td>-71.0587</td>\n",
       "      <td>75 On Liberty Wharf [220 Northern, Boston]</td>\n",
       "    </tr>\n",
       "    <tr>\n",
       "      <th>16</th>\n",
       "      <td>1353330818000</td>\n",
       "      <td>42.355123</td>\n",
       "      <td>-71.134062</td>\n",
       "      <td>A @ Time [417 Cambridge, Allston] [Takeout]</td>\n",
       "    </tr>\n",
       "    <tr>\n",
       "      <th>21</th>\n",
       "      <td>1335881449000</td>\n",
       "      <td>42.35044</td>\n",
       "      <td>-71.06535</td>\n",
       "      <td>Abby Lane [253 Tremont, Boston]</td>\n",
       "    </tr>\n",
       "    <tr>\n",
       "      <th>23</th>\n",
       "      <td>1326804456000</td>\n",
       "      <td>42.3594</td>\n",
       "      <td>-71.0587</td>\n",
       "      <td>ABIGAIL'S TEA ROOM @CONGRESS BRIDGE [306 Congr...</td>\n",
       "    </tr>\n",
       "  </tbody>\n",
       "</table>\n",
       "</div>"
      ],
      "text/plain": [
       "       start_date   latitude   longitude  \\\n",
       "10  1376557180000    42.3149   -71.11427   \n",
       "13  1337336915000    42.3594    -71.0587   \n",
       "16  1353330818000  42.355123  -71.134062   \n",
       "21  1335881449000   42.35044   -71.06535   \n",
       "23  1326804456000    42.3594    -71.0587   \n",
       "\n",
       "                                          description  \n",
       "10  7 Pond Coffee Bar [597 Centre, Jamaica Plain] ...  \n",
       "13         75 On Liberty Wharf [220 Northern, Boston]  \n",
       "16        A @ Time [417 Cambridge, Allston] [Takeout]  \n",
       "21                    Abby Lane [253 Tremont, Boston]  \n",
       "23  ABIGAIL'S TEA ROOM @CONGRESS BRIDGE [306 Congr...  "
      ]
     },
     "execution_count": 182,
     "metadata": {},
     "output_type": "execute_result"
    }
   ],
   "source": [
    "df.head()"
   ]
  },
  {
   "cell_type": "code",
   "execution_count": 183,
   "metadata": {
    "collapsed": true
   },
   "outputs": [],
   "source": [
    "df_to_json_split_wo_index(df, \n",
    "                         'food_vendor_data.json',\n",
    "                         ['Start Date (ms from epoch)',\n",
    "                          'Latitude of Vendor Location',\n",
    "                          'Longitude of Vendor Location',\n",
    "                          'Description of Vendor Name, Location, and Type'])"
   ]
  },
  {
   "cell_type": "code",
   "execution_count": 184,
   "metadata": {
    "collapsed": false
   },
   "outputs": [
    {
     "data": {
      "text/plain": [
       "556"
      ]
     },
     "execution_count": 184,
     "metadata": {},
     "output_type": "execute_result"
    }
   ],
   "source": [
    "len(df)"
   ]
  },
  {
   "cell_type": "code",
   "execution_count": null,
   "metadata": {
    "collapsed": true
   },
   "outputs": [],
   "source": []
  }
 ],
 "metadata": {
  "kernelspec": {
   "display_name": "Python 2",
   "language": "python",
   "name": "python2"
  },
  "language_info": {
   "codemirror_mode": {
    "name": "ipython",
    "version": 2
   },
   "file_extension": ".py",
   "mimetype": "text/x-python",
   "name": "python",
   "nbconvert_exporter": "python",
   "pygments_lexer": "ipython2",
   "version": "2.7.10"
  }
 },
 "nbformat": 4,
 "nbformat_minor": 0
}
