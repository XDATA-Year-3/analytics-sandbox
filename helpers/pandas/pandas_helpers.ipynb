{
 "cells": [
  {
   "cell_type": "code",
   "execution_count": 17,
   "metadata": {
    "collapsed": true
   },
   "outputs": [],
   "source": [
    "import json\n",
    "import pandas as pd\n",
    "import numpy as np"
   ]
  },
  {
   "cell_type": "code",
   "execution_count": 4,
   "metadata": {
    "collapsed": false
   },
   "outputs": [],
   "source": [
    "def df_from_files(files, **kwargs):\n",
    "    \"\"\"\n",
    "    Creates a single pandas dataframe from many files.\n",
    "    \n",
    "    Any additional **kwargs get passed to pd.read_csv.\n",
    "    \"\"\"\n",
    "    df = None\n",
    "\n",
    "    for filename in files:\n",
    "        tmp_df = pd.read_csv(filename, **kwargs)\n",
    "        df = tmp_df if df is None else df.append(tmp_df)\n",
    "            \n",
    "    return df"
   ]
  },
  {
   "cell_type": "code",
   "execution_count": 16,
   "metadata": {
    "collapsed": true
   },
   "outputs": [],
   "source": [
    "def df_rearrange_columns(df, column_names, column_ordering):\n",
    "    df.columns = column_names\n",
    "    df = df.ix[:, column_ordering]\n",
    "\n",
    "    return df"
   ]
  },
  {
   "cell_type": "code",
   "execution_count": 18,
   "metadata": {
    "collapsed": true
   },
   "outputs": [],
   "source": [
    "def df_to_json_split_wo_index(df, outfilename, description):\n",
    "    df.to_json(outfilename, orient='split')\n",
    "    \n",
    "    with open(outfilename, 'rb') as infile:\n",
    "        data = json.load(infile)\n",
    "        \n",
    "    # remove index\n",
    "    del data['index']\n",
    "    # rename columns to fields\n",
    "    data['fields'] = data['columns']\n",
    "    del data['columns']\n",
    "    \n",
    "    # add description of fields\n",
    "    data['description'] = description\n",
    "    \n",
    "    with open(outfilename, 'wb') as outfile:\n",
    "        json.dump(data, outfile, indent=4)"
   ]
  }
 ],
 "metadata": {
  "kernelspec": {
   "display_name": "Python 2",
   "language": "python",
   "name": "python2"
  },
  "language_info": {
   "codemirror_mode": {
    "name": "ipython",
    "version": 2
   },
   "file_extension": ".py",
   "mimetype": "text/x-python",
   "name": "python",
   "nbconvert_exporter": "python",
   "pygments_lexer": "ipython2",
   "version": "2.7.10"
  }
 },
 "nbformat": 4,
 "nbformat_minor": 0
}
